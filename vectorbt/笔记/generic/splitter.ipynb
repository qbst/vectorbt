{
 "cells": [
  {
   "cell_type": "markdown",
   "id": "223f6a0a",
   "metadata": {},
   "source": [
    "# Python 知识"
   ]
  },
  {
   "cell_type": "markdown",
   "id": "a876051a",
   "metadata": {},
   "source": [
    "# 代码分析"
   ]
  },
  {
   "cell_type": "markdown",
   "id": "6be13312",
   "metadata": {},
   "source": [
    "## 类继承关系\n",
    "```mermaid\n",
    "classDiagram\n",
    "    %% 元类层次结构\n",
    "    class typing.Protocol\n",
    "    class SplitterT\n",
    "    class BaseSplitter\n",
    "    class RangeSplitter\n",
    "    class RollingSplitter\n",
    "    class ExpandingSplitter\n",
    "    \n",
    "    %% 继承关系\n",
    "    typing.Protocol <|-- SplitterT\n",
    "    BaseSplitter <|-- RangeSplitter\n",
    "    BaseSplitter <|-- RollingSplitter\n",
    "    BaseSplitter <|-- ExpandingSplitter\n",
    "```"
   ]
  },
  {
   "cell_type": "markdown",
   "id": "c02c986a",
   "metadata": {},
   "source": [
    "## def split_ranges_into_sets"
   ]
  },
  {
   "cell_type": "markdown",
   "id": "649f9969",
   "metadata": {},
   "source": [
    "### 例子"
   ]
  },
  {
   "cell_type": "code",
   "execution_count": 2,
   "id": "8a9666d9",
   "metadata": {},
   "outputs": [],
   "source": [
    "from vectorbt.generic.splitters import split_ranges_into_sets"
   ]
  },
  {
   "cell_type": "code",
   "execution_count": 1,
   "id": "8419854f",
   "metadata": {},
   "outputs": [
    {
     "name": "stdout",
     "output_type": "stream",
     "text": [
      "训练集: [ 0  1  2  3  4  5  6  7  8  9 10 11 12 13 14 15 16 17 18 19 20 21 22 23\n",
      " 24 25 26 27 28 29 30 31 32 33 34 35 36 37 38 39 40 41 42 43 44 45 46 47\n",
      " 48 49], 测试集: [50 51 52 53 54 55 56 57 58 59 60 61 62 63 64 65 66 67 68 69 70 71 72 73\n",
      " 74 75 76 77 78 79 80 81 82 83 84 85 86 87 88 89 90 91 92 93 94 95 96 97\n",
      " 98 99]\n",
      "训练集: [50 51 52 53 54 55 56 57 58 59 60 61 62 63 64 65 66 67 68 69 70 71 72 73\n",
      " 74 75 76 77 78 79 80 81 82 83 84 85 86 87 88 89 90 91 92 93 94 95 96 97\n",
      " 98 99], 测试集: [100 101 102 103 104 105 106 107 108 109 110 111 112 113 114 115 116 117\n",
      " 118 119 120 121 122 123 124 125 126 127 128 129 130 131 132 133 134 135\n",
      " 136 137 138 139 140 141 142 143 144 145 146 147 148 149]\n"
     ]
    }
   ],
   "source": [
    "# 示例1：简单分割，50%训练，50%测试\n",
    "start_idxs = [0, 50]\n",
    "end_idxs = [99, 149]\n",
    "set_lens = (0.5,)  # 50%作为第一个数据集\n",
    "for train_idx, test_idx in split_ranges_into_sets(start_idxs, end_idxs, set_lens):\n",
    "    print(f\"训练集: {train_idx}, 测试集: {test_idx}\")"
   ]
  },
  {
   "cell_type": "code",
   "execution_count": null,
   "id": "83c4674d",
   "metadata": {},
   "outputs": [
    {
     "name": "stdout",
     "output_type": "stream",
     "text": [
      "训练集: [ 0  1  2  3  4  5  6  7  8  9 10 11 12 13 14 15 16 17 18 19 20 21 22 23\n",
      " 24 25 26 27 28 29 30 31 32 33 34 35 36 37 38 39 40 41 42 43 44 45 46 47\n",
      " 48 49], 验证集: [50 51 52 53 54 55 56 57 58 59 60 61 62 63 64 65 66 67 68 69 70 71 72 73\n",
      " 74], 测试集: [75 76 77 78 79 80 81 82 83 84 85 86 87 88 89 90 91 92 93 94 95 96 97 98\n",
      " 99]\n",
      "训练集: [50 51 52 53 54 55 56 57 58 59 60 61 62 63 64 65 66 67 68 69 70 71 72 73\n",
      " 74 75 76 77 78 79 80 81 82 83 84 85 86 87 88 89 90 91 92 93 94 95 96 97\n",
      " 98 99], 验证集: [100 101 102 103 104 105 106 107 108 109 110 111 112 113 114 115 116 117\n",
      " 118 119 120 121 122 123 124], 测试集: [125 126 127 128 129 130 131 132 133 134 135 136 137 138 139 140 141 142\n",
      " 143 144 145 146 147 148 149]\n"
     ]
    }
   ],
   "source": [
    "# 示例2：三分割，50%训练，25%验证，25%测试\n",
    "start_idxs = [0, 50]\n",
    "end_idxs = [99, 149]\n",
    "set_lens = (0.5, 0.25)  # 50%训练，25%验证，剩余25%测试\n",
    "for train_idx, valid_idx, test_idx in split_ranges_into_sets(start_idxs, end_idxs, set_lens):\n",
    "    print(f\"训练集: {train_idx}, 验证集: {valid_idx}, 测试集: {test_idx}\")"
   ]
  },
  {
   "cell_type": "code",
   "execution_count": 6,
   "id": "eda56d39",
   "metadata": {},
   "outputs": [
    {
     "name": "stdout",
     "output_type": "stream",
     "text": [
      "训练集: [ 0  1  2  3  4  5  6  7  8  9 10 11 12 13 14 15 16 17 18 19 20 21 22 23\n",
      " 24 25 26 27 28 29 30 31 32 33 34 35 36 37 38 39 40 41 42 43 44 45 46 47\n",
      " 48 49], 验证集: [50 51 52 53 54 55 56 57 58 59 60 61 62 63 64 65 66 67 68 69 70 71 72 73\n",
      " 74 75 76 77 78 79], 测试集: [80 81 82 83 84 85 86 87 88 89 90 91 92 93 94 95 96 97 98 99]\n",
      "训练集: [50 51 52 53 54 55 56 57 58 59 60 61 62 63 64 65 66 67 68 69 70 71 72 73\n",
      " 74 75 76 77 78 79 80 81 82 83 84 85 86 87 88 89 90 91 92 93 94 95 96 97\n",
      " 98 99], 验证集: [100 101 102 103 104 105 106 107 108 109 110 111 112 113 114 115 116 117\n",
      " 118 119 120 121 122 123 124 125 126 127 128 129], 测试集: [130 131 132 133 134 135 136 137 138 139 140 141 142 143 144 145 146 147\n",
      " 148 149]\n"
     ]
    }
   ],
   "source": [
    "# 示例3：固定数量分割\n",
    "start_idxs = [0, 50]\n",
    "end_idxs = [99, 149]\n",
    "set_lens = (50, 30)  # 50个样本训练，30个样本验证，剩余测试\n",
    "for train_idx, valid_idx, test_idx in split_ranges_into_sets(start_idxs, end_idxs, set_lens):\n",
    "    print(f\"训练集: {train_idx}, 验证集: {valid_idx}, 测试集: {test_idx}\")"
   ]
  },
  {
   "cell_type": "code",
   "execution_count": 7,
   "id": "e4de75ea",
   "metadata": {},
   "outputs": [
    {
     "name": "stdout",
     "output_type": "stream",
     "text": [
      "训练集: [ 0  1  2  3  4  5  6  7  8  9 10 11 12 13 14 15 16 17 18 19], 验证集: [20 21 22 23 24 25 26 27 28 29 30 31 32 33 34 35 36 37 38 39 40 41 42 43\n",
      " 44 45 46 47 48 49 50 51 52 53 54 55 56 57 58 59 60 61 62 63 64 65 66 67\n",
      " 68 69], 测试集: [70 71 72 73 74 75 76 77 78 79 80 81 82 83 84 85 86 87 88 89 90 91 92 93\n",
      " 94 95 96 97 98 99]\n",
      "训练集: [50 51 52 53 54 55 56 57 58 59 60 61 62 63 64 65 66 67 68 69], 验证集: [ 70  71  72  73  74  75  76  77  78  79  80  81  82  83  84  85  86  87\n",
      "  88  89  90  91  92  93  94  95  96  97  98  99 100 101 102 103 104 105\n",
      " 106 107 108 109 110 111 112 113 114 115 116 117 118 119], 测试集: [120 121 122 123 124 125 126 127 128 129 130 131 132 133 134 135 136 137\n",
      " 138 139 140 141 142 143 144 145 146 147 148 149]\n"
     ]
    }
   ],
   "source": [
    "start_idxs = [0, 50]\n",
    "end_idxs = [99, 149]\n",
    "# 示例4：反向分割（测试集在前）\n",
    "set_lens = (50, 30)\n",
    "left_to_right = False  # 变长训练集在前，固定测试集在后\n",
    "for train_idx, valid_idx, test_idx in split_ranges_into_sets(start_idxs, end_idxs, set_lens, left_to_right):\n",
    "    print(f\"训练集: {train_idx}, 验证集: {valid_idx}, 测试集: {test_idx}\")"
   ]
  },
  {
   "cell_type": "markdown",
   "id": "48b2cc23",
   "metadata": {},
   "source": [
    "### 源码"
   ]
  },
  {
   "cell_type": "markdown",
   "id": "55c112f7",
   "metadata": {},
   "source": [
    "```python\n",
    "def split_ranges_into_sets(start_idxs: tp.ArrayLike,\n",
    "                           end_idxs: tp.ArrayLike,\n",
    "                           set_lens: tp.MaybeSequence[tp.Sequence[float]] = (),\n",
    "                           left_to_right: tp.MaybeSequence[bool] = True) -> RangesT:\n",
    "    start_idxs = np.asarray(start_idxs)\n",
    "    end_idxs = np.asarray(end_idxs)\n",
    "    checks.assert_len_equal(start_idxs, end_idxs)\n",
    "\n",
    "    for i in range(len(start_idxs)):\n",
    "        start_idx = start_idxs[i]\n",
    "        end_idx = end_idxs[i]\n",
    "\n",
    "        range_len = end_idx - start_idx + 1\n",
    "        new_set_lens = []\n",
    "        if len(set_lens) == 0:\n",
    "            yield (np.arange(start_idx, end_idx + 1),)\n",
    "        else:\n",
    "            if checks.is_sequence(set_lens[0]):\n",
    "                _set_lens = set_lens[i]\n",
    "            else:\n",
    "                _set_lens = set_lens\n",
    "            if checks.is_sequence(left_to_right):\n",
    "                _left_to_right = left_to_right[i]\n",
    "            else:\n",
    "                _left_to_right = left_to_right\n",
    "            for j, set_len in enumerate(_set_lens):\n",
    "                if 0 < set_len < 1:\n",
    "                    set_len = math.floor(set_len * range_len)\n",
    "                if set_len == 0:\n",
    "                    raise ValueError(f\"Set {j} in the range {i} is empty\")\n",
    "                new_set_lens.append(set_len)\n",
    "            if sum(new_set_lens) < range_len:\n",
    "                if _left_to_right:\n",
    "                    new_set_lens = new_set_lens + [range_len - sum(new_set_lens)]\n",
    "                else:\n",
    "                    new_set_lens = [range_len - sum(new_set_lens)] + new_set_lens\n",
    "            else:\n",
    "                raise ValueError(f\"Range of length {range_len} too short to split into {len(_set_lens) + 1} sets\")\n",
    "\n",
    "            idx_offset = 0\n",
    "            set_ranges = []\n",
    "            for set_len in new_set_lens:\n",
    "                new_idx_offset = idx_offset + set_len\n",
    "                set_ranges.append(np.arange(start_idx + idx_offset, start_idx + new_idx_offset))\n",
    "                idx_offset = new_idx_offset\n",
    "\n",
    "            yield tuple(set_ranges)\n",
    "```"
   ]
  }
 ],
 "metadata": {
  "kernelspec": {
   "display_name": "venv_vectorbt",
   "language": "python",
   "name": "python3"
  },
  "language_info": {
   "codemirror_mode": {
    "name": "ipython",
    "version": 3
   },
   "file_extension": ".py",
   "mimetype": "text/x-python",
   "name": "python",
   "nbconvert_exporter": "python",
   "pygments_lexer": "ipython3",
   "version": "3.13.2"
  }
 },
 "nbformat": 4,
 "nbformat_minor": 5
}
