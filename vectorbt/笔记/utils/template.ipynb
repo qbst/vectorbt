{
 "cells": [
  {
   "cell_type": "markdown",
   "metadata": {},
   "source": [
    "# 类继承关系\n",
    "```mermaid\n",
    "classDiagram\n",
    "    class SafeToStr\n",
    "    class Sub\n",
    "    class Rep\n",
    "    class RepEval\n",
    "    class RepFunc\n",
    "    SafeToStr <|-- Sub\n",
    "    SafeToStr <|-- Rep\n",
    "    SafeToStr <|-- RepEval\n",
    "    SafeToStr <|-- RepFunc\n",
    "```"
   ]
  },
  {
   "cell_type": "code",
   "execution_count": 10,
   "metadata": {},
   "outputs": [],
   "source": [
    "from vectorbt.utils import *"
   ]
  },
  {
   "cell_type": "markdown",
   "metadata": {},
   "source": [
    "# class Sub(SafeToStr)\n",
    "字符串模板替换类。支持延迟求值以及映射合并。\n",
    "```python\n",
    "class Sub(SafeToStr):\n",
    "    def __init__(self, template: tp.Union[str, Template], mapping: tp.Optional[tp.Mapping] = None) -> None:\n",
    "        self._template = template  # 存储原始模板，可以是字符串或Template对象\n",
    "        self._mapping = mapping    # 存储初始映射字典\n",
    "\n",
    "    @property\n",
    "    def template(self) -> Template:\n",
    "        if not isinstance(self._template, Template):\n",
    "            return Template(self._template)\n",
    "        return self._template\n",
    "\n",
    "    @property\n",
    "    def mapping(self) -> tp.Mapping:\n",
    "        if self._mapping is None:\n",
    "            return {}\n",
    "        return self._mapping\n",
    "\n",
    "    def substitute(self, mapping: tp.Optional[tp.Mapping] = None) -> str:\n",
    "        mapping = merge_dicts(self.mapping, mapping)\n",
    "        return self.template.substitute(mapping)\n",
    "\n",
    "    def __str__(self) -> str:\n",
    "        return f\"{self.__class__.__name__}(\" \\\n",
    "               f\"template=\\\"{self.template.template}\\\", \" \\\n",
    "               f\"mapping={prepare_for_doc(self.mapping)})\"\n",
    "```"
   ]
  },
  {
   "cell_type": "code",
   "execution_count": 3,
   "metadata": {},
   "outputs": [
    {
     "name": "stdout",
     "output_type": "stream",
     "text": [
      "Hi Bob!\n",
      "Hello Charlie!\n"
     ]
    }
   ],
   "source": [
    "sub = Sub('$greeting $name!', {'greeting': 'Hello'})\n",
    "result1 = sub.substitute({'name': 'Bob', 'greeting': 'Hi'})  # Hi Bob!\n",
    "result2 = sub.substitute({'name': 'Charlie'})  # Hello Charlie!\n",
    "print(result1)\n",
    "print(result2)"
   ]
  },
  {
   "cell_type": "markdown",
   "metadata": {},
   "source": [
    "# class Rep(SafeToStr)\n",
    "简单键值替换类。\n",
    "```python\n",
    "class Rep(SafeToStr):\n",
    "    def __init__(self, key: tp.Hashable, mapping: tp.Optional[tp.Mapping] = None) -> None:\n",
    "        self._key = key        # 存储要查找的键名\n",
    "        self._mapping = mapping # 存储初始映射字典\n",
    "\n",
    "    @property\n",
    "    def key(self) -> tp.Hashable:\n",
    "        return self._key\n",
    "\n",
    "    @property\n",
    "    def mapping(self) -> tp.Mapping:\n",
    "        if self._mapping is None:\n",
    "            return {} \n",
    "        return self._mapping\n",
    "\n",
    "    def replace(self, mapping: tp.Optional[tp.Mapping] = None) -> tp.Any:\n",
    "        mapping = merge_dicts(self.mapping, mapping)\n",
    "        return mapping[self.key]\n",
    "\n",
    "    def __str__(self) -> str:\n",
    "        return f\"{self.__class__.__name__}(\" \\\n",
    "               f\"key='{self.key}', \" \\\n",
    "               f\"mapping={prepare_for_doc(self.mapping)})\"\n",
    "```"
   ]
  },
  {
   "cell_type": "code",
   "execution_count": 4,
   "metadata": {},
   "outputs": [
    {
     "name": "stdout",
     "output_type": "stream",
     "text": [
      "production\n"
     ]
    }
   ],
   "source": [
    "rep = Rep('config', {'config': 'default'})\n",
    "result = rep.replace({'config': 'production'})\n",
    "print(result)"
   ]
  },
  {
   "cell_type": "markdown",
   "metadata": {},
   "source": [
    "# class RepEval(SafeToStr)\n",
    "表达式求值替换类。\n",
    "```python\n",
    "class RepEval(SafeToStr):\n",
    "    def __init__(self, expression: str, mapping: tp.Optional[tp.Mapping] = None) -> None:\n",
    "        self._expression = expression  # 存储要求值的表达式字符串\n",
    "        self._mapping = mapping        # 存储初始映射字典\n",
    "\n",
    "    @property\n",
    "    def expression(self) -> str:\n",
    "        return self._expression\n",
    "\n",
    "    @property\n",
    "    def mapping(self) -> tp.Mapping:\n",
    "        if self._mapping is None:\n",
    "            return {}\n",
    "        return self._mapping\n",
    "\n",
    "    def eval(self, mapping: tp.Optional[tp.Mapping] = None) -> tp.Any:\n",
    "        mapping = merge_dicts(self.mapping, mapping)  # 合并初始映射和当前映射\n",
    "        return eval(self.expression, {}, mapping)     # 使用空的全局环境和合并后的局部环境求值\n",
    "\n",
    "    def __str__(self) -> str:\n",
    "        return f\"{self.__class__.__name__}(\" \\\n",
    "               f\"expression=\\\"{self.expression}\\\", \" \\\n",
    "               f\"mapping={prepare_for_doc(self.mapping)})\"\n",
    "```"
   ]
  },
  {
   "cell_type": "code",
   "execution_count": 5,
   "metadata": {},
   "outputs": [
    {
     "name": "stdout",
     "output_type": "stream",
     "text": [
      "20\n",
      "100\n",
      "[4, 8]\n"
     ]
    }
   ],
   "source": [
    "rep_eval = RepEval('x + y * 2', {'x': 10, 'y': 5})\n",
    "result = rep_eval.eval()\n",
    "print(result)  # 20\n",
    "\n",
    "rep_eval = RepEval('max_val if use_max else min_val')\n",
    "result = rep_eval.eval({'max_val': 100, 'min_val': 1, 'use_max': True})\n",
    "print(result)  # 100\n",
    "\n",
    "rep_eval = RepEval('[x*2 for x in numbers if x > 0]')\n",
    "result = rep_eval.eval({'numbers': [-1, 2, -3, 4]})\n",
    "print(result)  # [4, 8]"
   ]
  },
  {
   "cell_type": "markdown",
   "metadata": {},
   "source": [
    "# class RepFunc(SafeToStr)\n",
    "函数调用替换类\n",
    "```python\n",
    "class RepFunc(SafeToStr):\n",
    "    def __init__(self, func: tp.Callable, mapping: tp.Optional[tp.Mapping] = None) -> None:\n",
    "        self._func = func       # 存储要调用的函数对象\n",
    "        self._mapping = mapping # 存储初始映射字典\n",
    "\n",
    "    @property\n",
    "    def func(self) -> tp.Callable:\n",
    "        return self._func\n",
    "\n",
    "    @property\n",
    "    def mapping(self) -> tp.Mapping:\n",
    "        if self._mapping is None:\n",
    "            return {}\n",
    "        return self._mapping\n",
    "\n",
    "    def call(self, mapping: tp.Optional[tp.Mapping] = None) -> tp.Any:\n",
    "        mapping = merge_dicts(self.mapping, mapping)  # 合并初始映射和当前映射\n",
    "        func_arg_names = get_func_arg_names(self.func)  # 获取函数的参数名列表\n",
    "        func_kwargs = dict()                          # 创建空的关键字参数字典\n",
    "        for k, v in mapping.items():                  # 遍历合并后的映射\n",
    "            if k in func_arg_names:                   # 检查键是否是函数的参数名\n",
    "                func_kwargs[k] = v                    # 如果是，则添加到函数参数字典中\n",
    "        return self.func(**func_kwargs)               # 使用提取的参数调用函数\n",
    "\n",
    "    def __str__(self) -> str:\n",
    "        return f\"{self.__class__.__name__}(\" \\\n",
    "               f\"func={self.func}, \" \\\n",
    "               f\"mapping={prepare_for_doc(self.mapping)})\"\n",
    "```"
   ]
  },
  {
   "cell_type": "code",
   "execution_count": 7,
   "metadata": {},
   "outputs": [
    {
     "name": "stdout",
     "output_type": "stream",
     "text": [
      "50\n"
     ]
    }
   ],
   "source": [
    "def calculate(x, y, operation='add'):\n",
    "    if operation == 'add':\n",
    "        return x + y\n",
    "    elif operation == 'multiply':\n",
    "        return x * y\n",
    "\n",
    "rep_func = RepFunc(calculate, {'x': 10, 'y': 5})\n",
    "result = rep_func.call({'operation': 'multiply'})\n",
    "print(result)  # 50"
   ]
  },
  {
   "cell_type": "markdown",
   "metadata": {},
   "source": [
    "# def has_templates(obj: tp.Any)\n",
    "检查对象是否包含模板元素\n",
    "```python\n",
    "def has_templates(obj: tp.Any) -> tp.Any:\n",
    "    if isinstance(obj, RepFunc):\n",
    "        return True\n",
    "    if isinstance(obj, RepEval):\n",
    "        return True\n",
    "    if isinstance(obj, Rep):\n",
    "        return True\n",
    "    if isinstance(obj, Sub):\n",
    "        return True\n",
    "    if isinstance(obj, Template):\n",
    "        return True\n",
    "    if isinstance(obj, dict):\n",
    "        for k, v in obj.items():\n",
    "            if has_templates(v):\n",
    "                return True\n",
    "    if isinstance(obj, (tuple, list, set, frozenset)):\n",
    "        for v in obj:\n",
    "            if has_templates(v):\n",
    "                return True\n",
    "    return False\n",
    "```"
   ]
  },
  {
   "cell_type": "markdown",
   "metadata": {},
   "source": [
    "# def deep_substitute\n",
    "深度递归 `obj`，找到其中的模板对象并进行替换\n",
    "```python\n",
    "def deep_substitute(obj: tp.Any,\n",
    "                    mapping: tp.Optional[tp.Mapping] = None,\n",
    "                    safe: bool = False,\n",
    "                    make_copy: bool = True) -> tp.Any:\n",
    "    \"\"\"\n",
    "    Args:\n",
    "        obj: 要处理的对象，可以包含模板元素的任意数据结构\n",
    "        mapping: 可选的映射字典，提供模板替换所需的值\n",
    "        safe: 安全模式标志，为True时遇到错误不抛出异常而是返回原模板\n",
    "        make_copy: 是否创建对象副本，为True时会复制容器对象以避免修改原对象\n",
    "        \n",
    "    Returns:\n",
    "        Any: 替换后的对象，如果没有模板元素则返回原对象\n",
    "    \"\"\"\n",
    "    if mapping is None:\n",
    "        mapping = {}\n",
    "    if not has_templates(obj):\n",
    "        return obj\n",
    "    try:\n",
    "        if isinstance(obj, RepFunc):  \n",
    "            return obj.call(mapping)\n",
    "        if isinstance(obj, RepEval):\n",
    "            return obj.eval(mapping)\n",
    "        if isinstance(obj, Rep):\n",
    "            return obj.replace(mapping) \n",
    "        if isinstance(obj, Sub):\n",
    "            return obj.substitute(mapping)\n",
    "        if isinstance(obj, Template):\n",
    "            return obj.substitute(mapping)\n",
    "        if isinstance(obj, dict):                       # 如果是字典类型\n",
    "            if make_copy:\n",
    "                obj = copy(obj)                         # 创建字典的浅复制\n",
    "            for k, v in obj.items():\n",
    "                set_dict_item(obj, k, deep_substitute(v, mapping=mapping, safe=safe), force=True)  # 递归替换值并强制设置\n",
    "            return obj\n",
    "        if isinstance(obj, list):                       # 如果是列表类型\n",
    "            if make_copy:\n",
    "                obj = copy(obj)                         # 创建列表的浅复制\n",
    "            for i in range(len(obj)):\n",
    "                obj[i] = deep_substitute(obj[i], mapping=mapping, safe=safe)  # 递归替换每个元素\n",
    "            return obj\n",
    "        if isinstance(obj, (tuple, set, frozenset)): \n",
    "            result = [] \n",
    "            for o in obj:\n",
    "                result.append(deep_substitute(o, mapping=mapping, safe=safe))  # 递归替换每个元素并添加到结果列表\n",
    "            if checks.is_namedtuple(obj):               # 检查是否是命名元组\n",
    "                return type(obj)(*result)               # 如果是命名元组，使用原类型和结果重新构造\n",
    "            return type(obj)(result)                    # 否则使用原类型构造新的容器对象\n",
    "    except Exception as e:\n",
    "        if not safe:                                    # 如果不是安全模式\n",
    "            raise e                                     # 重新抛出异常\n",
    "    return obj                                          # 如果是安全模式或没有模板，返回原对象\n",
    "```"
   ]
  },
  {
   "cell_type": "code",
   "execution_count": 12,
   "metadata": {},
   "outputs": [
    {
     "name": "stdout",
     "output_type": "stream",
     "text": [
      "{'config': 'prod', 'values': ['data_file', 42], 'meta': {'template': 42}}\n"
     ]
    }
   ],
   "source": [
    "data = {\n",
    "    'config': Rep('env'),\n",
    "    'values': [Sub('${prefix}_${suffix}'), Rep('count')],  # 使用花括号\n",
    "    'meta': {'template': RepEval('x * 2')}\n",
    "}\n",
    "mapping = {'env': 'prod', 'prefix': 'data', 'suffix': 'file', 'count': 42, 'x': 21}\n",
    "result = deep_substitute(data, mapping)\n",
    "print(result)"
   ]
  }
 ],
 "metadata": {
  "kernelspec": {
   "display_name": "venv_vectorbt",
   "language": "python",
   "name": "python3"
  },
  "language_info": {
   "codemirror_mode": {
    "name": "ipython",
    "version": 3
   },
   "file_extension": ".py",
   "mimetype": "text/x-python",
   "name": "python",
   "nbconvert_exporter": "python",
   "pygments_lexer": "ipython3",
   "version": "3.13.2"
  }
 },
 "nbformat": 4,
 "nbformat_minor": 2
}
