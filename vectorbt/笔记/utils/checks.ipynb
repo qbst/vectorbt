{
 "cells": [
  {
   "cell_type": "markdown",
   "metadata": {},
   "source": [
    "## 哈希协议与可哈希类型\n",
    "一个类型如果实现了 `__hash__` 方法，即认为其实现了协议类型 `collections.abc.Hashable`。\n",
    "由于任意类型都继承了 `object`，而 `object` 实现了 `__hash__`，即返回实例的内存地址，所以任意类型都实现了哈希协议。\n",
    "\n",
    "但是实现了哈希协议并不意味着可哈希，可以通过执行`hash(obj)`来判断：\n",
    "- Python查找 `obj.__hash__()` 方法\n",
    "- 如果找到了该方法，则调用它并返回结果\n",
    "- 如果没有找到该方法或方法返回`None`，则抛出`TypeError: unhashable type`异常\n",
    "\n",
    "重写一个类型的 `__hash__` 的规范的方式是：如果 `__eq__` 判断两个实例相同，那么这两个实例 `__hash__` 的返回值也必须相同\n",
    "（注意 `__eq__` 的默认实现是比较两个实例的内存地址是否相同）。"
   ]
  },
  {
   "cell_type": "markdown",
   "metadata": {},
   "source": [
    "## 命名元组 `namedtuple`\n",
    "\n",
    "`namedtuple` 是 Python 标准库 `collections` 模块中的一个工厂函数，主要目的是为了解决普通元组在访问元素时只能通过索引的问题，适合用于定义简单的记录或数据结构。\n",
    "\n",
    "语法：`namedtuple(typename, field_names)`\n",
    "- typename: 创建的 namedtuple 类的名称（字符串）。\n",
    "- field_names: 一个包含字段名称的列表或字符串（字段名称用空格或逗号分隔）。\n",
    "\n",
    "例子：\n",
    "```python\n",
    "from collections import namedtuple\n",
    "\n",
    "# 定义一个名为 'Student' 的 namedtuple 类，包含 'name', 'age', 'DOB' 三个字段\n",
    "Student = namedtuple('Student', ['name', 'age', 'DOB'])\n",
    "# 创建一个 Student 实例\n",
    "s1 = Student('Nandini', '19', '2541997')\n",
    "\n",
    "# 访问元素\n",
    "print(s1.name)  # 通过属性名访问\n",
    "print(s1[1])    # 通过索引访问\n",
    "```"
   ]
  },
  {
   "cell_type": "markdown",
   "metadata": {},
   "source": [
    "## 断言\n",
    "\n",
    "`断言(assert)` 的一般格式为 `assert <expression> [, <optional_message>]`。其中\n",
    "- `<expression>`: 这是一个布尔表达式，assert 会对其进行求值\n",
    "- `[, <optional_message>]`: 可选部分，一个字符串\n",
    "- 如果 <expression> 求值为假，那么 <optional_message> 会被作为参数构造并抛出 `AssertionError` 错误，否则继续运行\n",
    "\n",
    "例子：\n",
    "\n",
    "```python\n",
    "python err.py\n",
    "def foo(s):\n",
    "    n = int(s)\n",
    "    assert n != 0, 'n is zero!'\n",
    "    return 10 / n\n",
    "\n",
    "foo('0')\n",
    "\n",
    "# 结果\n",
    "Traceback (most recent call last):\n",
    "  ...\n",
    "AssertionError: n is zero!\n",
    "```"
   ]
  },
  {
   "cell_type": "markdown",
   "metadata": {},
   "source": [
    "## `typing.Any` 参与逻辑运算\n",
    "\n",
    "当 `typing.Any`（类型或实例）参与逻辑运算时\n",
    "- 实例：\n",
    "    - 特定类型的特定实例，例如：`None, False, 0, 0.0, [], (), {}, ''`等，会被视为假值\n",
    "    - 如果类型定义了 `__bool__`，那么相当于 `——>bool(实例)——>实例.__bool__()`；\n",
    "    - 如果类型没有定义 `__bool__` 但是定义了 `__len__`，那么会调用 `len(实例)` 也就是 `实例.__len__()`；\n",
    "    - 其余情况，一般默认为真值；\n",
    "- 类型：通常被认为是真值。"
   ]
  },
  {
   "cell_type": "markdown",
   "metadata": {},
   "source": [
    "## `arg1 in arg2`（前面没有`for`）\n",
    "（1）如果 `arg2` 对应的类型定义了 `__contains__` 方法，那么 `arg1 in arg2` 相当于 `arg2.__contains__(arg1)`。\n",
    "\n",
    "（2）如果 `arg2` 对应的类型没有 `__contains__` 方法但是是可迭代对象即定义了 `__iter__`，那么相当于：\n",
    "```python\n",
    "for x in arg2\n",
    "    if x == arg1\n",
    "        return True\n",
    "return False\n",
    "```\n",
    "（3）最后会尝试 `__getitem__`"
   ]
  }
 ],
 "metadata": {
  "language_info": {
   "name": "python"
  }
 },
 "nbformat": 4,
 "nbformat_minor": 2
}
