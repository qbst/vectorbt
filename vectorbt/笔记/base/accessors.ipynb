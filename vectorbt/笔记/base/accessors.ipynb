{
 "cells": [
  {
   "cell_type": "markdown",
   "metadata": {},
   "source": [
    "## 类继承关系\n",
    "```mermaid\n",
    "classDiagram\n",
    "    class Wrapping\n",
    "    class BaseAccessor\n",
    "    class BaseSRAccessor\n",
    "    class BaseDFAccessor\n",
    "    \n",
    "    Wrapping <|-- BaseAccessor\n",
    "    BaseAccessor <|-- BaseSRAccessor\n",
    "    BaseAccessor <|-- BaseDFAccessor\n",
    "```"
   ]
  },
  {
   "cell_type": "markdown",
   "metadata": {},
   "source": [
    "## class BaseAccessor(Wrapping)"
   ]
  },
  {
   "cell_type": "markdown",
   "metadata": {},
   "source": [
    "### 使用方式"
   ]
  },
  {
   "cell_type": "markdown",
   "metadata": {},
   "source": [
    "### `__init__`\n",
    "保存 `obj` 到 `self._obj`，然后使用 `wrapper/obj` 来调用 `Wrapping.__init__`。\n",
    "```python\n",
    "def __init__(self, obj: tp.SeriesFrame, wrapper: tp.Optional[ArrayWrapper] = None, **kwargs) -> None:\n",
    "    checks.assert_instance_of(obj, (pd.Series, pd.DataFrame))\n",
    "\n",
    "    self._obj = obj\n",
    "\n",
    "    wrapper_arg_names = get_func_arg_names(ArrayWrapper.__init__) \n",
    "    grouper_arg_names = get_func_arg_names(ColumnGrouper.__init__)\n",
    "    wrapping_kwargs = dict() \n",
    "    \n",
    "    for k in list(kwargs.keys()):\n",
    "        if k in wrapper_arg_names or k in grouper_arg_names:\n",
    "            wrapping_kwargs[k] = kwargs.pop(k)  \n",
    "    \n",
    "    if wrapper is None:\n",
    "        wrapper = ArrayWrapper.from_obj(obj, **wrapping_kwargs)\n",
    "    else:\n",
    "        wrapper = wrapper.replace(**wrapping_kwargs)\n",
    "    \n",
    "    Wrapping.__init__(self, wrapper, obj=obj, **kwargs)\n",
    "```"
   ]
  },
  {
   "cell_type": "markdown",
   "metadata": {},
   "source": [
    "### `__call__`\n",
    "假如 `a` 是 `BaseAccessor` 实例，那么可以通过 `a(**kwargs)` 的方式调用 `Configured.replace` 方法来构建一个新的 `BaseAccessor` 实例。\n",
    "```python\n",
    "def __call__(self: BaseAccessorT, **kwargs) -> BaseAccessorT:\n",
    "    return self.replace(**kwargs)\n",
    "```"
   ]
  },
  {
   "cell_type": "markdown",
   "metadata": {},
   "source": [
    "### indexing_func\n",
    "根据 `pd_indexing_func` 创建新的实例：更新 `self._wrapper` 和 `self._obj`。\n",
    "```python\n",
    "def indexing_func(self: BaseAccessorT, pd_indexing_func: tp.PandasIndexingFunc, **kwargs) -> BaseAccessorT:\n",
    "    new_wrapper, idx_idxs, _, col_idxs = self.wrapper.indexing_func_meta(pd_indexing_func, **kwargs)\n",
    "    new_obj = new_wrapper.wrap(self.to_2d_array()[idx_idxs, :][:, col_idxs], group_by=False)\n",
    "    \n",
    "    if checks.is_series(new_obj):\n",
    "        return self.replace(\n",
    "            cls_=self.sr_accessor_cls,\n",
    "            obj=new_obj,\n",
    "            wrapper=new_wrapper\n",
    "        )\n",
    "    return self.replace(\n",
    "        cls_=self.df_accessor_cls,\n",
    "        obj=new_obj,\n",
    "        wrapper=new_wrapper\n",
    "    )\n",
    "```"
   ]
  },
  {
   "cell_type": "markdown",
   "metadata": {},
   "source": [
    "## class BaseSRAccessor(BaseAccessor)"
   ]
  },
  {
   "cell_type": "markdown",
   "metadata": {},
   "source": [
    "```python\n",
    "class BaseSRAccessor(BaseAccessor):\n",
    "    def __init__(self, obj: tp.Series, **kwargs) -> None:\n",
    "        checks.assert_instance_of(obj, pd.Series)\n",
    "        BaseAccessor.__init__(self, obj, **kwargs)\n",
    "\n",
    "    @class_or_instancemethod\n",
    "    def is_series(cls_or_self) -> bool:\n",
    "        return True\n",
    "\n",
    "    @class_or_instancemethod\n",
    "    def is_frame(cls_or_self) -> bool:\n",
    "        return False\n",
    "```"
   ]
  },
  {
   "cell_type": "markdown",
   "metadata": {},
   "source": [
    "## class BaseDFAccessor(BaseAccessor)"
   ]
  },
  {
   "cell_type": "markdown",
   "metadata": {},
   "source": [
    "```python\n",
    "class BaseDFAccessor(BaseAccessor):\n",
    "    def __init__(self, obj: tp.Frame, **kwargs) -> None:\n",
    "        checks.assert_instance_of(obj, pd.DataFrame)\n",
    "        BaseAccessor.__init__(self, obj, **kwargs)\n",
    "\n",
    "    @class_or_instancemethod\n",
    "    def is_series(cls_or_self) -> bool:\n",
    "        return False\n",
    "\n",
    "    @class_or_instancemethod\n",
    "    def is_frame(cls_or_self) -> bool:\n",
    "        return True\n",
    "```"
   ]
  }
 ],
 "metadata": {
  "language_info": {
   "name": "python"
  }
 },
 "nbformat": 4,
 "nbformat_minor": 2
}
