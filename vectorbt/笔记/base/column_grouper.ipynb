{
 "cells": [
  {
   "cell_type": "markdown",
   "metadata": {},
   "source": [
    "# Python 知识"
   ]
  },
  {
   "cell_type": "markdown",
   "metadata": {},
   "source": [
    "# 代码分析 class ColumnGrouper(Configured)"
   ]
  },
  {
   "cell_type": "markdown",
   "metadata": {},
   "source": [
    "## `__init__`\n",
    "（1）将 `columns, group_by, allow_enable, allow_disable, allow_modify` 存到 `self._config.items()`\n",
    "  - 注意 `self._config.__dict__` 中仅有 `readonly = True`\n",
    "\n",
    "（2）使用 `group_by_to_index` 从 `columns` 选出 `group_by` 对应的，构成新的索引Index存到 `self._group_by`\n",
    "\n",
    "（3）将 `allow_enable, allow_disable, allow_modify` 分别存到 `self._allow_enable, self._allow_disable, self._allow_modify`\n",
    "```python\n",
    "def __init__(self, \n",
    "            columns: tp.Index,\n",
    "            group_by: tp.GroupByLike = None,\n",
    "            allow_enable: bool = True,\n",
    "            allow_disable: bool = True,\n",
    "            allow_modify: bool = True) -> None:\n",
    "            \n",
    "    Configured.__init__(\n",
    "        self,\n",
    "        columns=columns,\n",
    "        group_by=group_by,\n",
    "        allow_enable=allow_enable,\n",
    "        allow_disable=allow_disable,\n",
    "        allow_modify=allow_modify\n",
    "    )\n",
    "\n",
    "    checks.assert_instance_of(columns, pd.Index)\n",
    "    self._columns = columns  \n",
    "    \n",
    "    if group_by is None or group_by is False:\n",
    "        self._group_by = None\n",
    "    else:\n",
    "        self._group_by = group_by_to_index(columns, group_by)\n",
    "\n",
    "    self._allow_enable = allow_enable    \n",
    "    self._allow_disable = allow_disable   \n",
    "    self._allow_modify = allow_modify    \n",
    "```"
   ]
  },
  {
   "cell_type": "markdown",
   "metadata": {},
   "source": [
    "## is_grouped\n",
    "- 根据参数 `group_by`\n",
    "  - `False`：表示**强制不分组**，返回 `False`\n",
    "  - `None`：使用实例的默认分组 `group_by = self.group_by`\n",
    "- `return group_by is not None`：表示是否有分组\n",
    "\n",
    "\n",
    "```python\n",
    "def is_grouped(self, group_by: tp.GroupByLike = None) -> bool:\n",
    "    if group_by is False:\n",
    "        return False\n",
    "    if group_by is None:\n",
    "        group_by = self.group_by\n",
    "    return group_by is not None\n",
    "```"
   ]
  },
  {
   "cell_type": "markdown",
   "metadata": {},
   "source": [
    "## is_grouping_modified\n",
    "调用时：\n",
    "- 在 `self.__dict__` 中查找是否有 `__cached_is_grouping_modified` 对应的属性\n",
    "    ```python\n",
    "    def partial_is_grouping_modified(group_by) -> tp.Any:\n",
    "        return is_grouping_modified(self, group_by)\n",
    "    ```\n",
    "    没有则将 `partial_func` 进行**lru_cache**化为 `cached_is_grouping_modified` 作为值\n",
    "- 如果 `group_by` 是可哈希的，调用 `cached_is_grouping_modified(group_by)`，否则 `is_grouping_modified(self, group_by)`。\n",
    "  - 使用 `group_by_to_index` 从 `self.columns` 选出 `group_by` 对应的 Index 替换 `group_by`\n",
    "  - 比较 `group_by` 和 `self.group_by` 是否一致\n",
    "\n",
    "```python\n",
    "@cached_method\n",
    "def is_grouping_modified(self, group_by: tp.GroupByLike = None) -> bool:\n",
    "    if group_by is None or (group_by is False and self.group_by is None):\n",
    "        return False\n",
    "        \n",
    "    group_by = group_by_to_index(self.columns, group_by)\n",
    "    \n",
    "    if isinstance(group_by, pd.Index) and isinstance(self.group_by, pd.Index):\n",
    "        if not pd.Index.equals(group_by, self.group_by):\n",
    "            groups1 = get_groups_and_index(self.columns, group_by)[0]\n",
    "            groups2 = get_groups_and_index(self.columns, self.group_by)[0]\n",
    "            if not np.array_equal(groups1, groups2):\n",
    "                return True\n",
    "        return False\n",
    "    return True\n",
    "```"
   ]
  }
 ],
 "metadata": {
  "language_info": {
   "name": "python"
  }
 },
 "nbformat": 4,
 "nbformat_minor": 2
}
