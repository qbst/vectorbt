{
 "cells": [
  {
   "cell_type": "markdown",
   "metadata": {},
   "source": [
    "# Python 知识"
   ]
  },
  {
   "cell_type": "markdown",
   "metadata": {},
   "source": [
    "## 元类"
   ]
  },
  {
   "cell_type": "markdown",
   "metadata": {},
   "source": [
    "### type"
   ]
  },
  {
   "cell_type": "markdown",
   "metadata": {},
   "source": [
    "Python 有个内置类型 `type`，其是所有类的类型（注意实例的类型是类）。\n",
    "\n",
    "`type` 有两个作用：\n",
    "- 查看对象类型：`type(obj)`\n",
    "- 动态创建类 `type(name, bases, dict)`\n",
    "  - `name（字符串）`：新类的名称。\n",
    "  - `bases（元组）`：新类需要继承的父类组成的元组。\n",
    "  - `dict（字典）`：包含属性和方法。键是属性或方法的名称（字符串），字值是对应的属性值或函数对象。"
   ]
  },
  {
   "cell_type": "code",
   "execution_count": 1,
   "metadata": {},
   "outputs": [
    {
     "name": "stdout",
     "output_type": "stream",
     "text": [
      "Hello, world.\n"
     ]
    }
   ],
   "source": [
    "def fn(self, name='world'):\n",
    "    print('Hello, %s.' % name)\n",
    "\n",
    "Hello = type('Hello', (object,), dict(hello=fn))\n",
    "h = Hello()\n",
    "h.hello()"
   ]
  },
  {
   "cell_type": "markdown",
   "metadata": {},
   "source": [
    "### `*()` 等价于 `type(*).__call__`"
   ]
  },
  {
   "cell_type": "markdown",
   "metadata": {},
   "source": [
    "注意 `type` 有方法 `__call__`：先调用 `__new__` 再调用 `__init__`。"
   ]
  },
  {
   "cell_type": "markdown",
   "metadata": {},
   "source": [
    "### 类创建过程"
   ]
  },
  {
   "cell_type": "markdown",
   "metadata": {},
   "source": [
    "当 Python 遇到类定义时，例如\n",
    "```python\n",
    "class MyClass(BaseClass, metaclass=MyMeta):\n",
    "    attr = \"value\"\n",
    "    \n",
    "    def method(self):\n",
    "        pass\n",
    "```\n",
    "会经历以下步骤：\n",
    "- 收集信息\n",
    "  - 类名：`MyClass`\n",
    "  - 基类：`(BaseClass,)`\n",
    "  - 命名空间：`{'attr': 'value', 'method': <function>}`\n",
    "  - 元类：`MyMeta`\n",
    "    - 元类查找顺序\n",
    "      - 显式指定的 `metaclass` 参数\n",
    "      - 基类的元类 \n",
    "      - 默认的 `type`\n",
    "- 调用元类：`   MyClass = MyMeta('MyClass', (BaseClass,), {'attr': 'value', 'method': <function>})`"
   ]
  },
  {
   "cell_type": "code",
   "execution_count": 8,
   "metadata": {},
   "outputs": [
    {
     "name": "stdout",
     "output_type": "stream",
     "text": [
      "开始创建类...\n",
      "\n",
      "=== DetailedMeta.__new__ ===\n",
      "正在创建类: MyClass\n",
      "元类: <class '__main__.DetailedMeta'>\n",
      "基类: (<class '__main__.BaseClass'>,)\n",
      "原始命名空间: ['attr', 'my_method']\n",
      "修改后命名空间: ['attr', 'my_method', '_created_by_meta', '_meta_name']\n",
      "类对象创建完成: <class '__main__.MyClass'>\n",
      "\n",
      "=== DetailedMeta.__init__ ===\n",
      "正在初始化类: <class '__main__.MyClass'>\n",
      "类名: MyClass\n",
      "\n",
      "创建的类: <class '__main__.MyClass'>\n",
      "类的属性: ['__class__', '__delattr__', '__dict__', '__dir__', '__doc__', '__eq__', '__firstlineno__', '__format__', '__ge__', '__getattribute__', '__getstate__', '__gt__', '__hash__', '__init__', '__init_subclass__', '__le__', '__lt__', '__module__', '__ne__', '__new__', '__reduce__', '__reduce_ex__', '__repr__', '__setattr__', '__sizeof__', '__static_attributes__', '__str__', '__subclasshook__', '__weakref__', '_created_by_meta', '_creation_info', '_meta_name', 'attr', 'base_method', 'my_method']\n",
      "创建信息: {'name': 'MyClass', 'bases': ['BaseClass'], 'methods': ['my_method']}\n",
      "\n",
      "开始创建实例...\n",
      "\n",
      "=== DetailedMeta.__call__ ===\n",
      "正在创建类的实例\n",
      "类: <class '__main__.MyClass'>\n",
      "参数: (), {}\n",
      "实例创建完成: <__main__.MyClass object at 0x000001A10D93C440>\n",
      "实例: <__main__.MyClass object at 0x000001A10D93C440>\n"
     ]
    }
   ],
   "source": [
    "class DetailedMeta(type):\n",
    "    def __call__(cls, *args, **kwargs):\n",
    "        print(f\"\\n=== DetailedMeta.__call__ ===\")\n",
    "        print(f\"正在创建类的实例\")\n",
    "        print(f\"类: {cls}\")\n",
    "        print(f\"参数: {args}, {kwargs}\")\n",
    "        \n",
    "        # 当创建类的实例时调用这里\n",
    "        instance = super().__call__(*args, **kwargs)\n",
    "        print(f\"实例创建完成: {instance}\")\n",
    "        return instance\n",
    "    \n",
    "    def __new__(mcs, name, bases, namespace):\n",
    "        print(f\"\\n=== DetailedMeta.__new__ ===\")\n",
    "        print(f\"正在创建类: {name}\")\n",
    "        print(f\"元类: {mcs}\")\n",
    "        print(f\"基类: {bases}\")\n",
    "        print(f\"原始命名空间: {list(namespace.keys())}\")\n",
    "        \n",
    "        # 修改命名空间\n",
    "        namespace['_created_by_meta'] = True\n",
    "        namespace['_meta_name'] = mcs.__name__\n",
    "        \n",
    "        print(f\"修改后命名空间: {list(namespace.keys())}\")\n",
    "        \n",
    "        # 创建类对象\n",
    "        cls = super().__new__(mcs, name, bases, namespace)\n",
    "        print(f\"类对象创建完成: {cls}\")\n",
    "        \n",
    "        return cls\n",
    "    \n",
    "    def __init__(cls, name, bases, namespace):\n",
    "        print(f\"\\n=== DetailedMeta.__init__ ===\")\n",
    "        print(f\"正在初始化类: {cls}\")\n",
    "        print(f\"类名: {name}\")\n",
    "        \n",
    "        # 添加类级别的属性\n",
    "        cls._creation_info = {\n",
    "            'name': name,\n",
    "            'bases': [base.__name__ for base in bases],\n",
    "            'methods': [key for key in namespace.keys() \n",
    "                       if callable(namespace[key]) and not key.startswith('__')]\n",
    "        }\n",
    "        \n",
    "        super().__init__(name, bases, namespace)\n",
    "\n",
    "# 基类\n",
    "class BaseClass:\n",
    "    def base_method(self):\n",
    "        return \"base method\"\n",
    "\n",
    "# 现在让我们观察创建过程\n",
    "print(\"开始创建类...\")\n",
    "MyClass = DetailedMeta('MyClass', (BaseClass,), {\n",
    "    'attr': 'value',\n",
    "    'my_method': lambda self: \"my method result\"\n",
    "})\n",
    "\n",
    "print(f\"\\n创建的类: {MyClass}\")\n",
    "print(f\"类的属性: {dir(MyClass)}\")\n",
    "print(f\"创建信息: {MyClass._creation_info}\")\n",
    "\n",
    "# 创建实例\n",
    "print(f\"\\n开始创建实例...\")\n",
    "obj = MyClass()\n",
    "print(f\"实例: {obj}\")"
   ]
  },
  {
   "cell_type": "markdown",
   "metadata": {},
   "source": [
    "### 例子：自定义单例模式元类"
   ]
  },
  {
   "cell_type": "code",
   "execution_count": 2,
   "metadata": {},
   "outputs": [
    {
     "name": "stdout",
     "output_type": "stream",
     "text": [
      "True\n"
     ]
    }
   ],
   "source": [
    "class SingletonMeta(type):\n",
    "    \"\"\"单例模式元类\"\"\"\n",
    "    _instances = {}\n",
    "    \n",
    "    def __call__(cls, *args, **kwargs):\n",
    "        if cls not in cls._instances:\n",
    "            cls._instances[cls] = super().__call__(*args, **kwargs)\n",
    "        return cls._instances[cls]\n",
    "\n",
    "class Database(metaclass=SingletonMeta):\n",
    "    def __init__(self):\n",
    "        self.connection = \"Connected to DB\"\n",
    "\n",
    "# 测试单例模式\n",
    "db1 = Database()\n",
    "db2 = Database()\n",
    "print(db1 is db2)  # True - 同一个实例"
   ]
  },
  {
   "cell_type": "markdown",
   "metadata": {},
   "source": [
    "### 例子：使用函数作为元类"
   ]
  },
  {
   "cell_type": "code",
   "execution_count": 3,
   "metadata": {},
   "outputs": [
    {
     "name": "stdout",
     "output_type": "stream",
     "text": [
      "创建类: Calculator\n",
      "基类: ()\n",
      "属性: ['__module__', '__qualname__', '__firstlineno__', 'add', 'multiply', '__static_attributes__']\n",
      "调用方法: add\n"
     ]
    }
   ],
   "source": [
    "def debug_meta(name, bases, attrs):\n",
    "    \"\"\"调试元类：打印类创建信息\"\"\"\n",
    "    print(f\"创建类: {name}\")\n",
    "    print(f\"基类: {bases}\")\n",
    "    print(f\"属性: {list(attrs.keys())}\")\n",
    "    \n",
    "    # 为所有方法添加调试装饰器\n",
    "    for key, value in attrs.items():\n",
    "        if callable(value) and not key.startswith('__'):\n",
    "            attrs[key] = debug_wrapper(value)\n",
    "    \n",
    "    return type(name, bases, attrs)\n",
    "\n",
    "def debug_wrapper(func):\n",
    "    def wrapper(*args, **kwargs):\n",
    "        print(f\"调用方法: {func.__name__}\")\n",
    "        return func(*args, **kwargs)\n",
    "    return wrapper\n",
    "\n",
    "class Calculator(metaclass=debug_meta):\n",
    "    def add(self, a, b):\n",
    "        return a + b\n",
    "    \n",
    "    def multiply(self, a, b):\n",
    "        return a * b\n",
    "\n",
    "# 输出：\n",
    "# 创建类: Calculator\n",
    "# 基类: ()\n",
    "# 属性: ['__module__', '__qualname__', 'add', 'multiply']\n",
    "\n",
    "calc = Calculator()\n",
    "result = calc.add(2, 3)  # 调用方法: add"
   ]
  },
  {
   "cell_type": "markdown",
   "metadata": {},
   "source": [
    "### 例子：自动属性注册"
   ]
  },
  {
   "cell_type": "code",
   "execution_count": 4,
   "metadata": {},
   "outputs": [
    {
     "name": "stdout",
     "output_type": "stream",
     "text": [
      "{'Config.database_url': 'postgresql://localhost/mydb', 'Config.cache_timeout': 300, 'Config.debug_mode': True}\n"
     ]
    }
   ],
   "source": [
    "class AutoRegisterMeta(type):\n",
    "    \"\"\"自动注册类属性的元类\"\"\"\n",
    "    registry = {}\n",
    "    \n",
    "    def __new__(mcs, name, bases, attrs):\n",
    "        cls = super().__new__(mcs, name, bases, attrs)\n",
    "        \n",
    "        # 自动注册所有非私有属性\n",
    "        for attr_name, attr_value in attrs.items():\n",
    "            if not attr_name.startswith('_'):\n",
    "                mcs.registry[f\"{name}.{attr_name}\"] = attr_value\n",
    "        \n",
    "        return cls\n",
    "\n",
    "class Config(metaclass=AutoRegisterMeta):\n",
    "    database_url = \"postgresql://localhost/mydb\"\n",
    "    cache_timeout = 300\n",
    "    debug_mode = True\n",
    "\n",
    "# 自动注册的配置\n",
    "print(AutoRegisterMeta.registry)"
   ]
  },
  {
   "cell_type": "markdown",
   "metadata": {},
   "source": [
    "# 代码分析"
   ]
  }
 ],
 "metadata": {
  "kernelspec": {
   "display_name": "venv_vectorbt",
   "language": "python",
   "name": "python3"
  },
  "language_info": {
   "codemirror_mode": {
    "name": "ipython",
    "version": 3
   },
   "file_extension": ".py",
   "mimetype": "text/x-python",
   "name": "python",
   "nbconvert_exporter": "python",
   "pygments_lexer": "ipython3",
   "version": "3.13.2"
  }
 },
 "nbformat": 4,
 "nbformat_minor": 2
}
