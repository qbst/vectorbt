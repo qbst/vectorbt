{
 "cells": [
  {
   "cell_type": "markdown",
   "id": "223f6a0a",
   "metadata": {},
   "source": [
    "# Python 知识"
   ]
  },
  {
   "cell_type": "markdown",
   "id": "a876051a",
   "metadata": {},
   "source": [
    "# 代码分析"
   ]
  },
  {
   "cell_type": "markdown",
   "id": "6be13312",
   "metadata": {},
   "source": [
    "## 类继承关系\n",
    "```mermaid\n",
    "classDiagram\n",
    "    %% 元类层次结构\n",
    "    class typing.Protocol\n",
    "    class SplitterT\n",
    "    class BaseSplitter\n",
    "    class RangeSplitter\n",
    "    class RollingSplitter\n",
    "    class ExpandingSplitter\n",
    "    \n",
    "    %% 继承关系\n",
    "    typing.Protocol <|-- SplitterT\n",
    "    BaseSplitter <|-- RangeSplitter\n",
    "    BaseSplitter <|-- RollingSplitter\n",
    "    BaseSplitter <|-- ExpandingSplitter\n",
    "```"
   ]
  },
  {
   "cell_type": "markdown",
   "id": "c02c986a",
   "metadata": {},
   "source": [
    "## def split_ranges_into_sets"
   ]
  },
  {
   "cell_type": "markdown",
   "id": "649f9969",
   "metadata": {},
   "source": [
    "### 例子"
   ]
  },
  {
   "cell_type": "code",
   "execution_count": null,
   "id": "8a9666d9",
   "metadata": {},
   "outputs": [],
   "source": [
    "from vectorbt.generic.splitters import split_ranges_into_sets"
   ]
  },
  {
   "cell_type": "code",
   "execution_count": null,
   "id": "8419854f",
   "metadata": {},
   "outputs": [],
   "source": [
    "# 示例1：简单分割，50%训练，50%测试\n",
    "start_idxs = [0, 50]\n",
    "end_idxs = [99, 149]\n",
    "set_lens = (0.5,)  # 50%作为第一个数据集\n",
    "for train_idx, test_idx in split_ranges_into_sets(start_idxs, end_idxs, set_lens):\n",
    "    print(f\"训练集: {train_idx}, 测试集: {test_idx}\")"
   ]
  },
  {
   "cell_type": "code",
   "execution_count": null,
   "id": "83c4674d",
   "metadata": {},
   "outputs": [],
   "source": [
    "# 示例2：三分割，50%训练，25%验证，25%测试\n",
    "start_idxs = [0, 50]\n",
    "end_idxs = [99, 149]\n",
    "set_lens = (0.5, 0.25)  # 50%训练，25%验证，剩余25%测试\n",
    "for train_idx, valid_idx, test_idx in split_ranges_into_sets(start_idxs, end_idxs, set_lens):\n",
    "    print(f\"训练集: {train_idx}, 验证集: {valid_idx}, 测试集: {test_idx}\")"
   ]
  },
  {
   "cell_type": "code",
   "execution_count": null,
   "id": "eda56d39",
   "metadata": {},
   "outputs": [],
   "source": [
    "# 示例3：固定数量分割\n",
    "start_idxs = [0, 50]\n",
    "end_idxs = [99, 149]\n",
    "set_lens = (50, 30)  # 50个样本训练，30个样本验证，剩余测试\n",
    "for train_idx, valid_idx, test_idx in split_ranges_into_sets(start_idxs, end_idxs, set_lens):\n",
    "    print(f\"训练集: {train_idx}, 验证集: {valid_idx}, 测试集: {test_idx}\")"
   ]
  },
  {
   "cell_type": "code",
   "execution_count": null,
   "id": "e4de75ea",
   "metadata": {},
   "outputs": [],
   "source": [
    "start_idxs = [0, 50]\n",
    "end_idxs = [99, 149]\n",
    "# 示例4：反向分割（测试集在前）\n",
    "set_lens = (50, 30)\n",
    "left_to_right = False  # 变长训练集在前，固定测试集在后\n",
    "for train_idx, valid_idx, test_idx in split_ranges_into_sets(start_idxs, end_idxs, set_lens, left_to_right):\n",
    "    print(f\"训练集: {train_idx}, 验证集: {valid_idx}, 测试集: {test_idx}\")"
   ]
  },
  {
   "cell_type": "markdown",
   "id": "48b2cc23",
   "metadata": {},
   "source": [
    "### 源码"
   ]
  },
  {
   "cell_type": "markdown",
   "id": "55c112f7",
   "metadata": {},
   "source": [
    "```python\n",
    "def split_ranges_into_sets(start_idxs: tp.ArrayLike,\n",
    "                           end_idxs: tp.ArrayLike,\n",
    "                           set_lens: tp.MaybeSequence[tp.Sequence[float]] = (),\n",
    "                           left_to_right: tp.MaybeSequence[bool] = True) -> RangesT:\n",
    "    start_idxs = np.asarray(start_idxs)\n",
    "    end_idxs = np.asarray(end_idxs)\n",
    "    checks.assert_len_equal(start_idxs, end_idxs)\n",
    "\n",
    "    for i in range(len(start_idxs)):\n",
    "        start_idx = start_idxs[i]\n",
    "        end_idx = end_idxs[i]\n",
    "\n",
    "        range_len = end_idx - start_idx + 1\n",
    "        new_set_lens = []\n",
    "        if len(set_lens) == 0:\n",
    "            yield (np.arange(start_idx, end_idx + 1),)\n",
    "        else:\n",
    "            if checks.is_sequence(set_lens[0]):\n",
    "                _set_lens = set_lens[i]\n",
    "            else:\n",
    "                _set_lens = set_lens\n",
    "            if checks.is_sequence(left_to_right):\n",
    "                _left_to_right = left_to_right[i]\n",
    "            else:\n",
    "                _left_to_right = left_to_right\n",
    "            for j, set_len in enumerate(_set_lens):\n",
    "                if 0 < set_len < 1:\n",
    "                    set_len = math.floor(set_len * range_len)\n",
    "                if set_len == 0:\n",
    "                    raise ValueError(f\"Set {j} in the range {i} is empty\")\n",
    "                new_set_lens.append(set_len)\n",
    "            if sum(new_set_lens) < range_len:\n",
    "                if _left_to_right:\n",
    "                    new_set_lens = new_set_lens + [range_len - sum(new_set_lens)]\n",
    "                else:\n",
    "                    new_set_lens = [range_len - sum(new_set_lens)] + new_set_lens\n",
    "            else:\n",
    "                raise ValueError(f\"Range of length {range_len} too short to split into {len(_set_lens) + 1} sets\")\n",
    "\n",
    "            idx_offset = 0\n",
    "            set_ranges = []\n",
    "            for set_len in new_set_lens:\n",
    "                new_idx_offset = idx_offset + set_len\n",
    "                set_ranges.append(np.arange(start_idx + idx_offset, start_idx + new_idx_offset))\n",
    "                idx_offset = new_idx_offset\n",
    "\n",
    "            yield tuple(set_ranges)\n",
    "```"
   ]
  },
  {
   "cell_type": "markdown",
   "id": "ccc57286",
   "metadata": {},
   "source": [
    "## class SplitterT(tp.Protocol)\n",
    "分割器协议类型，任何实现了 `def split(self, X: tp.ArrayLike, **kwargs) -> RangesT` 的类型都是 `SplitterT` 类型。"
   ]
  },
  {
   "cell_type": "markdown",
   "id": "a2e3ba27",
   "metadata": {},
   "source": [
    "```python\n",
    "class SplitterT(tp.Protocol):\n",
    "    def split(self, X: tp.ArrayLike, **kwargs) -> RangesT:\n",
    "        ...\n",
    "```"
   ]
  },
  {
   "cell_type": "markdown",
   "id": "e2716b74",
   "metadata": {},
   "source": [
    "## class BaseSplitter\n",
    "分割器基类，具体类型的分割器须继承该类后实现 `def split(self, X: tp.ArrayLike, **kwargs) -> RangesT` 方法。"
   ]
  },
  {
   "cell_type": "markdown",
   "id": "5a040893",
   "metadata": {},
   "source": [
    "```python\n",
    "class BaseSplitter:\n",
    "    def split(self, X: tp.ArrayLike, **kwargs) -> RangesT:\n",
    "        raise NotImplementedError\n",
    "```"
   ]
  },
  {
   "cell_type": "markdown",
   "id": "bb2ac99e",
   "metadata": {},
   "source": [
    "## class RangeSplitter(BaseSplitter)\n",
    "将时间序列数据分割成指定数量或长度的连续区间。\n",
    "\n",
    "`split` 方法的参数：\n",
    "- `X` (array-like): 要分割的数据，可以是pandas Series/DataFrame或numpy数组\n",
    "- `n` (int, optional): 分割的区间数量\n",
    "  - 如果range_len未指定，数据将被均匀分成n个区间\n",
    "  - 如果同时指定，将从可能的区间中均匀选择n个\n",
    "- `range_len` (float, optional): 每个区间的长度\n",
    "  - 如果是0-1之间的小数，表示占总长度的比例\n",
    "  - 如果是>=1的整数，表示绝对长度\n",
    "  - 如果n未指定，将生成尽可能多的区间\n",
    "- `min_len` (int): 区间的最小长度，短于此长度的区间将被过滤\n",
    "- `start_idxs` (array-like, optional): 自定义起始索引数组\n",
    "  - 可以是numpy数组（绝对位置）或pandas Index（标签）\n",
    "- `end_idxs` (array-like, optional): 自定义结束索引数组\n",
    "  - 可以是numpy数组（绝对位置）或pandas Index（标签）\n",
    "  - 结束索引是包含的（inclusive）\n",
    "- `**kwargs`: 传递给split_ranges_into_sets的额外参数\n",
    "\n",
    "返回：\n",
    "    RangesT: 分割结果生成器，每次迭代返回该分割的所有数据集索引"
   ]
  },
  {
   "cell_type": "code",
   "execution_count": null,
   "id": "768eeea5",
   "metadata": {},
   "outputs": [],
   "source": [
    "import pandas as pd\n",
    "import numpy as np\n",
    "from vectorbt.generic.splitters import RangeSplitter\n",
    "\n",
    "dates = pd.date_range('2020-01-01', periods=100, freq='D')\n",
    "prices = pd.Series(np.random.randn(100).cumsum(), index=dates)\n",
    "\n",
    "splitter = RangeSplitter()\n",
    "\n",
    "# 示例1：分成3个等长区间\n",
    "for ranges in splitter.split(prices, n=3):\n",
    "    print(ranges)"
   ]
  },
  {
   "cell_type": "code",
   "execution_count": null,
   "id": "bb65dcbd",
   "metadata": {},
   "outputs": [],
   "source": [
    "# 示例2：每个区间30天\n",
    "for ranges in splitter.split(prices, range_len=30):\n",
    "    print(ranges)"
   ]
  },
  {
   "cell_type": "code",
   "execution_count": null,
   "id": "1d5591fb",
   "metadata": {},
   "outputs": [],
   "source": [
    "# 示例3：自定义起始和结束日期\n",
    "start_dates = pd.Index(['2020-01-01', '2020-02-01', '2020-03-01'])\n",
    "end_dates = pd.Index(['2020-01-31', '2020-02-29', '2020-03-31'])\n",
    "for ranges in splitter.split(prices, start_idxs=start_dates, end_idxs=end_dates):\n",
    "    print(ranges)"
   ]
  },
  {
   "cell_type": "markdown",
   "id": "0e0c57e4",
   "metadata": {},
   "source": [
    "```python\n",
    "class RangeSplitter(BaseSplitter):\n",
    "    def split(self,\n",
    "              X: tp.ArrayLike,\n",
    "              n: tp.Optional[int] = None,\n",
    "              range_len: tp.Optional[float] = None,\n",
    "              min_len: int = 1,\n",
    "              start_idxs: tp.Optional[tp.ArrayLike] = None,\n",
    "              end_idxs: tp.Optional[tp.ArrayLike] = None, **kwargs) -> RangesT:\n",
    "        X = to_any_array(X)\n",
    "        if isinstance(X, (pd.Series, pd.DataFrame)):\n",
    "            index = X.index\n",
    "        else:\n",
    "            index = pd.Index(np.arange(X.shape[0]))\n",
    "\n",
    "        if start_idxs is None and end_idxs is None:\n",
    "            if range_len is None and n is None:\n",
    "                raise ValueError(\"At least n, range_len, or start_idxs and end_idxs must be set\")\n",
    "            if range_len is None:\n",
    "                range_len = len(index) // n\n",
    "            if 0 < range_len < 1:\n",
    "                range_len = math.floor(range_len * len(index))\n",
    "            start_idxs = np.arange(len(index) - range_len + 1)\n",
    "            end_idxs = np.arange(range_len - 1, len(index))\n",
    "        elif start_idxs is None or end_idxs is None:\n",
    "            raise ValueError(\"Both start_idxs and end_idxs must be set\")\n",
    "        else:\n",
    "            if isinstance(start_idxs, pd.Index):\n",
    "                start_idxs = np.asarray([find_first_occurrence(idx, index) for idx in start_idxs])\n",
    "            else:\n",
    "                start_idxs = np.asarray(start_idxs)\n",
    "            if isinstance(end_idxs, pd.Index):\n",
    "                end_idxs = np.asarray([find_first_occurrence(idx, index) for idx in end_idxs])\n",
    "            else:\n",
    "                end_idxs = np.asarray(end_idxs)\n",
    "\n",
    "        start_idxs, end_idxs = np.broadcast_arrays(start_idxs, end_idxs)\n",
    "        range_lens = end_idxs - start_idxs + 1\n",
    "        min_len_mask = range_lens >= min_len\n",
    "        if not np.any(min_len_mask):\n",
    "            raise ValueError(f\"There are no ranges that meet range_len>={min_len}\")\n",
    "        start_idxs = start_idxs[min_len_mask]\n",
    "        end_idxs = end_idxs[min_len_mask]\n",
    "\n",
    "        if n is not None:\n",
    "            if n > len(start_idxs):\n",
    "                raise ValueError(f\"n cannot be bigger than the maximum number of ranges {len(start_idxs)}\")\n",
    "            idxs = np.round(np.linspace(0, len(start_idxs) - 1, n)).astype(int)\n",
    "            start_idxs = start_idxs[idxs]\n",
    "            end_idxs = end_idxs[idxs]\n",
    "\n",
    "        return split_ranges_into_sets(start_idxs, end_idxs, **kwargs)\n",
    "```"
   ]
  },
  {
   "cell_type": "markdown",
   "id": "d2198a12",
   "metadata": {},
   "source": [
    "## class RollingSplitter(BaseSplitter)\n",
    "滚动分割器：固定大小的时间窗口在时间序列上滑动。\n",
    "\n",
    "`split` 方法的参数：\n",
    "- `X` (array-like): 要分割的时间序列数据\n",
    "- `n` (int, optional): 要生成的窗口数量\n",
    "  - 如果指定，将从所有可能的窗口中均匀选择n个\n",
    "  - 如果未指定，将生成所有可能的窗口\n",
    "- `window_len` (float, optional): 窗口长度\n",
    "  - 如果是0-1之间的小数，表示占总长度的比例\n",
    "  - 如果是>=1的整数，表示绝对长度\n",
    "  - 如果未指定，将根据n计算窗口长度\n",
    "- `min_len` (int): 窗口的最小长度，短于此长度的窗口将被过滤\n",
    "- `**kwargs`: 传递给split_ranges_into_sets的额外参数，如：\n",
    "  - `set_lens`: 指定训练集、验证集、测试集的长度比例\n",
    "  - `left_to_right`: 指定分割方向\n",
    "\n",
    "返回值：\n",
    "    RangesT: 分割结果生成器，每次迭代返回该窗口的所有数据集索引"
   ]
  },
  {
   "cell_type": "code",
   "execution_count": null,
   "id": "03dce2c7",
   "metadata": {},
   "outputs": [],
   "source": [
    "import pandas as pd\n",
    "import numpy as np\n",
    "from vectorbt.generic.splitters import RollingSplitter\n",
    "\n",
    "# 创建示例数据（1年的日度数据）\n",
    "dates = pd.date_range('2020-01-01', periods=365, freq='D')\n",
    "prices = pd.Series(np.random.randn(365).cumsum(), index=dates)\n",
    "\n",
    "splitter = RollingSplitter()\n",
    "\n",
    "# 示例1：30天窗口，生成所有可能的窗口\n",
    "windows = list(splitter.split(prices, window_len=30))\n",
    "print(f\"生成了 {len(windows)} 个窗口\")\n",
    "for ranges in splitter.split(prices, window_len=30):  # 显示前3个窗口\n",
    "    print(ranges)"
   ]
  },
  {
   "cell_type": "code",
   "execution_count": null,
   "id": "50fe9ea1",
   "metadata": {},
   "outputs": [],
   "source": [
    "# 示例2：选择10个窗口，每个窗口60天\n",
    "windows = list(splitter.split(prices, n=10, window_len=60))\n",
    "print(f\"选择了 {len(windows)} 个窗口\")\n",
    "for ranges in splitter.split(prices, n=10, window_len=60):\n",
    "    print(ranges)"
   ]
  },
  {
   "cell_type": "code",
   "execution_count": null,
   "id": "6d602836",
   "metadata": {},
   "outputs": [],
   "source": [
    "# 示例3：滚动窗口分割为训练集和测试集\n",
    "# 80%用于训练，20%用于测试\n",
    "length = len(list(splitter.split(prices, window_len=50, set_lens=(0.8,))))\n",
    "print(f\"窗口数量: {length}\")\n",
    "for range in splitter.split(prices, window_len=50, set_lens=(0.8,)):\n",
    "    print(range)"
   ]
  },
  {
   "cell_type": "markdown",
   "id": "74f9cc57",
   "metadata": {},
   "source": [
    "```python\n",
    "class RollingSplitter(BaseSplitter):\n",
    "    def split(self,\n",
    "              X: tp.ArrayLike,\n",
    "              n: tp.Optional[int] = None,\n",
    "              window_len: tp.Optional[float] = None,\n",
    "              min_len: int = 1,\n",
    "              **kwargs) -> RangesT:\n",
    "        \"\"\"Split by rolling a window.\n",
    "\n",
    "        `**kwargs` are passed to `split_ranges_into_sets`.\"\"\"\n",
    "        X = to_any_array(X)\n",
    "        if isinstance(X, (pd.Series, pd.DataFrame)):\n",
    "            index = X.index\n",
    "        else:\n",
    "            index = pd.Index(np.arange(X.shape[0]))\n",
    "\n",
    "        if window_len is None and n is None:\n",
    "            raise ValueError(\"At least n or window_len must be set\")\n",
    "        if window_len is None:\n",
    "            window_len = len(index) // n\n",
    "        if 0 < window_len < 1:\n",
    "            window_len = math.floor(window_len * len(index))\n",
    "        start_idxs = np.arange(len(index) - window_len + 1)\n",
    "        end_idxs = np.arange(window_len - 1, len(index))\n",
    "\n",
    "        window_lens = end_idxs - start_idxs + 1\n",
    "        min_len_mask = window_lens >= min_len\n",
    "        if not np.any(min_len_mask):\n",
    "            raise ValueError(f\"There are no ranges that meet window_len>={min_len}\")\n",
    "        start_idxs = start_idxs[min_len_mask]\n",
    "        end_idxs = end_idxs[min_len_mask]\n",
    "\n",
    "        if n is not None:\n",
    "            if n > len(start_idxs):\n",
    "                raise ValueError(f\"n cannot be bigger than the maximum number of windows {len(start_idxs)}\")\n",
    "            idxs = np.round(np.linspace(0, len(start_idxs) - 1, n)).astype(int)\n",
    "            start_idxs = start_idxs[idxs]\n",
    "            end_idxs = end_idxs[idxs]\n",
    "\n",
    "        return split_ranges_into_sets(start_idxs, end_idxs, **kwargs)\n",
    "```"
   ]
  },
  {
   "cell_type": "markdown",
   "id": "db94696c",
   "metadata": {},
   "source": [
    "## class ExpandingSplitter(BaseSplitter)\n",
    "扩展分割器：窗口起始位置固定，窗口大小逐步增加。\n",
    "\n",
    "`split` 方法的参数：\n",
    "- `X` (array-like): 要分割的时间序列数据\n",
    "- `n` (int, optional): 要生成的窗口数量\n",
    "  - 如果指定，将从所有可能的窗口中均匀选择n个\n",
    "  - 如果未指定，将生成所有可能的窗口\n",
    "- `min_len` (int): 窗口的最小长度，短于此长度的窗口将被过滤\n",
    "- `**kwargs`: 传递给split_ranges_into_sets的额外参数，如：\n",
    "  - `set_lens`: 指定训练集、验证集、测试集的长度比例\n",
    "  - `left_to_right`: 指定分割方向\n",
    "\n",
    "返回：\n",
    "    RangesT: 分割结果生成器，每次迭代返回该窗口的所有数据集索引"
   ]
  },
  {
   "cell_type": "code",
   "execution_count": null,
   "id": "42402342",
   "metadata": {},
   "outputs": [],
   "source": [
    "import pandas as pd\n",
    "import numpy as np\n",
    "from vectorbt.generic.splitters import ExpandingSplitter\n",
    "\n",
    "# 创建示例数据（1年的日度数据）\n",
    "dates = pd.date_range('2020-01-01', periods=365, freq='D')\n",
    "prices = pd.Series(np.random.randn(365).cumsum(), index=dates)\n",
    "\n",
    "splitter = ExpandingSplitter()\n",
    "\n",
    "# 示例1：生成所有可能的扩展窗口\n",
    "windows = list(splitter.split(prices, min_len=30))\n",
    "print(f\"生成了 {len(windows)} 个窗口\")\n",
    "for ranges in splitter.split(prices, min_len=30):  # 显示前3个窗口\n",
    "    print(ranges)"
   ]
  },
  {
   "cell_type": "code",
   "execution_count": null,
   "id": "cf551fd0",
   "metadata": {},
   "outputs": [],
   "source": [
    "# 示例2：选择10个扩展窗口\n",
    "windows = list(splitter.split(prices, n=10, min_len=30))\n",
    "print(f\"选择了 {len(windows)} 个窗口\")\n",
    "for ranges in splitter.split(prices, n=10, min_len=30):\n",
    "    print(ranges)"
   ]
  },
  {
   "cell_type": "code",
   "execution_count": null,
   "id": "a6c9633d",
   "metadata": {},
   "outputs": [],
   "source": [
    "# 示例3：扩展窗口分割为训练集和测试集\n",
    "# 前80%用于训练，后20%用于测试\n",
    "for ranges in splitter.split(prices, n=5, set_lens=(0.8,), min_len=50):\n",
    "    print(ranges)"
   ]
  },
  {
   "cell_type": "markdown",
   "id": "9940a330",
   "metadata": {},
   "source": [
    "```python\n",
    "class ExpandingSplitter(BaseSplitter):\n",
    "    def split(self,\n",
    "              X: tp.ArrayLike,\n",
    "              n: tp.Optional[int] = None,\n",
    "              min_len: int = 1,\n",
    "              **kwargs) -> RangesT:\n",
    "\n",
    "        X = to_any_array(X)\n",
    "        if isinstance(X, (pd.Series, pd.DataFrame)):\n",
    "            index = X.index\n",
    "        else:\n",
    "            index = pd.Index(np.arange(X.shape[0]))\n",
    "\n",
    "        start_idxs = np.full(len(index), 0)\n",
    "        end_idxs = np.arange(len(index))\n",
    "\n",
    "        window_lens = end_idxs - start_idxs + 1\n",
    "        min_len_mask = window_lens >= min_len\n",
    "        if not np.any(min_len_mask):\n",
    "            raise ValueError(f\"There are no ranges that meet window_len>={min_len}\")\n",
    "        start_idxs = start_idxs[min_len_mask]\n",
    "        end_idxs = end_idxs[min_len_mask]\n",
    "\n",
    "        if n is not None:\n",
    "            if n > len(start_idxs):\n",
    "                raise ValueError(f\"n cannot be bigger than the maximum number of windows {len(start_idxs)}\")\n",
    "            idxs = np.round(np.linspace(0, len(start_idxs) - 1, n)).astype(int)\n",
    "            start_idxs = start_idxs[idxs]\n",
    "            end_idxs = end_idxs[idxs]\n",
    "\n",
    "        return split_ranges_into_sets(start_idxs, end_idxs, **kwargs)\n",
    "```"
   ]
  }
 ],
 "metadata": {
  "kernelspec": {
   "display_name": "venv_vectorbt",
   "language": "python",
   "name": "python3"
  },
  "language_info": {
   "codemirror_mode": {
    "name": "ipython",
    "version": 3
   },
   "file_extension": ".py",
   "mimetype": "text/x-python",
   "name": "python",
   "nbconvert_exporter": "python",
   "pygments_lexer": "ipython3",
   "version": "3.10.8"
  }
 },
 "nbformat": 4,
 "nbformat_minor": 5
}
