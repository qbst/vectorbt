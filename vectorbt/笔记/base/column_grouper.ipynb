{
 "cells": [
  {
   "cell_type": "markdown",
   "metadata": {},
   "source": [
    "# Python 知识"
   ]
  },
  {
   "cell_type": "markdown",
   "metadata": {},
   "source": [
    "# 代码分析 class ColumnGrouper(Configured)"
   ]
  },
  {
   "cell_type": "markdown",
   "metadata": {},
   "source": [
    "## `__init__`\n",
    "（1）将 `columns, group_by, allow_enable, allow_disable, allow_modify` 存到 `self._config.items()`\n",
    "  - 注意 `self._config.__dict__` 中仅有 `readonly = True`\n",
    "\n",
    "（2）使用 `group_by_to_index` 从 `columns` 选出 `group_by` 对应的，构成新的索引Index存到 `self._group_by`\n",
    "\n",
    "（3）将 `allow_enable, allow_disable, allow_modify` 分别存到 `self._allow_enable, self._allow_disable, self._allow_modify`\n",
    "```python\n",
    "def __init__(self, \n",
    "            columns: tp.Index,\n",
    "            group_by: tp.GroupByLike = None,\n",
    "            allow_enable: bool = True,\n",
    "            allow_disable: bool = True,\n",
    "            allow_modify: bool = True) -> None:\n",
    "            \n",
    "    Configured.__init__(\n",
    "        self,\n",
    "        columns=columns,\n",
    "        group_by=group_by,\n",
    "        allow_enable=allow_enable,\n",
    "        allow_disable=allow_disable,\n",
    "        allow_modify=allow_modify\n",
    "    )\n",
    "\n",
    "    checks.assert_instance_of(columns, pd.Index)\n",
    "    self._columns = columns  \n",
    "    \n",
    "    if group_by is None or group_by is False:\n",
    "        self._group_by = None\n",
    "    else:\n",
    "        self._group_by = group_by_to_index(columns, group_by)\n",
    "\n",
    "    self._allow_enable = allow_enable    \n",
    "    self._allow_disable = allow_disable   \n",
    "    self._allow_modify = allow_modify    \n",
    "```"
   ]
  },
  {
   "cell_type": "markdown",
   "metadata": {},
   "source": [
    "## is_grouped\n",
    "- 根据参数 `group_by`\n",
    "  - `False`：表示**强制不分组**，返回 `False`\n",
    "  - `None`：使用实例的默认分组 `group_by = self.group_by`\n",
    "- `return group_by is not None`：表示是否有分组\n",
    "\n",
    "```python\n",
    "def is_grouped(self, group_by: tp.GroupByLike = None) -> bool:\n",
    "    if group_by is False:\n",
    "        return False\n",
    "    if group_by is None:\n",
    "        group_by = self.group_by\n",
    "    return group_by is not None\n",
    "```"
   ]
  },
  {
   "cell_type": "markdown",
   "metadata": {},
   "source": [
    "## is_grouping_enabled\n",
    "检查是否 `self.group_by` 为 `None` 且 `group_by` 不为 `None`\n",
    "```python\n",
    "def is_grouping_enabled(self, group_by: tp.GroupByLike = None) -> bool:\n",
    "    return self.group_by is None and self.is_grouped(group_by=group_by)\n",
    "```"
   ]
  },
  {
   "cell_type": "markdown",
   "metadata": {},
   "source": [
    "## is_grouping_disabled\n",
    "检查是否 `self.group_by` 不为 `None` 且 `group_by` 为 `None/False`\n",
    "```python\n",
    "def is_grouping_disabled(self, group_by: tp.GroupByLike = None) -> bool:\n",
    "    return self.group_by is not None and not self.is_grouped(group_by=group_by)\n",
    "\n"
   ]
  },
  {
   "cell_type": "markdown",
   "metadata": {},
   "source": [
    "## is_grouping_modified\n",
    "调用时：\n",
    "- 在 `self.__dict__` 中查找是否有 `__cached_is_grouping_modified` 对应的属性\n",
    "    ```python\n",
    "    def partial_is_grouping_modified(group_by) -> tp.Any:\n",
    "        return is_grouping_modified(self, group_by)\n",
    "    ```\n",
    "    没有则将 `partial_func` 进行**lru_cache**化为 `cached_is_grouping_modified` 作为值\n",
    "- 如果 `group_by` 是可哈希的，调用 `cached_is_grouping_modified(group_by)`，否则 `is_grouping_modified(self, group_by)`。\n",
    "  - 使用 `group_by_to_index` 从 `self.columns` 选出 `group_by` 对应的 Index 替换 `group_by`\n",
    "  - 比较 `group_by` 和 `self.group_by` 是否一致\n",
    "\n",
    "```python\n",
    "@cached_method\n",
    "def is_grouping_modified(self, group_by: tp.GroupByLike = None) -> bool:\n",
    "    if group_by is None or (group_by is False and self.group_by is None):\n",
    "        return False\n",
    "        \n",
    "    group_by = group_by_to_index(self.columns, group_by)\n",
    "    \n",
    "    if isinstance(group_by, pd.Index) and isinstance(self.group_by, pd.Index):\n",
    "        if not pd.Index.equals(group_by, self.group_by):\n",
    "            groups1 = get_groups_and_index(self.columns, group_by)[0]\n",
    "            groups2 = get_groups_and_index(self.columns, self.group_by)[0]\n",
    "            if not np.array_equal(groups1, groups2):\n",
    "                return True\n",
    "        return False\n",
    "    return True\n",
    "```"
   ]
  },
  {
   "cell_type": "markdown",
   "metadata": {},
   "source": [
    "## is_grouping_changed\n",
    "检查 `self.group_by` 是否和 `group_by` 不完全一致。\n",
    "```python\n",
    "@cached_method\n",
    "def is_grouping_changed(self, group_by: tp.GroupByLike = None) -> bool:\n",
    "    \"\"\"\n",
    "    检查 self.group_by 是否和 group_by 不完全一致\n",
    "    \"\"\"\n",
    "    if group_by is None or (group_by is False and self.group_by is None):\n",
    "        return False\n",
    "        \n",
    "    if isinstance(group_by, pd.Index) and isinstance(self.group_by, pd.Index):\n",
    "        # pd.Index.equals会比较所有方面：值、顺序、名称、类型等\n",
    "        if pd.Index.equals(group_by, self.group_by):\n",
    "            return False\n",
    "    return True\n",
    "```"
   ]
  },
  {
   "cell_type": "markdown",
   "metadata": {},
   "source": [
    "## check_group_by\n",
    "检查 `group_by` 和 `self.group_by`　的情况是否符合\n",
    "- `allow_enable∪self.allow_enable`、`allow_disable∪self.allow_disable`、`allow_modify∪self.allow_modify`\n",
    "```python\n",
    "def check_group_by(self, \n",
    "                    group_by: tp.GroupByLike = None, \n",
    "                    allow_enable: tp.Optional[bool] = None,\n",
    "                    allow_disable: tp.Optional[bool] = None, \n",
    "                    allow_modify: tp.Optional[bool] = None) -> None:\n",
    "    if allow_enable is None:\n",
    "        allow_enable = self.allow_enable\n",
    "    if allow_disable is None:\n",
    "        allow_disable = self.allow_disable\n",
    "    if allow_modify is None:\n",
    "        allow_modify = self.allow_modify\n",
    "\n",
    "    if self.is_grouping_enabled(group_by=group_by):\n",
    "        if not allow_enable:\n",
    "            raise ValueError(\"Enabling grouping is not allowed\")\n",
    "    elif self.is_grouping_disabled(group_by=group_by):\n",
    "        if not allow_disable:\n",
    "            raise ValueError(\"Disabling grouping is not allowed\")\n",
    "    elif self.is_grouping_modified(group_by=group_by):\n",
    "        if not allow_modify:\n",
    "            raise ValueError(\"Modifying groups is not allowed\")\n",
    "```"
   ]
  },
  {
   "cell_type": "markdown",
   "metadata": {},
   "source": [
    "## resolve_group_by\n",
    "**选择**\n",
    "- 根据 `group_by` 从 `self.columns` 选出对应的构成新的 `Index`。\n",
    "```python\n",
    "def resolve_group_by(self, group_by: tp.GroupByLike = None, **kwargs) -> GroupByT:\n",
    "    if group_by is None:\n",
    "        group_by = self.group_by\n",
    "    if group_by is False and self.group_by is None:\n",
    "        group_by = None\n",
    "    self.check_group_by(group_by=group_by, **kwargs)\n",
    "    return group_by_to_index(self.columns, group_by)\n",
    "```"
   ]
  },
  {
   "cell_type": "markdown",
   "metadata": {},
   "source": [
    "## get_groups_and_columns\n",
    "**选择再分解**\n",
    "- 根据 `group_by` 从 `self.columns` 选出对应的构成新的 `Index`。\n",
    "- 对新的 `Index` 去重，返回（序号，去重元素）。\n",
    "```python\n",
    "@cached_method\n",
    "def get_groups_and_columns(self, group_by: tp.GroupByLike = None, **kwargs) -> tp.Tuple[tp.Array1d, tp.Index]:\n",
    "    group_by = self.resolve_group_by(group_by=group_by, **kwargs)\n",
    "    return get_groups_and_index(self.columns, group_by)\n",
    "```"
   ]
  }
 ],
 "metadata": {
  "language_info": {
   "name": "python"
  }
 },
 "nbformat": 4,
 "nbformat_minor": 2
}
