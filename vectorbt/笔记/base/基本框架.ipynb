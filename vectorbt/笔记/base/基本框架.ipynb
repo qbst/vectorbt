{
 "cells": [
  {
   "cell_type": "markdown",
   "metadata": {},
   "source": [
    "```mermaid\n",
    "graph TD\n",
    "    subgraph vectorbt.base\n",
    "        AW[\"array_wrapper.py <br/> (核心数据封装与操作)\"]\n",
    "        IFN[\"index_fns.py <br/> (索引工具函数)\"]\n",
    "        IDX[\"indexing.py <br/> (高级索引与切片)\"]\n",
    "        RS[\"reshape_fns.py <br/> (数组重塑函数)\"]\n",
    "        CFN[\"combine_fns.py <br/> (数组组合函数)\"]\n",
    "        CG[\"column_grouper.py <br/> (列分组)\"]\n",
    "        ACC[\"accessors.py <br/> (Pandas访问器扩展)\"]\n",
    "        INIT[\"\\_\\_init__.py <br/> (包初始化, 导出符号)\"]\n",
    "    end\n",
    "\n",
    "    %% 核心依赖\n",
    "    AW --> IFN\n",
    "    AW --> RS\n",
    "    AW --> CFN\n",
    "    AW --> CG\n",
    "\n",
    "    %% 高级功能依赖核心\n",
    "    IDX --> AW\n",
    "    ACC --> AW\n",
    "\n",
    "    %% 其他可能的间接依赖或工具函数被核心类使用\n",
    "    CG --> IFN\n",
    "    %% ColumnGrouper 可能需要索引操作\n",
    "    IDX --> IFN\n",
    "    %% Indexer 可能需要基础索引函数\n",
    "\n",
    "    %% __init__ 导入其他模块内容\n",
    "    INIT --> AW\n",
    "    INIT --> IFN\n",
    "    INIT --> IDX\n",
    "    INIT --> RS\n",
    "    INIT --> CFN\n",
    "    INIT --> CG\n",
    "    INIT --> ACC\n",
    "\n",
    "    %% 访问器可能使用索引和分组功能\n",
    "    ACC --> IDX\n",
    "    ACC --> CG\n",
    "```"
   ]
  }
 ],
 "metadata": {
  "language_info": {
   "name": "python"
  }
 },
 "nbformat": 4,
 "nbformat_minor": 2
}
