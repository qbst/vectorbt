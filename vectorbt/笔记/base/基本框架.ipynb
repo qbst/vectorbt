{
 "cells": [
  {
   "cell_type": "markdown",
   "metadata": {},
   "source": [
    "# 类继承关系"
   ]
  },
  {
   "cell_type": "markdown",
   "metadata": {},
   "source": [
    "```mermaid\n",
    "classDiagram\n",
    "    class IndexingError\n",
    "    class IndexingBase\n",
    "    class ParamIndexer\n",
    "    class LocBase\n",
    "\n",
    "    class iLoc\n",
    "    class Loc\n",
    "    class PandasIndexer\n",
    "    class ParamLoc\n",
    "    class ColumnGrouper\n",
    "\n",
    "    class Configured\n",
    "\n",
    "    class PandasIndexer\n",
    "    class ColumnGrouper\n",
    "    class ArrayWrapper\n",
    "    class Wrapping\n",
    "\n",
    "    class BaseAccessor\n",
    "    class BaseSRAccessor\n",
    "    class BaseDFAccessor\n",
    "    %% indexing.py\n",
    "    LocBase <|-- ParamLoc\n",
    "    LocBase <|-- iLoc\n",
    "    LocBase <|-- Loc\n",
    "    IndexingBase <|-- PandasIndexer\n",
    "    ParamIndexer o-- ParamLoc: has\n",
    "    PandasIndexer o-- iLoc : has\n",
    "    PandasIndexer o-- Loc : has\n",
    "    %% column_grouper.py\n",
    "    Configured <|-- ColumnGrouper\n",
    "    %% array_wrapper.py\n",
    "    Configured <|-- ArrayWrapper\n",
    "    PandasIndexer <|-- ArrayWrapper\n",
    "    Configured <|-- Wrapping\n",
    "    PandasIndexer <|-- Wrapping\n",
    "    AttrResolver <|-- Wrapping\n",
    "    ArrayWrapper o-- ColumnGrouper : has\n",
    "    Wrapping o-- ArrayWrapper : has\n",
    "    %% accessors.py\n",
    "    Wrapping <|-- BaseAccessor\n",
    "    BaseAccessor <|-- BaseSRAccessor\n",
    "    BaseAccessor <|-- BaseDFAccessor\n",
    "\n",
    "```"
   ]
  }
 ],
 "metadata": {
  "language_info": {
   "name": "python"
  }
 },
 "nbformat": 4,
 "nbformat_minor": 2
}
