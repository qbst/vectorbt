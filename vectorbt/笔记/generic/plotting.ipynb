{
 "cells": [
  {
   "cell_type": "markdown",
   "metadata": {},
   "source": [
    "# 类继承关系\n",
    "```mermaid\n",
    "classDiagram\n",
    "    class TraceUpdater\n",
    "    class Configured\n",
    "    class Gauge\n",
    "    class Bar\n",
    "    class Scatter\n",
    "    class Histogram\n",
    "    class Box\n",
    "    class Heatmap\n",
    "    class Volume\n",
    "    Configured <|-- Gauge\n",
    "    TraceUpdater <|-- Gauge\n",
    "\n",
    "    TraceUpdater <|-- Bar\n",
    "    Configured <|-- Bar\n",
    "\n",
    "    Configured <|-- Scatter\n",
    "    TraceUpdater <|-- Scatter\n",
    "\n",
    "    TraceUpdater <|--Histogram\n",
    "    Configured <|-- Histogram\n",
    "\n",
    "    Configured <|-- Box\n",
    "    TraceUpdater <|--Box\n",
    "\n",
    "    TraceUpdater <|--Heatmap\n",
    "    Configured <|-- Heatmap\n",
    "\n",
    "    Configured <|-- Volume\n",
    "    TraceUpdater <|--Volume\n",
    "```\n",
    "## TraceUpdater\n",
    "```python\n",
    "class TraceUpdater:\n",
    "    def __init__(self, fig: tp.BaseFigure, traces: tp.Tuple[BaseTraceType, ...]) -> None:\n",
    "        self._fig = fig  # 保存图形对象的引用\n",
    "        self._traces = traces  # 保存轨迹对象元组的引用\n",
    "\n",
    "    @property\n",
    "    def fig(self) -> tp.BaseFigure:\n",
    "        return self._fig  # 返回图形对象\n",
    "\n",
    "    @property\n",
    "    def traces(self) -> tp.Tuple[BaseTraceType, ...]:\n",
    "        return self._traces  # 返回轨迹对象元组\n",
    "\n",
    "    def update(self, *args, **kwargs) -> None:\n",
    "        raise NotImplementedError\n",
    "```"
   ]
  },
  {
   "cell_type": "markdown",
   "metadata": {},
   "source": [
    "# 使用示例"
   ]
  },
  {
   "cell_type": "markdown",
   "metadata": {},
   "source": [
    "## Gauge"
   ]
  },
  {
   "cell_type": "code",
   "execution_count": null,
   "metadata": {},
   "outputs": [],
   "source": [
    "from vectorbt.generic.plotting import (\n",
    "    Gauge, Bar, Scatter, Histogram, Box, Heatmap, Volume\n",
    ")\n",
    "\n",
    "gauge = Gauge(value=0.75, value_range=(0, 1), label='投资组合收益率')\n",
    "gauge.fig.show()"
   ]
  },
  {
   "cell_type": "markdown",
   "metadata": {},
   "source": [
    "## Bar"
   ]
  },
  {
   "cell_type": "code",
   "execution_count": null,
   "metadata": {},
   "outputs": [],
   "source": [
    "monthly_returns = [[0.05, 0.03], [0.02, 0.07], [-0.01, 0.04]]\n",
    "bar_chart = Bar(\n",
    "    data=monthly_returns,\n",
    "    trace_names=['策略A', '策略B'],\n",
    "    x_labels=['1月', '2月', '3月']\n",
    ")\n",
    "bar_chart.fig.show()"
   ]
  },
  {
   "cell_type": "markdown",
   "metadata": {},
   "source": [
    "## Scatter"
   ]
  },
  {
   "cell_type": "code",
   "execution_count": null,
   "metadata": {},
   "outputs": [],
   "source": [
    "data = [[0.05, 0.08], [0.10, 0.12], [0.15, 0.18]]\n",
    "multi_scatter = Scatter(\n",
    "    data=data,\n",
    "    trace_names=['策略A', '策略B'],\n",
    "    x_labels=['低风险', '中风险', '高风险']\n",
    ")\n",
    "\n",
    "# 实时更新数据点\n",
    "new_data = [[0.06, 0.09], [0.11, 0.13], [0.16, 0.19]]\n",
    "multi_scatter.update(new_data)\n",
    "multi_scatter.fig.show()"
   ]
  },
  {
   "cell_type": "markdown",
   "metadata": {},
   "source": [
    "## Histogram"
   ]
  },
  {
   "cell_type": "code",
   "execution_count": null,
   "metadata": {},
   "outputs": [],
   "source": [
    "import numpy as np\n",
    "\n",
    "returns_data = np.random.normal(0.08, 0.15, 1000)\n",
    "hist = Histogram(\n",
    "    data=returns_data,  # 直接传入数组，不要用列表包装\n",
    "    trace_names=['策略收益分布'],\n",
    "    remove_nan=True,\n",
    "    from_quantile=0.01,\n",
    "    to_quantile=0.99\n",
    ")\n",
    "hist.fig.show()"
   ]
  },
  {
   "cell_type": "markdown",
   "metadata": {},
   "source": [
    "## Box"
   ]
  },
  {
   "cell_type": "code",
   "execution_count": null,
   "metadata": {},
   "outputs": [],
   "source": [
    "data = np.column_stack([\n",
    "    np.random.normal(0.08, 0.12, 252),  # 策略A\n",
    "    np.random.normal(0.10, 0.15, 252),  # 策略B\n",
    "    np.random.normal(0.06, 0.08, 252)   # 策略C\n",
    "])\n",
    "\n",
    "box = Box(\n",
    "    data=data,\n",
    "    trace_names=['策略A', '策略B', '策略C'],\n",
    "    remove_nan=True\n",
    ")\n",
    "box.fig.show()"
   ]
  },
  {
   "cell_type": "markdown",
   "metadata": {},
   "source": [
    "## Heatmap"
   ]
  },
  {
   "cell_type": "code",
   "execution_count": null,
   "metadata": {},
   "outputs": [],
   "source": [
    "import numpy as np\n",
    "\n",
    "performance_data = np.random.rand(12, 4)  # 12个月，4个策略\n",
    "strategy_heatmap = Heatmap(\n",
    "    data=performance_data,\n",
    "    x_labels=['策略A', '策略B', '策略C', '策略D'],\n",
    "    y_labels=['1月', '2月', '3月', '4月', '5月', '6月',\n",
    "              '7月', '8月', '9月', '10月', '11月', '12月'],\n",
    "    is_x_category=True,\n",
    "    is_y_category=True\n",
    ")\n",
    "strategy_heatmap.fig.show()"
   ]
  },
  {
   "cell_type": "markdown",
   "metadata": {},
   "source": [
    "## Volume"
   ]
  },
  {
   "cell_type": "code",
   "execution_count": null,
   "metadata": {},
   "outputs": [],
   "source": [
    "import numpy as np\n",
    "\n",
    "risk_data = np.random.rand(5, 5, 5)  # 5x5x5的三维数据\n",
    "volume = Volume(\n",
    "    data=risk_data,\n",
    "    x_labels=['低风险', '中低风险', '中风险', '中高风险', '高风险'],\n",
    "    y_labels=['低收益', '中低收益', '中收益', '中高收益', '高收益'],\n",
    "    z_labels=['负相关', '弱相关', '无相关', '正相关', '强相关']\n",
    ")\n",
    "volume.fig.show()"
   ]
  }
 ],
 "metadata": {
  "kernelspec": {
   "display_name": "venv_vectorbt",
   "language": "python",
   "name": "python3"
  },
  "language_info": {
   "codemirror_mode": {
    "name": "ipython",
    "version": 3
   },
   "file_extension": ".py",
   "mimetype": "text/x-python",
   "name": "python",
   "nbconvert_exporter": "python",
   "pygments_lexer": "ipython3",
   "version": "3.13.2"
  }
 },
 "nbformat": 4,
 "nbformat_minor": 2
}
