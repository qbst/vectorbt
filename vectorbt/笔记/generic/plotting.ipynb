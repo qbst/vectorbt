{
 "cells": [
  {
   "cell_type": "markdown",
   "metadata": {},
   "source": [
    "# 类继承关系\n",
    "```mermaid\n",
    "classDiagram\n",
    "    class TraceUpdater\n",
    "    class Configured\n",
    "    class Gauge\n",
    "    class Bar\n",
    "    class Scatter\n",
    "    class Histogram\n",
    "    class Box\n",
    "    class Heatmap\n",
    "    class Volume\n",
    "    Configured <|-- Gauge\n",
    "    TraceUpdater <|-- Gauge\n",
    "\n",
    "    TraceUpdater <|-- Bar\n",
    "    Configured <|-- Bar\n",
    "\n",
    "    Configured <|-- Scatter\n",
    "    TraceUpdater <|-- Scatter\n",
    "\n",
    "    TraceUpdater <|--Histogram\n",
    "    Configured <|-- Histogram\n",
    "\n",
    "    Configured <|-- Box\n",
    "    TraceUpdater <|--Box\n",
    "\n",
    "    TraceUpdater <|--Heatmap\n",
    "    Configured <|-- Heatmap\n",
    "\n",
    "    Configured <|-- Volume\n",
    "    TraceUpdater <|--Volume\n",
    "```\n",
    "## TraceUpdater\n",
    "```python\n",
    "class TraceUpdater:\n",
    "    def __init__(self, fig: tp.BaseFigure, traces: tp.Tuple[BaseTraceType, ...]) -> None:\n",
    "        self._fig = fig  # 保存图形对象的引用\n",
    "        self._traces = traces  # 保存轨迹对象元组的引用\n",
    "\n",
    "    @property\n",
    "    def fig(self) -> tp.BaseFigure:\n",
    "        return self._fig  # 返回图形对象\n",
    "\n",
    "    @property\n",
    "    def traces(self) -> tp.Tuple[BaseTraceType, ...]:\n",
    "        return self._traces  # 返回轨迹对象元组\n",
    "\n",
    "    def update(self, *args, **kwargs) -> None:\n",
    "        raise NotImplementedError\n",
    "```"
   ]
  },
  {
   "cell_type": "markdown",
   "metadata": {},
   "source": [
    "# 使用示例"
   ]
  },
  {
   "cell_type": "markdown",
   "metadata": {},
   "source": [
    "## Gauge"
   ]
  },
  {
   "cell_type": "code",
   "execution_count": 1,
   "metadata": {},
   "outputs": [
    {
     "data": {
      "application/vnd.plotly.v1+json": {
       "config": {
        "plotlyServerURL": "https://plot.ly"
       },
       "data": [
        {
         "domain": {
          "x": [
           0,
           1
          ],
          "y": [
           0,
           1
          ]
         },
         "gauge": {
          "axis": {
           "range": [
            0,
            1
           ]
          },
          "bar": {
           "color": "rgb(134,207,165)"
          }
         },
         "mode": "gauge+number+delta",
         "title": {
          "text": "投资组合收益率"
         },
         "type": "indicator",
         "uid": "e4286e20-688f-49a7-a177-a5bed3e05313",
         "value": 0.75
        }
       ],
       "layout": {
        "height": 350,
        "legend": {
         "orientation": "h",
         "traceorder": "normal",
         "x": 1,
         "xanchor": "right",
         "y": 1.02,
         "yanchor": "bottom"
        },
        "margin": {
         "b": 30,
         "l": 30,
         "r": 30,
         "t": 80
        },
        "template": {
         "data": {
          "bar": [
           {
            "error_x": {
             "color": "#2a3f5f"
            },
            "error_y": {
             "color": "#2a3f5f"
            },
            "marker": {
             "line": {
              "color": "#E5ECF6",
              "width": 0.5
             }
            },
            "type": "bar"
           }
          ],
          "barpolar": [
           {
            "marker": {
             "line": {
              "color": "#E5ECF6",
              "width": 0.5
             }
            },
            "type": "barpolar"
           }
          ],
          "carpet": [
           {
            "aaxis": {
             "endlinecolor": "#2a3f5f",
             "gridcolor": "white",
             "linecolor": "white",
             "minorgridcolor": "white",
             "startlinecolor": "#2a3f5f"
            },
            "baxis": {
             "endlinecolor": "#2a3f5f",
             "gridcolor": "white",
             "linecolor": "white",
             "minorgridcolor": "white",
             "startlinecolor": "#2a3f5f"
            },
            "type": "carpet"
           }
          ],
          "choropleth": [
           {
            "colorbar": {
             "outlinewidth": 0,
             "ticks": ""
            },
            "type": "choropleth"
           }
          ],
          "contour": [
           {
            "colorbar": {
             "outlinewidth": 0,
             "ticks": ""
            },
            "colorscale": [
             [
              0,
              "#0d0887"
             ],
             [
              0.1111111111111111,
              "#46039f"
             ],
             [
              0.2222222222222222,
              "#7201a8"
             ],
             [
              0.3333333333333333,
              "#9c179e"
             ],
             [
              0.4444444444444444,
              "#bd3786"
             ],
             [
              0.5555555555555556,
              "#d8576b"
             ],
             [
              0.6666666666666666,
              "#ed7953"
             ],
             [
              0.7777777777777778,
              "#fb9f3a"
             ],
             [
              0.8888888888888888,
              "#fdca26"
             ],
             [
              1,
              "#f0f921"
             ]
            ],
            "type": "contour"
           }
          ],
          "contourcarpet": [
           {
            "colorbar": {
             "outlinewidth": 0,
             "ticks": ""
            },
            "type": "contourcarpet"
           }
          ],
          "heatmap": [
           {
            "colorbar": {
             "outlinewidth": 0,
             "ticks": ""
            },
            "colorscale": [
             [
              0,
              "#0d0887"
             ],
             [
              0.1111111111111111,
              "#46039f"
             ],
             [
              0.2222222222222222,
              "#7201a8"
             ],
             [
              0.3333333333333333,
              "#9c179e"
             ],
             [
              0.4444444444444444,
              "#bd3786"
             ],
             [
              0.5555555555555556,
              "#d8576b"
             ],
             [
              0.6666666666666666,
              "#ed7953"
             ],
             [
              0.7777777777777778,
              "#fb9f3a"
             ],
             [
              0.8888888888888888,
              "#fdca26"
             ],
             [
              1,
              "#f0f921"
             ]
            ],
            "type": "heatmap"
           }
          ],
          "heatmapgl": [
           {
            "colorbar": {
             "outlinewidth": 0,
             "ticks": ""
            },
            "colorscale": [
             [
              0,
              "#0d0887"
             ],
             [
              0.1111111111111111,
              "#46039f"
             ],
             [
              0.2222222222222222,
              "#7201a8"
             ],
             [
              0.3333333333333333,
              "#9c179e"
             ],
             [
              0.4444444444444444,
              "#bd3786"
             ],
             [
              0.5555555555555556,
              "#d8576b"
             ],
             [
              0.6666666666666666,
              "#ed7953"
             ],
             [
              0.7777777777777778,
              "#fb9f3a"
             ],
             [
              0.8888888888888888,
              "#fdca26"
             ],
             [
              1,
              "#f0f921"
             ]
            ],
            "type": "heatmapgl"
           }
          ],
          "histogram": [
           {
            "marker": {
             "colorbar": {
              "outlinewidth": 0,
              "ticks": ""
             }
            },
            "type": "histogram"
           }
          ],
          "histogram2d": [
           {
            "colorbar": {
             "outlinewidth": 0,
             "ticks": ""
            },
            "colorscale": [
             [
              0,
              "#0d0887"
             ],
             [
              0.1111111111111111,
              "#46039f"
             ],
             [
              0.2222222222222222,
              "#7201a8"
             ],
             [
              0.3333333333333333,
              "#9c179e"
             ],
             [
              0.4444444444444444,
              "#bd3786"
             ],
             [
              0.5555555555555556,
              "#d8576b"
             ],
             [
              0.6666666666666666,
              "#ed7953"
             ],
             [
              0.7777777777777778,
              "#fb9f3a"
             ],
             [
              0.8888888888888888,
              "#fdca26"
             ],
             [
              1,
              "#f0f921"
             ]
            ],
            "type": "histogram2d"
           }
          ],
          "histogram2dcontour": [
           {
            "colorbar": {
             "outlinewidth": 0,
             "ticks": ""
            },
            "colorscale": [
             [
              0,
              "#0d0887"
             ],
             [
              0.1111111111111111,
              "#46039f"
             ],
             [
              0.2222222222222222,
              "#7201a8"
             ],
             [
              0.3333333333333333,
              "#9c179e"
             ],
             [
              0.4444444444444444,
              "#bd3786"
             ],
             [
              0.5555555555555556,
              "#d8576b"
             ],
             [
              0.6666666666666666,
              "#ed7953"
             ],
             [
              0.7777777777777778,
              "#fb9f3a"
             ],
             [
              0.8888888888888888,
              "#fdca26"
             ],
             [
              1,
              "#f0f921"
             ]
            ],
            "type": "histogram2dcontour"
           }
          ],
          "mesh3d": [
           {
            "colorbar": {
             "outlinewidth": 0,
             "ticks": ""
            },
            "type": "mesh3d"
           }
          ],
          "parcoords": [
           {
            "line": {
             "colorbar": {
              "outlinewidth": 0,
              "ticks": ""
             }
            },
            "type": "parcoords"
           }
          ],
          "pie": [
           {
            "automargin": true,
            "type": "pie"
           }
          ],
          "scatter": [
           {
            "marker": {
             "colorbar": {
              "outlinewidth": 0,
              "ticks": ""
             }
            },
            "type": "scatter"
           }
          ],
          "scatter3d": [
           {
            "line": {
             "colorbar": {
              "outlinewidth": 0,
              "ticks": ""
             }
            },
            "marker": {
             "colorbar": {
              "outlinewidth": 0,
              "ticks": ""
             }
            },
            "type": "scatter3d"
           }
          ],
          "scattercarpet": [
           {
            "marker": {
             "colorbar": {
              "outlinewidth": 0,
              "ticks": ""
             }
            },
            "type": "scattercarpet"
           }
          ],
          "scattergeo": [
           {
            "marker": {
             "colorbar": {
              "outlinewidth": 0,
              "ticks": ""
             }
            },
            "type": "scattergeo"
           }
          ],
          "scattergl": [
           {
            "marker": {
             "colorbar": {
              "outlinewidth": 0,
              "ticks": ""
             }
            },
            "type": "scattergl"
           }
          ],
          "scattermapbox": [
           {
            "marker": {
             "colorbar": {
              "outlinewidth": 0,
              "ticks": ""
             }
            },
            "type": "scattermapbox"
           }
          ],
          "scatterpolar": [
           {
            "marker": {
             "colorbar": {
              "outlinewidth": 0,
              "ticks": ""
             }
            },
            "type": "scatterpolar"
           }
          ],
          "scatterpolargl": [
           {
            "marker": {
             "colorbar": {
              "outlinewidth": 0,
              "ticks": ""
             }
            },
            "type": "scatterpolargl"
           }
          ],
          "scatterternary": [
           {
            "marker": {
             "colorbar": {
              "outlinewidth": 0,
              "ticks": ""
             }
            },
            "type": "scatterternary"
           }
          ],
          "surface": [
           {
            "colorbar": {
             "outlinewidth": 0,
             "ticks": ""
            },
            "colorscale": [
             [
              0,
              "#0d0887"
             ],
             [
              0.1111111111111111,
              "#46039f"
             ],
             [
              0.2222222222222222,
              "#7201a8"
             ],
             [
              0.3333333333333333,
              "#9c179e"
             ],
             [
              0.4444444444444444,
              "#bd3786"
             ],
             [
              0.5555555555555556,
              "#d8576b"
             ],
             [
              0.6666666666666666,
              "#ed7953"
             ],
             [
              0.7777777777777778,
              "#fb9f3a"
             ],
             [
              0.8888888888888888,
              "#fdca26"
             ],
             [
              1,
              "#f0f921"
             ]
            ],
            "type": "surface"
           }
          ],
          "table": [
           {
            "cells": {
             "fill": {
              "color": "#EBF0F8"
             },
             "line": {
              "color": "white"
             }
            },
            "header": {
             "fill": {
              "color": "#C8D4E3"
             },
             "line": {
              "color": "white"
             }
            },
            "type": "table"
           }
          ]
         },
         "layout": {
          "annotationdefaults": {
           "arrowcolor": "#2a3f5f",
           "arrowhead": 0,
           "arrowwidth": 1
          },
          "coloraxis": {
           "colorbar": {
            "outlinewidth": 0,
            "ticks": ""
           }
          },
          "colorscale": {
           "diverging": [
            [
             0,
             "#8e0152"
            ],
            [
             0.1,
             "#c51b7d"
            ],
            [
             0.2,
             "#de77ae"
            ],
            [
             0.3,
             "#f1b6da"
            ],
            [
             0.4,
             "#fde0ef"
            ],
            [
             0.5,
             "#f7f7f7"
            ],
            [
             0.6,
             "#e6f5d0"
            ],
            [
             0.7,
             "#b8e186"
            ],
            [
             0.8,
             "#7fbc41"
            ],
            [
             0.9,
             "#4d9221"
            ],
            [
             1,
             "#276419"
            ]
           ],
           "sequential": [
            [
             0,
             "#0d0887"
            ],
            [
             0.1111111111111111,
             "#46039f"
            ],
            [
             0.2222222222222222,
             "#7201a8"
            ],
            [
             0.3333333333333333,
             "#9c179e"
            ],
            [
             0.4444444444444444,
             "#bd3786"
            ],
            [
             0.5555555555555556,
             "#d8576b"
            ],
            [
             0.6666666666666666,
             "#ed7953"
            ],
            [
             0.7777777777777778,
             "#fb9f3a"
            ],
            [
             0.8888888888888888,
             "#fdca26"
            ],
            [
             1,
             "#f0f921"
            ]
           ],
           "sequentialminus": [
            [
             0,
             "#0d0887"
            ],
            [
             0.1111111111111111,
             "#46039f"
            ],
            [
             0.2222222222222222,
             "#7201a8"
            ],
            [
             0.3333333333333333,
             "#9c179e"
            ],
            [
             0.4444444444444444,
             "#bd3786"
            ],
            [
             0.5555555555555556,
             "#d8576b"
            ],
            [
             0.6666666666666666,
             "#ed7953"
            ],
            [
             0.7777777777777778,
             "#fb9f3a"
            ],
            [
             0.8888888888888888,
             "#fdca26"
            ],
            [
             1,
             "#f0f921"
            ]
           ]
          },
          "colorway": [
           "#1f77b4",
           "#ff7f0e",
           "#2ca02c",
           "#dc3912",
           "#9467bd",
           "#8c564b",
           "#e377c2",
           "#7f7f7f",
           "#bcbd22",
           "#17becf"
          ],
          "font": {
           "color": "#2a3f5f"
          },
          "geo": {
           "bgcolor": "white",
           "lakecolor": "white",
           "landcolor": "#E5ECF6",
           "showlakes": true,
           "showland": true,
           "subunitcolor": "white"
          },
          "hoverlabel": {
           "align": "left"
          },
          "hovermode": "closest",
          "mapbox": {
           "style": "light"
          },
          "paper_bgcolor": "white",
          "plot_bgcolor": "#E5ECF6",
          "polar": {
           "angularaxis": {
            "gridcolor": "white",
            "linecolor": "white",
            "ticks": ""
           },
           "bgcolor": "#E5ECF6",
           "radialaxis": {
            "gridcolor": "white",
            "linecolor": "white",
            "ticks": ""
           }
          },
          "scene": {
           "xaxis": {
            "backgroundcolor": "#E5ECF6",
            "gridcolor": "white",
            "gridwidth": 2,
            "linecolor": "white",
            "showbackground": true,
            "ticks": "",
            "zerolinecolor": "white"
           },
           "yaxis": {
            "backgroundcolor": "#E5ECF6",
            "gridcolor": "white",
            "gridwidth": 2,
            "linecolor": "white",
            "showbackground": true,
            "ticks": "",
            "zerolinecolor": "white"
           },
           "zaxis": {
            "backgroundcolor": "#E5ECF6",
            "gridcolor": "white",
            "gridwidth": 2,
            "linecolor": "white",
            "showbackground": true,
            "ticks": "",
            "zerolinecolor": "white"
           }
          },
          "shapedefaults": {
           "line": {
            "color": "#2a3f5f"
           }
          },
          "ternary": {
           "aaxis": {
            "gridcolor": "white",
            "linecolor": "white",
            "ticks": ""
           },
           "baxis": {
            "gridcolor": "white",
            "linecolor": "white",
            "ticks": ""
           },
           "bgcolor": "#E5ECF6",
           "caxis": {
            "gridcolor": "white",
            "linecolor": "white",
            "ticks": ""
           }
          },
          "title": {
           "x": 0.05
          },
          "xaxis": {
           "automargin": true,
           "gridcolor": "white",
           "linecolor": "white",
           "ticks": "",
           "title": {
            "standoff": 15
           },
           "zerolinecolor": "white",
           "zerolinewidth": 2
          },
          "yaxis": {
           "automargin": true,
           "gridcolor": "white",
           "linecolor": "white",
           "ticks": "",
           "title": {
            "standoff": 15
           },
           "zerolinecolor": "white",
           "zerolinewidth": 2
          }
         }
        },
        "width": 489.99999999999994
       }
      }
     },
     "metadata": {},
     "output_type": "display_data"
    }
   ],
   "source": [
    "from vectorbt.generic.plotting import (\n",
    "    Gauge, Bar, Scatter, Histogram, Box, Heatmap, Volume\n",
    ")\n",
    "\n",
    "gauge = Gauge(value=0.75, value_range=(0, 1), label='投资组合收益率')\n",
    "gauge.fig.show()"
   ]
  },
  {
   "cell_type": "markdown",
   "metadata": {},
   "source": [
    "## Bar"
   ]
  },
  {
   "cell_type": "code",
   "execution_count": 2,
   "metadata": {},
   "outputs": [
    {
     "data": {
      "application/vnd.plotly.v1+json": {
       "config": {
        "plotlyServerURL": "https://plot.ly"
       },
       "data": [
        {
         "name": "策略A",
         "showlegend": true,
         "type": "bar",
         "uid": "3eb9647b-6ff1-48da-b821-c9357ed5fc76",
         "x": [
          "1月",
          "2月",
          "3月"
         ],
         "y": [
          0.05,
          0.02,
          -0.01
         ]
        },
        {
         "name": "策略B",
         "showlegend": true,
         "type": "bar",
         "uid": "f0d9e3bc-6e5e-4748-ae83-bc134a669736",
         "x": [
          "1月",
          "2月",
          "3月"
         ],
         "y": [
          0.03,
          0.07,
          0.04
         ]
        }
       ],
       "layout": {
        "height": 350,
        "legend": {
         "orientation": "h",
         "traceorder": "normal",
         "x": 1,
         "xanchor": "right",
         "y": 1.02,
         "yanchor": "bottom"
        },
        "margin": {
         "b": 30,
         "l": 30,
         "r": 30,
         "t": 30
        },
        "template": {
         "data": {
          "bar": [
           {
            "error_x": {
             "color": "#2a3f5f"
            },
            "error_y": {
             "color": "#2a3f5f"
            },
            "marker": {
             "line": {
              "color": "#E5ECF6",
              "width": 0.5
             }
            },
            "type": "bar"
           }
          ],
          "barpolar": [
           {
            "marker": {
             "line": {
              "color": "#E5ECF6",
              "width": 0.5
             }
            },
            "type": "barpolar"
           }
          ],
          "carpet": [
           {
            "aaxis": {
             "endlinecolor": "#2a3f5f",
             "gridcolor": "white",
             "linecolor": "white",
             "minorgridcolor": "white",
             "startlinecolor": "#2a3f5f"
            },
            "baxis": {
             "endlinecolor": "#2a3f5f",
             "gridcolor": "white",
             "linecolor": "white",
             "minorgridcolor": "white",
             "startlinecolor": "#2a3f5f"
            },
            "type": "carpet"
           }
          ],
          "choropleth": [
           {
            "colorbar": {
             "outlinewidth": 0,
             "ticks": ""
            },
            "type": "choropleth"
           }
          ],
          "contour": [
           {
            "colorbar": {
             "outlinewidth": 0,
             "ticks": ""
            },
            "colorscale": [
             [
              0,
              "#0d0887"
             ],
             [
              0.1111111111111111,
              "#46039f"
             ],
             [
              0.2222222222222222,
              "#7201a8"
             ],
             [
              0.3333333333333333,
              "#9c179e"
             ],
             [
              0.4444444444444444,
              "#bd3786"
             ],
             [
              0.5555555555555556,
              "#d8576b"
             ],
             [
              0.6666666666666666,
              "#ed7953"
             ],
             [
              0.7777777777777778,
              "#fb9f3a"
             ],
             [
              0.8888888888888888,
              "#fdca26"
             ],
             [
              1,
              "#f0f921"
             ]
            ],
            "type": "contour"
           }
          ],
          "contourcarpet": [
           {
            "colorbar": {
             "outlinewidth": 0,
             "ticks": ""
            },
            "type": "contourcarpet"
           }
          ],
          "heatmap": [
           {
            "colorbar": {
             "outlinewidth": 0,
             "ticks": ""
            },
            "colorscale": [
             [
              0,
              "#0d0887"
             ],
             [
              0.1111111111111111,
              "#46039f"
             ],
             [
              0.2222222222222222,
              "#7201a8"
             ],
             [
              0.3333333333333333,
              "#9c179e"
             ],
             [
              0.4444444444444444,
              "#bd3786"
             ],
             [
              0.5555555555555556,
              "#d8576b"
             ],
             [
              0.6666666666666666,
              "#ed7953"
             ],
             [
              0.7777777777777778,
              "#fb9f3a"
             ],
             [
              0.8888888888888888,
              "#fdca26"
             ],
             [
              1,
              "#f0f921"
             ]
            ],
            "type": "heatmap"
           }
          ],
          "heatmapgl": [
           {
            "colorbar": {
             "outlinewidth": 0,
             "ticks": ""
            },
            "colorscale": [
             [
              0,
              "#0d0887"
             ],
             [
              0.1111111111111111,
              "#46039f"
             ],
             [
              0.2222222222222222,
              "#7201a8"
             ],
             [
              0.3333333333333333,
              "#9c179e"
             ],
             [
              0.4444444444444444,
              "#bd3786"
             ],
             [
              0.5555555555555556,
              "#d8576b"
             ],
             [
              0.6666666666666666,
              "#ed7953"
             ],
             [
              0.7777777777777778,
              "#fb9f3a"
             ],
             [
              0.8888888888888888,
              "#fdca26"
             ],
             [
              1,
              "#f0f921"
             ]
            ],
            "type": "heatmapgl"
           }
          ],
          "histogram": [
           {
            "marker": {
             "colorbar": {
              "outlinewidth": 0,
              "ticks": ""
             }
            },
            "type": "histogram"
           }
          ],
          "histogram2d": [
           {
            "colorbar": {
             "outlinewidth": 0,
             "ticks": ""
            },
            "colorscale": [
             [
              0,
              "#0d0887"
             ],
             [
              0.1111111111111111,
              "#46039f"
             ],
             [
              0.2222222222222222,
              "#7201a8"
             ],
             [
              0.3333333333333333,
              "#9c179e"
             ],
             [
              0.4444444444444444,
              "#bd3786"
             ],
             [
              0.5555555555555556,
              "#d8576b"
             ],
             [
              0.6666666666666666,
              "#ed7953"
             ],
             [
              0.7777777777777778,
              "#fb9f3a"
             ],
             [
              0.8888888888888888,
              "#fdca26"
             ],
             [
              1,
              "#f0f921"
             ]
            ],
            "type": "histogram2d"
           }
          ],
          "histogram2dcontour": [
           {
            "colorbar": {
             "outlinewidth": 0,
             "ticks": ""
            },
            "colorscale": [
             [
              0,
              "#0d0887"
             ],
             [
              0.1111111111111111,
              "#46039f"
             ],
             [
              0.2222222222222222,
              "#7201a8"
             ],
             [
              0.3333333333333333,
              "#9c179e"
             ],
             [
              0.4444444444444444,
              "#bd3786"
             ],
             [
              0.5555555555555556,
              "#d8576b"
             ],
             [
              0.6666666666666666,
              "#ed7953"
             ],
             [
              0.7777777777777778,
              "#fb9f3a"
             ],
             [
              0.8888888888888888,
              "#fdca26"
             ],
             [
              1,
              "#f0f921"
             ]
            ],
            "type": "histogram2dcontour"
           }
          ],
          "mesh3d": [
           {
            "colorbar": {
             "outlinewidth": 0,
             "ticks": ""
            },
            "type": "mesh3d"
           }
          ],
          "parcoords": [
           {
            "line": {
             "colorbar": {
              "outlinewidth": 0,
              "ticks": ""
             }
            },
            "type": "parcoords"
           }
          ],
          "pie": [
           {
            "automargin": true,
            "type": "pie"
           }
          ],
          "scatter": [
           {
            "marker": {
             "colorbar": {
              "outlinewidth": 0,
              "ticks": ""
             }
            },
            "type": "scatter"
           }
          ],
          "scatter3d": [
           {
            "line": {
             "colorbar": {
              "outlinewidth": 0,
              "ticks": ""
             }
            },
            "marker": {
             "colorbar": {
              "outlinewidth": 0,
              "ticks": ""
             }
            },
            "type": "scatter3d"
           }
          ],
          "scattercarpet": [
           {
            "marker": {
             "colorbar": {
              "outlinewidth": 0,
              "ticks": ""
             }
            },
            "type": "scattercarpet"
           }
          ],
          "scattergeo": [
           {
            "marker": {
             "colorbar": {
              "outlinewidth": 0,
              "ticks": ""
             }
            },
            "type": "scattergeo"
           }
          ],
          "scattergl": [
           {
            "marker": {
             "colorbar": {
              "outlinewidth": 0,
              "ticks": ""
             }
            },
            "type": "scattergl"
           }
          ],
          "scattermapbox": [
           {
            "marker": {
             "colorbar": {
              "outlinewidth": 0,
              "ticks": ""
             }
            },
            "type": "scattermapbox"
           }
          ],
          "scatterpolar": [
           {
            "marker": {
             "colorbar": {
              "outlinewidth": 0,
              "ticks": ""
             }
            },
            "type": "scatterpolar"
           }
          ],
          "scatterpolargl": [
           {
            "marker": {
             "colorbar": {
              "outlinewidth": 0,
              "ticks": ""
             }
            },
            "type": "scatterpolargl"
           }
          ],
          "scatterternary": [
           {
            "marker": {
             "colorbar": {
              "outlinewidth": 0,
              "ticks": ""
             }
            },
            "type": "scatterternary"
           }
          ],
          "surface": [
           {
            "colorbar": {
             "outlinewidth": 0,
             "ticks": ""
            },
            "colorscale": [
             [
              0,
              "#0d0887"
             ],
             [
              0.1111111111111111,
              "#46039f"
             ],
             [
              0.2222222222222222,
              "#7201a8"
             ],
             [
              0.3333333333333333,
              "#9c179e"
             ],
             [
              0.4444444444444444,
              "#bd3786"
             ],
             [
              0.5555555555555556,
              "#d8576b"
             ],
             [
              0.6666666666666666,
              "#ed7953"
             ],
             [
              0.7777777777777778,
              "#fb9f3a"
             ],
             [
              0.8888888888888888,
              "#fdca26"
             ],
             [
              1,
              "#f0f921"
             ]
            ],
            "type": "surface"
           }
          ],
          "table": [
           {
            "cells": {
             "fill": {
              "color": "#EBF0F8"
             },
             "line": {
              "color": "white"
             }
            },
            "header": {
             "fill": {
              "color": "#C8D4E3"
             },
             "line": {
              "color": "white"
             }
            },
            "type": "table"
           }
          ]
         },
         "layout": {
          "annotationdefaults": {
           "arrowcolor": "#2a3f5f",
           "arrowhead": 0,
           "arrowwidth": 1
          },
          "coloraxis": {
           "colorbar": {
            "outlinewidth": 0,
            "ticks": ""
           }
          },
          "colorscale": {
           "diverging": [
            [
             0,
             "#8e0152"
            ],
            [
             0.1,
             "#c51b7d"
            ],
            [
             0.2,
             "#de77ae"
            ],
            [
             0.3,
             "#f1b6da"
            ],
            [
             0.4,
             "#fde0ef"
            ],
            [
             0.5,
             "#f7f7f7"
            ],
            [
             0.6,
             "#e6f5d0"
            ],
            [
             0.7,
             "#b8e186"
            ],
            [
             0.8,
             "#7fbc41"
            ],
            [
             0.9,
             "#4d9221"
            ],
            [
             1,
             "#276419"
            ]
           ],
           "sequential": [
            [
             0,
             "#0d0887"
            ],
            [
             0.1111111111111111,
             "#46039f"
            ],
            [
             0.2222222222222222,
             "#7201a8"
            ],
            [
             0.3333333333333333,
             "#9c179e"
            ],
            [
             0.4444444444444444,
             "#bd3786"
            ],
            [
             0.5555555555555556,
             "#d8576b"
            ],
            [
             0.6666666666666666,
             "#ed7953"
            ],
            [
             0.7777777777777778,
             "#fb9f3a"
            ],
            [
             0.8888888888888888,
             "#fdca26"
            ],
            [
             1,
             "#f0f921"
            ]
           ],
           "sequentialminus": [
            [
             0,
             "#0d0887"
            ],
            [
             0.1111111111111111,
             "#46039f"
            ],
            [
             0.2222222222222222,
             "#7201a8"
            ],
            [
             0.3333333333333333,
             "#9c179e"
            ],
            [
             0.4444444444444444,
             "#bd3786"
            ],
            [
             0.5555555555555556,
             "#d8576b"
            ],
            [
             0.6666666666666666,
             "#ed7953"
            ],
            [
             0.7777777777777778,
             "#fb9f3a"
            ],
            [
             0.8888888888888888,
             "#fdca26"
            ],
            [
             1,
             "#f0f921"
            ]
           ]
          },
          "colorway": [
           "#1f77b4",
           "#ff7f0e",
           "#2ca02c",
           "#dc3912",
           "#9467bd",
           "#8c564b",
           "#e377c2",
           "#7f7f7f",
           "#bcbd22",
           "#17becf"
          ],
          "font": {
           "color": "#2a3f5f"
          },
          "geo": {
           "bgcolor": "white",
           "lakecolor": "white",
           "landcolor": "#E5ECF6",
           "showlakes": true,
           "showland": true,
           "subunitcolor": "white"
          },
          "hoverlabel": {
           "align": "left"
          },
          "hovermode": "closest",
          "mapbox": {
           "style": "light"
          },
          "paper_bgcolor": "white",
          "plot_bgcolor": "#E5ECF6",
          "polar": {
           "angularaxis": {
            "gridcolor": "white",
            "linecolor": "white",
            "ticks": ""
           },
           "bgcolor": "#E5ECF6",
           "radialaxis": {
            "gridcolor": "white",
            "linecolor": "white",
            "ticks": ""
           }
          },
          "scene": {
           "xaxis": {
            "backgroundcolor": "#E5ECF6",
            "gridcolor": "white",
            "gridwidth": 2,
            "linecolor": "white",
            "showbackground": true,
            "ticks": "",
            "zerolinecolor": "white"
           },
           "yaxis": {
            "backgroundcolor": "#E5ECF6",
            "gridcolor": "white",
            "gridwidth": 2,
            "linecolor": "white",
            "showbackground": true,
            "ticks": "",
            "zerolinecolor": "white"
           },
           "zaxis": {
            "backgroundcolor": "#E5ECF6",
            "gridcolor": "white",
            "gridwidth": 2,
            "linecolor": "white",
            "showbackground": true,
            "ticks": "",
            "zerolinecolor": "white"
           }
          },
          "shapedefaults": {
           "line": {
            "color": "#2a3f5f"
           }
          },
          "ternary": {
           "aaxis": {
            "gridcolor": "white",
            "linecolor": "white",
            "ticks": ""
           },
           "baxis": {
            "gridcolor": "white",
            "linecolor": "white",
            "ticks": ""
           },
           "bgcolor": "#E5ECF6",
           "caxis": {
            "gridcolor": "white",
            "linecolor": "white",
            "ticks": ""
           }
          },
          "title": {
           "x": 0.05
          },
          "xaxis": {
           "automargin": true,
           "gridcolor": "white",
           "linecolor": "white",
           "ticks": "",
           "title": {
            "standoff": 15
           },
           "zerolinecolor": "white",
           "zerolinewidth": 2
          },
          "yaxis": {
           "automargin": true,
           "gridcolor": "white",
           "linecolor": "white",
           "ticks": "",
           "title": {
            "standoff": 15
           },
           "zerolinecolor": "white",
           "zerolinewidth": 2
          }
         }
        },
        "width": 700
       }
      }
     },
     "metadata": {},
     "output_type": "display_data"
    }
   ],
   "source": [
    "monthly_returns = [[0.05, 0.03], [0.02, 0.07], [-0.01, 0.04]]\n",
    "bar_chart = Bar(\n",
    "    data=monthly_returns,\n",
    "    trace_names=['策略A', '策略B'],\n",
    "    x_labels=['1月', '2月', '3月']\n",
    ")\n",
    "bar_chart.fig.show()"
   ]
  },
  {
   "cell_type": "markdown",
   "metadata": {},
   "source": [
    "## Scatter"
   ]
  },
  {
   "cell_type": "code",
   "execution_count": 3,
   "metadata": {},
   "outputs": [
    {
     "data": {
      "application/vnd.plotly.v1+json": {
       "config": {
        "plotlyServerURL": "https://plot.ly"
       },
       "data": [
        {
         "name": "策略A",
         "showlegend": true,
         "type": "scatter",
         "uid": "aa48fe50-9fad-4e34-a07e-0da9473ef908",
         "x": [
          "低风险",
          "中风险",
          "高风险"
         ],
         "y": [
          0.06,
          0.11,
          0.16
         ]
        },
        {
         "name": "策略B",
         "showlegend": true,
         "type": "scatter",
         "uid": "d31ac424-b91e-4c72-8690-2f20587c2645",
         "x": [
          "低风险",
          "中风险",
          "高风险"
         ],
         "y": [
          0.09,
          0.13,
          0.19
         ]
        }
       ],
       "layout": {
        "height": 350,
        "legend": {
         "orientation": "h",
         "traceorder": "normal",
         "x": 1,
         "xanchor": "right",
         "y": 1.02,
         "yanchor": "bottom"
        },
        "margin": {
         "b": 30,
         "l": 30,
         "r": 30,
         "t": 30
        },
        "template": {
         "data": {
          "bar": [
           {
            "error_x": {
             "color": "#2a3f5f"
            },
            "error_y": {
             "color": "#2a3f5f"
            },
            "marker": {
             "line": {
              "color": "#E5ECF6",
              "width": 0.5
             }
            },
            "type": "bar"
           }
          ],
          "barpolar": [
           {
            "marker": {
             "line": {
              "color": "#E5ECF6",
              "width": 0.5
             }
            },
            "type": "barpolar"
           }
          ],
          "carpet": [
           {
            "aaxis": {
             "endlinecolor": "#2a3f5f",
             "gridcolor": "white",
             "linecolor": "white",
             "minorgridcolor": "white",
             "startlinecolor": "#2a3f5f"
            },
            "baxis": {
             "endlinecolor": "#2a3f5f",
             "gridcolor": "white",
             "linecolor": "white",
             "minorgridcolor": "white",
             "startlinecolor": "#2a3f5f"
            },
            "type": "carpet"
           }
          ],
          "choropleth": [
           {
            "colorbar": {
             "outlinewidth": 0,
             "ticks": ""
            },
            "type": "choropleth"
           }
          ],
          "contour": [
           {
            "colorbar": {
             "outlinewidth": 0,
             "ticks": ""
            },
            "colorscale": [
             [
              0,
              "#0d0887"
             ],
             [
              0.1111111111111111,
              "#46039f"
             ],
             [
              0.2222222222222222,
              "#7201a8"
             ],
             [
              0.3333333333333333,
              "#9c179e"
             ],
             [
              0.4444444444444444,
              "#bd3786"
             ],
             [
              0.5555555555555556,
              "#d8576b"
             ],
             [
              0.6666666666666666,
              "#ed7953"
             ],
             [
              0.7777777777777778,
              "#fb9f3a"
             ],
             [
              0.8888888888888888,
              "#fdca26"
             ],
             [
              1,
              "#f0f921"
             ]
            ],
            "type": "contour"
           }
          ],
          "contourcarpet": [
           {
            "colorbar": {
             "outlinewidth": 0,
             "ticks": ""
            },
            "type": "contourcarpet"
           }
          ],
          "heatmap": [
           {
            "colorbar": {
             "outlinewidth": 0,
             "ticks": ""
            },
            "colorscale": [
             [
              0,
              "#0d0887"
             ],
             [
              0.1111111111111111,
              "#46039f"
             ],
             [
              0.2222222222222222,
              "#7201a8"
             ],
             [
              0.3333333333333333,
              "#9c179e"
             ],
             [
              0.4444444444444444,
              "#bd3786"
             ],
             [
              0.5555555555555556,
              "#d8576b"
             ],
             [
              0.6666666666666666,
              "#ed7953"
             ],
             [
              0.7777777777777778,
              "#fb9f3a"
             ],
             [
              0.8888888888888888,
              "#fdca26"
             ],
             [
              1,
              "#f0f921"
             ]
            ],
            "type": "heatmap"
           }
          ],
          "heatmapgl": [
           {
            "colorbar": {
             "outlinewidth": 0,
             "ticks": ""
            },
            "colorscale": [
             [
              0,
              "#0d0887"
             ],
             [
              0.1111111111111111,
              "#46039f"
             ],
             [
              0.2222222222222222,
              "#7201a8"
             ],
             [
              0.3333333333333333,
              "#9c179e"
             ],
             [
              0.4444444444444444,
              "#bd3786"
             ],
             [
              0.5555555555555556,
              "#d8576b"
             ],
             [
              0.6666666666666666,
              "#ed7953"
             ],
             [
              0.7777777777777778,
              "#fb9f3a"
             ],
             [
              0.8888888888888888,
              "#fdca26"
             ],
             [
              1,
              "#f0f921"
             ]
            ],
            "type": "heatmapgl"
           }
          ],
          "histogram": [
           {
            "marker": {
             "colorbar": {
              "outlinewidth": 0,
              "ticks": ""
             }
            },
            "type": "histogram"
           }
          ],
          "histogram2d": [
           {
            "colorbar": {
             "outlinewidth": 0,
             "ticks": ""
            },
            "colorscale": [
             [
              0,
              "#0d0887"
             ],
             [
              0.1111111111111111,
              "#46039f"
             ],
             [
              0.2222222222222222,
              "#7201a8"
             ],
             [
              0.3333333333333333,
              "#9c179e"
             ],
             [
              0.4444444444444444,
              "#bd3786"
             ],
             [
              0.5555555555555556,
              "#d8576b"
             ],
             [
              0.6666666666666666,
              "#ed7953"
             ],
             [
              0.7777777777777778,
              "#fb9f3a"
             ],
             [
              0.8888888888888888,
              "#fdca26"
             ],
             [
              1,
              "#f0f921"
             ]
            ],
            "type": "histogram2d"
           }
          ],
          "histogram2dcontour": [
           {
            "colorbar": {
             "outlinewidth": 0,
             "ticks": ""
            },
            "colorscale": [
             [
              0,
              "#0d0887"
             ],
             [
              0.1111111111111111,
              "#46039f"
             ],
             [
              0.2222222222222222,
              "#7201a8"
             ],
             [
              0.3333333333333333,
              "#9c179e"
             ],
             [
              0.4444444444444444,
              "#bd3786"
             ],
             [
              0.5555555555555556,
              "#d8576b"
             ],
             [
              0.6666666666666666,
              "#ed7953"
             ],
             [
              0.7777777777777778,
              "#fb9f3a"
             ],
             [
              0.8888888888888888,
              "#fdca26"
             ],
             [
              1,
              "#f0f921"
             ]
            ],
            "type": "histogram2dcontour"
           }
          ],
          "mesh3d": [
           {
            "colorbar": {
             "outlinewidth": 0,
             "ticks": ""
            },
            "type": "mesh3d"
           }
          ],
          "parcoords": [
           {
            "line": {
             "colorbar": {
              "outlinewidth": 0,
              "ticks": ""
             }
            },
            "type": "parcoords"
           }
          ],
          "pie": [
           {
            "automargin": true,
            "type": "pie"
           }
          ],
          "scatter": [
           {
            "marker": {
             "colorbar": {
              "outlinewidth": 0,
              "ticks": ""
             }
            },
            "type": "scatter"
           }
          ],
          "scatter3d": [
           {
            "line": {
             "colorbar": {
              "outlinewidth": 0,
              "ticks": ""
             }
            },
            "marker": {
             "colorbar": {
              "outlinewidth": 0,
              "ticks": ""
             }
            },
            "type": "scatter3d"
           }
          ],
          "scattercarpet": [
           {
            "marker": {
             "colorbar": {
              "outlinewidth": 0,
              "ticks": ""
             }
            },
            "type": "scattercarpet"
           }
          ],
          "scattergeo": [
           {
            "marker": {
             "colorbar": {
              "outlinewidth": 0,
              "ticks": ""
             }
            },
            "type": "scattergeo"
           }
          ],
          "scattergl": [
           {
            "marker": {
             "colorbar": {
              "outlinewidth": 0,
              "ticks": ""
             }
            },
            "type": "scattergl"
           }
          ],
          "scattermapbox": [
           {
            "marker": {
             "colorbar": {
              "outlinewidth": 0,
              "ticks": ""
             }
            },
            "type": "scattermapbox"
           }
          ],
          "scatterpolar": [
           {
            "marker": {
             "colorbar": {
              "outlinewidth": 0,
              "ticks": ""
             }
            },
            "type": "scatterpolar"
           }
          ],
          "scatterpolargl": [
           {
            "marker": {
             "colorbar": {
              "outlinewidth": 0,
              "ticks": ""
             }
            },
            "type": "scatterpolargl"
           }
          ],
          "scatterternary": [
           {
            "marker": {
             "colorbar": {
              "outlinewidth": 0,
              "ticks": ""
             }
            },
            "type": "scatterternary"
           }
          ],
          "surface": [
           {
            "colorbar": {
             "outlinewidth": 0,
             "ticks": ""
            },
            "colorscale": [
             [
              0,
              "#0d0887"
             ],
             [
              0.1111111111111111,
              "#46039f"
             ],
             [
              0.2222222222222222,
              "#7201a8"
             ],
             [
              0.3333333333333333,
              "#9c179e"
             ],
             [
              0.4444444444444444,
              "#bd3786"
             ],
             [
              0.5555555555555556,
              "#d8576b"
             ],
             [
              0.6666666666666666,
              "#ed7953"
             ],
             [
              0.7777777777777778,
              "#fb9f3a"
             ],
             [
              0.8888888888888888,
              "#fdca26"
             ],
             [
              1,
              "#f0f921"
             ]
            ],
            "type": "surface"
           }
          ],
          "table": [
           {
            "cells": {
             "fill": {
              "color": "#EBF0F8"
             },
             "line": {
              "color": "white"
             }
            },
            "header": {
             "fill": {
              "color": "#C8D4E3"
             },
             "line": {
              "color": "white"
             }
            },
            "type": "table"
           }
          ]
         },
         "layout": {
          "annotationdefaults": {
           "arrowcolor": "#2a3f5f",
           "arrowhead": 0,
           "arrowwidth": 1
          },
          "coloraxis": {
           "colorbar": {
            "outlinewidth": 0,
            "ticks": ""
           }
          },
          "colorscale": {
           "diverging": [
            [
             0,
             "#8e0152"
            ],
            [
             0.1,
             "#c51b7d"
            ],
            [
             0.2,
             "#de77ae"
            ],
            [
             0.3,
             "#f1b6da"
            ],
            [
             0.4,
             "#fde0ef"
            ],
            [
             0.5,
             "#f7f7f7"
            ],
            [
             0.6,
             "#e6f5d0"
            ],
            [
             0.7,
             "#b8e186"
            ],
            [
             0.8,
             "#7fbc41"
            ],
            [
             0.9,
             "#4d9221"
            ],
            [
             1,
             "#276419"
            ]
           ],
           "sequential": [
            [
             0,
             "#0d0887"
            ],
            [
             0.1111111111111111,
             "#46039f"
            ],
            [
             0.2222222222222222,
             "#7201a8"
            ],
            [
             0.3333333333333333,
             "#9c179e"
            ],
            [
             0.4444444444444444,
             "#bd3786"
            ],
            [
             0.5555555555555556,
             "#d8576b"
            ],
            [
             0.6666666666666666,
             "#ed7953"
            ],
            [
             0.7777777777777778,
             "#fb9f3a"
            ],
            [
             0.8888888888888888,
             "#fdca26"
            ],
            [
             1,
             "#f0f921"
            ]
           ],
           "sequentialminus": [
            [
             0,
             "#0d0887"
            ],
            [
             0.1111111111111111,
             "#46039f"
            ],
            [
             0.2222222222222222,
             "#7201a8"
            ],
            [
             0.3333333333333333,
             "#9c179e"
            ],
            [
             0.4444444444444444,
             "#bd3786"
            ],
            [
             0.5555555555555556,
             "#d8576b"
            ],
            [
             0.6666666666666666,
             "#ed7953"
            ],
            [
             0.7777777777777778,
             "#fb9f3a"
            ],
            [
             0.8888888888888888,
             "#fdca26"
            ],
            [
             1,
             "#f0f921"
            ]
           ]
          },
          "colorway": [
           "#1f77b4",
           "#ff7f0e",
           "#2ca02c",
           "#dc3912",
           "#9467bd",
           "#8c564b",
           "#e377c2",
           "#7f7f7f",
           "#bcbd22",
           "#17becf"
          ],
          "font": {
           "color": "#2a3f5f"
          },
          "geo": {
           "bgcolor": "white",
           "lakecolor": "white",
           "landcolor": "#E5ECF6",
           "showlakes": true,
           "showland": true,
           "subunitcolor": "white"
          },
          "hoverlabel": {
           "align": "left"
          },
          "hovermode": "closest",
          "mapbox": {
           "style": "light"
          },
          "paper_bgcolor": "white",
          "plot_bgcolor": "#E5ECF6",
          "polar": {
           "angularaxis": {
            "gridcolor": "white",
            "linecolor": "white",
            "ticks": ""
           },
           "bgcolor": "#E5ECF6",
           "radialaxis": {
            "gridcolor": "white",
            "linecolor": "white",
            "ticks": ""
           }
          },
          "scene": {
           "xaxis": {
            "backgroundcolor": "#E5ECF6",
            "gridcolor": "white",
            "gridwidth": 2,
            "linecolor": "white",
            "showbackground": true,
            "ticks": "",
            "zerolinecolor": "white"
           },
           "yaxis": {
            "backgroundcolor": "#E5ECF6",
            "gridcolor": "white",
            "gridwidth": 2,
            "linecolor": "white",
            "showbackground": true,
            "ticks": "",
            "zerolinecolor": "white"
           },
           "zaxis": {
            "backgroundcolor": "#E5ECF6",
            "gridcolor": "white",
            "gridwidth": 2,
            "linecolor": "white",
            "showbackground": true,
            "ticks": "",
            "zerolinecolor": "white"
           }
          },
          "shapedefaults": {
           "line": {
            "color": "#2a3f5f"
           }
          },
          "ternary": {
           "aaxis": {
            "gridcolor": "white",
            "linecolor": "white",
            "ticks": ""
           },
           "baxis": {
            "gridcolor": "white",
            "linecolor": "white",
            "ticks": ""
           },
           "bgcolor": "#E5ECF6",
           "caxis": {
            "gridcolor": "white",
            "linecolor": "white",
            "ticks": ""
           }
          },
          "title": {
           "x": 0.05
          },
          "xaxis": {
           "automargin": true,
           "gridcolor": "white",
           "linecolor": "white",
           "ticks": "",
           "title": {
            "standoff": 15
           },
           "zerolinecolor": "white",
           "zerolinewidth": 2
          },
          "yaxis": {
           "automargin": true,
           "gridcolor": "white",
           "linecolor": "white",
           "ticks": "",
           "title": {
            "standoff": 15
           },
           "zerolinecolor": "white",
           "zerolinewidth": 2
          }
         }
        },
        "width": 700
       }
      }
     },
     "metadata": {},
     "output_type": "display_data"
    }
   ],
   "source": [
    "data = [[0.05, 0.08], [0.10, 0.12], [0.15, 0.18]]\n",
    "multi_scatter = Scatter(\n",
    "    data=data,\n",
    "    trace_names=['策略A', '策略B'],\n",
    "    x_labels=['低风险', '中风险', '高风险']\n",
    ")\n",
    "\n",
    "# 实时更新数据点\n",
    "new_data = [[0.06, 0.09], [0.11, 0.13], [0.16, 0.19]]\n",
    "multi_scatter.update(new_data)\n",
    "multi_scatter.fig.show()"
   ]
  },
  {
   "cell_type": "markdown",
   "metadata": {},
   "source": [
    "## Histogram"
   ]
  },
  {
   "cell_type": "code",
   "execution_count": 4,
   "metadata": {},
   "outputs": [
    {
     "data": {
      "application/vnd.plotly.v1+json": {
       "config": {
        "plotlyServerURL": "https://plot.ly"
       },
       "data": [
        {
         "name": "策略收益分布",
         "opacity": 1,
         "showlegend": true,
         "type": "histogram",
         "uid": "5e41782e-c88e-4ba1-94d5-5c464e5b1444",
         "x": [
          -0.13297572421534293,
          0.2159072950461816,
          0.04713370831526468,
          0.05639552677502187,
          0.16542620680210787,
          0.006275004994606037,
          0.042983680356127936,
          -0.01902343532804067,
          -0.1448834741649312,
          0.12033170381286168,
          0.112617055591061,
          0.10584091361367275,
          0.1582171703539306,
          0.3102199060601612,
          0.09923103961171757,
          -0.009855543617680776,
          -0.16390575461630602,
          0.12290475584503702,
          -0.027841761441608492,
          -0.025310042664148533,
          0.15429582051587315,
          0.09748877001402952,
          0.21917650861349303,
          0.005193253195170416,
          -0.017002868776374302,
          -0.03485803932173212,
          0.1795056495048883,
          -0.09585071001255126,
          0.1913209603689088,
          0.22110206082743705,
          0.22658847690456185,
          -0.0591924816425987,
          -0.0861715536218114,
          0.06396542002502714,
          -0.1115969176334128,
          0.13762061397925573,
          0.015303767222443684,
          0.23035589819833735,
          -0.06979775859049982,
          0.0009186301893457371,
          0.1635923128814969,
          -0.06965836036238669,
          0.14634915693346648,
          0.028488113589262412,
          -0.06471175770683517,
          -0.08785748654598573,
          0.06071865389979265,
          0.06246279576015644,
          -0.0027143967547592213,
          0.1591269043700734,
          0.21645471175142156,
          0.14868145935717586,
          0.1001954485252368,
          0.241854487792094,
          0.04631117895155796,
          0.08200952062486336,
          0.06576553557756104,
          0.061374085183882265,
          0.040726330191321075,
          0.12988022451257145,
          -0.12354689666791334,
          -0.023831809392489037,
          -0.056982858512303794,
          0.0723730200163385,
          -0.032411080977316584,
          0.2821680717419283,
          0.04398025311636266,
          0.029205525923308197,
          0.2342578784169182,
          0.0934687764596285,
          0.2650031048129533,
          0.30284293378712546,
          -0.15689423217836862,
          0.28322637377610915,
          -0.0151015320865006,
          -0.008014003289058727,
          -0.10821205470364438,
          0.2945340105474401,
          0.26845566247940683,
          0.10004196408197652,
          0.11743228511525505,
          0.2502245003539189,
          -0.09652258252640257,
          0.36962639244206774,
          0.10935585853386014,
          0.18412314493652418,
          0.06752519969476894,
          0.08050697931316708,
          0.17573996275003273,
          0.20667464701325367,
          0.17659996460798738,
          0.21205578651180346,
          0.2999789380172836,
          0.16982629179181796,
          0.14555680034152113,
          0.09644392517909434,
          0.08168247577684064,
          0.40129849900172954,
          0.2931625371711758,
          0.328594913686974,
          0.10395651770747535,
          0.16894988782834858,
          0.06826318552207125,
          0.13614299851480072,
          0.10059804328877911,
          0.12462738361395567,
          0.1718737688582393,
          -0.026676234656543743,
          0.0935827519681557,
          -0.0949232417632253,
          0.1701182998215881,
          0.07456267832316546,
          0.2865578100553509,
          0.19165253969019555,
          0.27796371900253103,
          0.1298878264157501,
          -0.04205118304110696,
          -0.022665376310103597,
          0.13669650280492598,
          0.03354388748747056,
          0.0500801211865233,
          -0.004520271318606467,
          -0.10588666960058023,
          0.207815226371858,
          0.06775119984601675,
          0.012253158316376495,
          0.011770037112005347,
          0.006456502831755417,
          -0.017516201768855016,
          0.23075443991425304,
          0.09269122148107743,
          0.38651007099854684,
          0.329073481648371,
          0.22322502994679377,
          0.056035551972952846,
          0.08291236059443348,
          0.050965117185786335,
          0.16606977839580184,
          0.03262010993936109,
          0.03873149093129396,
          0.21064251422359642,
          0.2616386847809776,
          -0.0613927862695549,
          0.08719450407810293,
          0.00896361377793213,
          -0.059393397496352654,
          0.11773834188133514,
          0.15099945724244762,
          0.2822891943707771,
          -0.2352670765029743,
          -0.23728966145957336,
          -0.020400973867574945,
          0.05197897209256888,
          0.04981322242143614,
          -0.20912607209358297,
          0.15172148869487517,
          -0.05325486784287027,
          0.30787275629934524,
          0.35109818047570646,
          0.20297661379387966,
          0.065931836740787,
          0.13973148496809254,
          -0.19969303512054482,
          0.03809863701987505,
          -0.12404791538614933,
          0.03218152001556347,
          -0.07821032255355954,
          0.08747676705303194,
          0.10105564863425179,
          -0.07629956357164173,
          0.09139891028453105,
          -0.012198776358149518,
          -0.0038377036765748634,
          0.12726671226014696,
          0.12360020994241383,
          0.049362664796384355,
          0.3550669736409738,
          0.08505405806337545,
          0.209002541399133,
          0.0018571960426432,
          0.28500382043049294,
          -0.009717255636014499,
          0.09150028484075978,
          0.09542224840607881,
          -0.016997353120354913,
          -0.07269639010483193,
          -0.021097825337514933,
          -0.02849122027826892,
          0.12676793517596646,
          0.051637961055426965,
          0.18289049218029924,
          0.05669260636904087,
          -0.008232342961023015,
          0.15289313611940453,
          0.07431058404491536,
          -0.050472038076618334,
          -0.042420019956044816,
          0.0017539942894477523,
          0.05669907051687962,
          -0.009896801378968825,
          0.2291923303057236,
          0.028012859952878257,
          -0.07971076374208859,
          0.20554509348433897,
          0.1769105395197496,
          -0.04771973650589152,
          0.19048165549746737,
          0.12007385906042511,
          0.18312589523112538,
          0.027309813691115258,
          -0.007022562058131801,
          0.3556931615475258,
          0.13534403519645874,
          0.04420109254200325,
          0.0021731395737739773,
          0.010133131661392208,
          0.39339479206111994,
          0.045452295935853884,
          -0.0061203927631658245,
          -0.08303380032449299,
          -0.1186089582309545,
          0.3145311039349498,
          -0.07224111578387081,
          0.043425701105212815,
          -0.10042904988603961,
          0.029508246833692568,
          -0.10499778312114195,
          -0.1151522932566073,
          0.10991310056564967,
          0.2986958894573994,
          0.2670582116184889,
          0.1549734980823001,
          -0.20024998306826053,
          0.05270481985199303,
          0.09020611152090374,
          0.09930574868005862,
          0.23331870762618012,
          0.3115805008377139,
          -0.14021277120046866,
          0.19290817416474998,
          0.12993239628193892,
          -0.003148015237779467,
          0.012977782335021684,
          -0.011642732700599082,
          0.2936159311517309,
          0.06657775407087523,
          -0.1195764668065656,
          0.17294606145172495,
          0.21920751106399244,
          0.21687062649497135,
          0.3761219410518333,
          0.06967424411235301,
          0.10248175426504272,
          0.2223058276871696,
          0.32524187398369153,
          -0.069623937696435,
          0.05130324268703494,
          0.06898225740490156,
          0.06354717550544332,
          0.1180828112327588,
          0.18916209909678514,
          -0.11642834202769715,
          -0.024807155339178072,
          -0.19296975776573988,
          0.16241771774126149,
          -0.009682112369347212,
          0.0441520962245958,
          -0.094577707434527,
          -0.08010575393654225,
          0.12630061059652922,
          0.17248107471854549,
          0.09264318720649156,
          -0.14161480465743626,
          -0.06981029701162637,
          0.11099589931335732,
          -0.01474333317495688,
          -0.0036407553107968144,
          0.3630377058202113,
          0.2157986518405166,
          -0.08244834056245941,
          0.15528323907730546,
          0.033069406637329254,
          -0.22837790526634782,
          -0.11501332539439209,
          -0.05148029234337513,
          0.005490316537115805,
          0.25796119251262695,
          -0.014595931811599114,
          0.15687392190755248,
          0.1971485096889338,
          -0.07532902081550925,
          0.03372733089029648,
          0.07103941573238867,
          0.052556524882159596,
          0.1948801913704116,
          0.013216164922045304,
          0.07705455403856458,
          0.15574003751474091,
          0.030400901912871335,
          -0.08374272879933646,
          -0.030696434452586352,
          -0.08801355436394905,
          0.02386870985237413,
          -0.04412900174605537,
          0.2291651220880444,
          -0.23987580570699168,
          0.062155353093451084,
          0.3063425242697959,
          -0.01081423817978966,
          0.0573268565583344,
          0.3141360324178359,
          0.15842084862416642,
          -0.05426034503807438,
          0.2890021227060496,
          -0.12251346648754464,
          0.32851654522774865,
          0.034939604758837214,
          0.29152449146849324,
          0.009951634635383802,
          -0.05823629358655412,
          0.11365797073122602,
          0.24159939526713264,
          0.15408404652765856,
          0.25587446684177506,
          0.16768523746238023,
          -0.08741859908819462,
          0.06493628785815571,
          0.18126007130116972,
          -0.11500619014255374,
          0.023462715747931767,
          0.02884744276862443,
          0.2989553179311101,
          0.15631279813555732,
          0.18137693990256867,
          0.1476343181817198,
          -0.007129668371585449,
          0.09997409032593647,
          0.07847931684958748,
          0.20937969598046935,
          0.26748441643206533,
          0.047896582727905763,
          0.043525198903464464,
          -0.013197692525251908,
          0.1209464997130012,
          0.2635677128984421,
          0.020718968072842257,
          0.026505900255847585,
          0.10067721752535272,
          0.054916899985945275,
          -0.04423632337752212,
          0.36084894047345634,
          0.27683319993017447,
          0.12574536169515932,
          0.2177527131460379,
          0.06919935976442097,
          0.33484132824753904,
          0.05690365610644689,
          0.1073742742572204,
          0.2710642015470326,
          0.145843776359857,
          -0.19125331034960386,
          -0.06014638323779002,
          0.23651553018704585,
          0.07289980960881323,
          0.0021272965545482414,
          -0.1770718540800128,
          0.10085185894332849,
          0.25904503270551976,
          -0.02378384686792391,
          0.043581360783260824,
          0.24038418004767925,
          0.05219299190190771,
          0.22279454483670214,
          0.005020291482354583,
          0.14324398570182817,
          0.09652588198242089,
          0.05815768405361104,
          -0.1257262291968152,
          0.018467099687189494,
          0.03661971373807842,
          0.17141759388149078,
          -0.0889952842039836,
          -0.029529757727612765,
          0.2112851357472041,
          0.14319054317623442,
          0.16774389200462736,
          0.04336908183584545,
          0.4035172166627351,
          0.048829589462708115,
          0.11116535718587406,
          0.3628386484094482,
          0.14383295040973693,
          0.1312799223705962,
          0.14449522422872574,
          -0.09060593789629358,
          0.11721686112527782,
          0.07715110872941346,
          -0.06803629885702502,
          0.2841655194555807,
          0.1143117108751871,
          0.09266869702038327,
          0.1280974454507385,
          0.06030346975571005,
          -0.14910932789413828,
          0.3083079814848306,
          0.03212576356662065,
          0.23006058147458308,
          0.1686604094721755,
          -0.23599458209830682,
          0.11827568181329143,
          0.08589755583353322,
          -0.024648101937024422,
          -0.13377707716904869,
          0.22070290096689038,
          0.2422154480973946,
          0.06916306902026353,
          0.07195418278751577,
          -0.06865666621497689,
          0.03647605357125577,
          0.40290214754955145,
          0.009408185249194137,
          0.058725174452505774,
          0.010861504003932779,
          -0.028569798685160852,
          -0.07555290380021344,
          0.3964659380056707,
          -0.14517271482247074,
          -0.024149554033925297,
          -0.11693845993979653,
          0.2573221129217042,
          -0.030494994794901267,
          -0.05000719149430814,
          -0.00004646859957609106,
          0.17715539120355855,
          0.2114776955270209,
          -0.07522106596968924,
          0.09390614249058105,
          0.10154083660136731,
          0.04983995260109064,
          -0.17375101069481486,
          0.010828040110133441,
          -0.00500064286070287,
          0.24024411509952975,
          0.14182450990757625,
          0.181791466838503,
          0.026989479982970827,
          0.16492752829736965,
          -0.20388953134600268,
          0.1735147263624811,
          0.019140392547805057,
          0.04550628156084675,
          0.010865213912385943,
          -0.16831577708334255,
          0.25860779311491733,
          0.18573978554147938,
          0.1198042127313779,
          -0.03691529642420591,
          0.25091201193785156,
          0.11446827994176771,
          0.12373734948070154,
          0.18545398116607287,
          0.1925358302955102,
          0.2651903127146901,
          0.19720459087955217,
          0.23664639952114458,
          0.06673541604620795,
          0.2893887620275431,
          0.047958602568348135,
          -0.019584696320899514,
          -0.21407621827251394,
          -0.08860010113105661,
          -0.1739335911614026,
          0.22353692985072354,
          0.05296280261898939,
          0.2400494764022182,
          0.19621548788133608,
          0.26153604997584723,
          0.12286953384578247,
          0.07459487449452758,
          0.1929272765381887,
          0.08016340952238858,
          0.026531273675919315,
          0.08328564115331347,
          -0.038676807837831284,
          0.24299249291643032,
          0.13972904164813493,
          0.36102246910381824,
          0.12872617340597226,
          0.21891234272014698,
          0.019172867053533757,
          0.05400473311788975,
          0.32644988295270255,
          -0.07252274082391787,
          0.22452741531872417,
          0.11136991798846105,
          0.1081670239202393,
          0.18177997438171178,
          0.17705040919319875,
          -0.03860716264007291,
          -0.1342476522004985,
          0.2444936026120086,
          0.07868166838123296,
          0.25808750319505036,
          0.22507882190667677,
          0.07934066141696391,
          -0.0705441664580393,
          0.2956170151562547,
          0.19199966407673663,
          0.16374987794104984,
          0.07894383701786065,
          0.282238456144172,
          -0.1290380390977866,
          -0.1316366298414517,
          0.025366190041065793,
          0.17787070283621462,
          0.11139517993849177,
          0.3846404228414899,
          0.1514571672685416,
          0.2512219860749498,
          0.05830615611291251,
          -0.023666741804515945,
          0.1649816434793563,
          0.08681321908420692,
          0.11983867669816112,
          0.26697710872229835,
          -0.028714428794905905,
          -0.03709054355756382,
          0.09011183461083941,
          0.18188769684878872,
          0.2763673538229352,
          0.18874068341141542,
          0.23785008111255834,
          -0.017205037471119622,
          0.0375923078763935,
          0.14317341461808394,
          0.20539946974144707,
          0.30982602449779445,
          -0.07953839490525273,
          0.1942060392247031,
          0.17574196062666628,
          -0.015229152921333089,
          -0.015599004433812375,
          0.1984090895808355,
          -0.009734889447482978,
          0.21232117178678178,
          0.3422051881001802,
          0.11137180963320556,
          0.05232963310600864,
          0.06932997913185945,
          -0.07704658322940662,
          -0.02518397531527526,
          0.11282108169090492,
          0.06748791600894312,
          0.0849513663017808,
          0.09776752081275314,
          0.14834894298425494,
          0.02226304375894743,
          0.15431345325884832,
          0.09192139159539314,
          -0.05544699303641111,
          -0.008055176094142025,
          0.13966419892126974,
          0.31454446495974403,
          0.3060227530409193,
          0.18437432669419737,
          0.08643338150879339,
          -0.0037596536062819985,
          0.08579104705938381,
          -0.02495470423658165,
          0.04695645116342704,
          0.30574996783649877,
          -0.009788764967041966,
          0.3913256507081975,
          0.1177319746158531,
          0.2776357207171887,
          -0.16446608038921562,
          -0.20707712498124448,
          0.19085190090097687,
          0.15262959602983342,
          0.1138867656604875,
          0.13711496916483934,
          0.055815462529374596,
          0.1822742819573136,
          0.2615822836686398,
          -0.1855080739234044,
          0.1566624187160444,
          -0.1183538606940752,
          -0.07789111376965237,
          0.048585910628503086,
          0.2731179515677238,
          -0.07944630005258561,
          -0.012118902815522803,
          0.28288990228938315,
          0.1660283032188385,
          0.1949802062944943,
          -0.07366779080341039,
          -0.10977197429356102,
          0.09399459348354301,
          0.05182391116344588,
          0.0822932371068841,
          0.0915206716069163,
          0.10390878754234892,
          0.19370075308465348,
          -0.011076681817430906,
          0.010648333915932007,
          0.2974465021868769,
          -0.07353899133881316,
          -0.2268202397069189,
          0.004790261397539353,
          0.06406577934215422,
          0.04629094402478342,
          -0.1561727380025315,
          0.11283007931994198,
          0.031923557429258516,
          0.08147469312895336,
          0.11310562076529262,
          -0.030343753279184746,
          -0.04179530535654126,
          0.0892986760531075,
          0.012603364061541611,
          0.02452726106788527,
          0.1803377185511268,
          -0.03986098002763608,
          0.0002457978235533148,
          -0.0974657847503279,
          -0.1871692782638137,
          -0.0009124273657484805,
          0.19857834709562144,
          -0.0715868479768181,
          0.009554309628394125,
          -0.13302859249909776,
          -0.009214213291161386,
          -0.22255086813552427,
          0.01651482542731858,
          0.22802573204771714,
          0.3229065850852169,
          0.1849965916283146,
          0.04352237917301056,
          0.12210430355996243,
          0.1614760719019561,
          -0.060663959111262114,
          0.2778862859394133,
          0.17585656201264319,
          -0.08267945488989371,
          0.033450793065264384,
          0.07866579782466629,
          -0.009029391125729827,
          0.2395155821085912,
          0.21622141857953286,
          0.15278617177754056,
          -0.09287179424797441,
          0.28077221762427185,
          0.2976990838575497,
          0.02171491469610553,
          0.2889602316761571,
          0.3611329064155881,
          -0.19617631183959267,
          0.2043316297375954,
          -0.035099378048696714,
          -0.015921712941891805,
          0.1318800046773139,
          0.3660631217198543,
          0.08737664688638373,
          -0.03088244909125573,
          -0.02229144670471435,
          0.21999239267418547,
          0.0007315725909531889,
          -0.16411889535439134,
          0.13914193509339695,
          0.10485643459046387,
          0.17998006819922113,
          0.06968218107316038,
          0.26800171490028213,
          0.1747422800267312,
          0.10684440994029204,
          0.11532650205480345,
          0.12503033876975922,
          0.24768015823218864,
          0.06727587498433892,
          -0.0633071750172695,
          0.3134888562611031,
          -0.004863568373350433,
          0.02592917988277211,
          0.3474850499606137,
          0.18294072122179897,
          0.00529076224192726,
          0.3606643442820797,
          0.27018142839991083,
          0.0006332997501209414,
          -0.08703257903568686,
          0.09323910338815485,
          -0.014715740126499205,
          0.11421871320618189,
          0.2223481991222157,
          0.04486640938478472,
          0.049466189456431615,
          0.12515720721269247,
          0.008675267473223405,
          0.1919803230069802,
          -0.021721668628392893,
          0.024004419013038333,
          0.1144835543099251,
          0.04061659670871123,
          0.10094717971174695,
          -0.000052725411447615556,
          -0.20414755082679742,
          -0.010488145255258319,
          0.16466105315812762,
          -0.0054895341828478245,
          0.307358034094754,
          -0.09260907459158828,
          0.15176751340564357,
          -0.20376658380389323,
          0.2604572196194673,
          0.018166190054005438,
          -0.010259192197884417,
          0.15137107953053414,
          0.3049746676733669,
          0.08198698184798846,
          0.15800692211958878,
          0.1204552180978285,
          0.23553400909436878,
          0.19497956024145066,
          0.0865341948486988,
          -0.014943041418910882,
          0.09724826737917966,
          0.23650757213974288,
          0.17651315259980907,
          0.2511173340112646,
          -0.12248308372144388,
          0.13959985561251492,
          0.06068377304155957,
          0.031342132570476536,
          0.2174402660764881,
          0.0706076464259157,
          0.1666702697420758,
          -0.05438876187035353,
          0.09502415732391374,
          0.17701133036608782,
          0.19436073484176275,
          0.15990054482616284,
          0.15541122298933402,
          0.22118288478860043,
          0.16566980850551866,
          -0.028308393542808424,
          0.09646505278685952,
          0.06412923660051192,
          0.016726036749402193,
          0.17617787268710078,
          0.2909024939701937,
          -0.1282312583433366,
          0.15791420094754072,
          -0.1673167545691005,
          0.1648578760156219,
          -0.05308582187005516,
          0.05988287493109052,
          0.36963273953691395,
          0.045642593205440736,
          0.17933525949194942,
          0.15771304484433724,
          0.2120925731315506,
          0.08042668664706507,
          0.22103868805748877,
          0.08970856770819008,
          0.13945050336147524,
          0.15624750149669864,
          0.12207283511761166,
          -0.11008708752714748,
          0.18265413011185605,
          -0.04822245560370385,
          0.1945613138905058,
          0.11442685944411593,
          0.0416863022526396,
          0.04388801630145541,
          0.0956991862270273,
          -0.1003820007867993,
          0.007004214872638373,
          0.02424495317046322,
          0.06729611501651137,
          0.16067954322855385,
          -0.006848407280334784,
          0.07409043981401148,
          0.2630304225990112,
          -0.018785778418638432,
          0.08074740778611826,
          -0.08247902995627716,
          0.20420905997804228,
          0.2806305611572128,
          0.10046865330876056,
          -0.02555775644730214,
          0.13308677470115762,
          0.09739759834011993,
          0.047951828320604704,
          0.2960611241631937,
          0.10848320470659968,
          0.11656318108406563,
          0.12858639746664036,
          0.03586612023436056,
          -0.17269020803652313,
          -0.0053626500998995436,
          -0.0200075107985844,
          0.1525392889434321,
          -0.12360344945762734,
          -0.11048522180160301,
          0.23848766605324617,
          0.09070879491495443,
          -0.000014294434351802554,
          -0.10561176414235056,
          0.0373110017845957,
          0.13128961810669018,
          0.03396056384695283,
          0.14130313755064206,
          -0.05656458607019833,
          0.24158619838915885,
          0.16096208248809815,
          0.22498835402903883,
          0.06971346220171301,
          0.08505913039878893,
          0.05986034824474018,
          0.245036743109189,
          0.050357977642977184,
          -0.007080293853914579,
          -0.08969682766597621,
          0.0639744848826593,
          0.14871004087944173,
          0.28248663058001755,
          0.29120199756744675,
          0.07993421852212326,
          0.23536009994698226,
          0.2112211721216673,
          0.11378283195415143,
          -0.05913302752022452,
          -0.12016143976767012,
          -0.023386397539364973,
          0.09308821933057591,
          0.2463056235459426,
          0.1628371872402409,
          0.02362458592080101,
          0.10544183323438815,
          0.0017656545324555989,
          -0.026413108390761567,
          0.13695327255833098,
          0.08566680536387775,
          0.14361149031182938,
          0.09959944372244756,
          0.34605609728850306,
          -0.0014511005728480297,
          0.10284701597396187,
          -0.011360512948417237,
          0.04724074874631273,
          0.1632548133099866,
          0.08232005145468108,
          -0.04294804235440784,
          0.06286558846665895,
          0.2407854731444335,
          0.213447858166474,
          0.03365805438444421,
          0.2735812818183087,
          -0.030762829189095883,
          0.03811441117799271,
          0.09628388959818296,
          -0.014158182334601518,
          0.1402075869698447,
          0.16814500408203115,
          0.0460050606532976,
          -0.07689713509580935,
          -0.04510621411116257,
          0.39429205389384575,
          0.03882177691622677,
          0.077189933567259,
          0.03454420583941655,
          0.144443509466591,
          0.0670752437993018,
          -0.050274690235099104,
          0.10830908711418732,
          0.17982726165421511,
          0.2258630169232661,
          0.29041752055052505,
          0.032504722894261824,
          -0.17614625075591134,
          0.05272517503962196,
          0.10693645143076387,
          -0.011965793942883315,
          0.06603376356127029,
          0.1530164932555589,
          -0.23024343621255955,
          0.0480483170139796,
          0.09835824203933918,
          0.10832935558807333,
          0.05097231403258303,
          0.3149457016303393,
          0.2158760473565952,
          0.030260795555972858,
          0.07994815887809081,
          0.08104199078998506,
          0.22365005646817476,
          -0.15345570953436233,
          -0.02262560045059378,
          0.1833603768615082,
          0.33191850728659095,
          -0.11684620407942033,
          0.08976625496291654,
          0.25807789815527443,
          0.21358826453002883,
          0.052866754305887984,
          0.10958521129511242,
          -0.056124329287281186,
          -0.002023874733807246,
          0.1409901078291961,
          0.3166427353424714,
          0.30776080163024067,
          0.3288896743114027,
          0.05349139323504748,
          0.014884587477543884,
          0.2715549708921734,
          0.26582927825019725,
          -0.05909014924604476,
          0.320834440957605,
          -0.0640282055867757,
          0.08389497416563758,
          0.21814723065433778,
          0.03331943554564526,
          0.13763736753958697,
          0.08634346226536097,
          0.12380579766742265,
          0.06007934600451045,
          -0.0749464149019368,
          -0.024342451942656246,
          0.060672361353664814,
          0.13880121144874882,
          -0.03623769517871556,
          0.0795131429874505,
          0.2729018959851587,
          0.03521453858790075,
          0.1463392795553884,
          0.2445914042303592,
          0.1110312988539797,
          0.011812405269756798,
          0.24994641750687147,
          0.047804271624962424,
          0.21513300593290552,
          -0.009200104199030529,
          0.11703912434928575,
          0.35445936548575313,
          0.1768719280870186,
          0.14803253055276316,
          0.280084296508224,
          -0.032263628531401994,
          -0.09644783265192226,
          0.25194623983084186,
          0.24925132444472908,
          0.3924018684119953,
          0.21680672903650383,
          0.02479663074255236,
          0.2325265663246539,
          -0.09313089701662867,
          0.35671738526991903,
          0.01907206403334888,
          0.03754938496406466,
          -0.1293262898618565,
          -0.0008368313514666992,
          0.27864014747730187,
          -0.10233946205673229,
          0.07543923091611722,
          0.3122211282404951,
          0.11625611017615031,
          0.02411170011290755,
          0.0019362542370887914,
          0.11555523651822593,
          -0.0667549718449607,
          -0.16734296286383227,
          0.17423922265353578,
          0.01329337201809841,
          0.09905462018179245,
          -0.19942577604910317,
          0.022447558855090234,
          -0.0438767984417482,
          0.25457052821188325,
          0.028055824900385884,
          0.17708403652996157
         ]
        }
       ],
       "layout": {
        "barmode": "overlay",
        "height": 350,
        "legend": {
         "orientation": "h",
         "traceorder": "normal",
         "x": 1,
         "xanchor": "right",
         "y": 1.02,
         "yanchor": "bottom"
        },
        "margin": {
         "b": 30,
         "l": 30,
         "r": 30,
         "t": 30
        },
        "template": {
         "data": {
          "bar": [
           {
            "error_x": {
             "color": "#2a3f5f"
            },
            "error_y": {
             "color": "#2a3f5f"
            },
            "marker": {
             "line": {
              "color": "#E5ECF6",
              "width": 0.5
             }
            },
            "type": "bar"
           }
          ],
          "barpolar": [
           {
            "marker": {
             "line": {
              "color": "#E5ECF6",
              "width": 0.5
             }
            },
            "type": "barpolar"
           }
          ],
          "carpet": [
           {
            "aaxis": {
             "endlinecolor": "#2a3f5f",
             "gridcolor": "white",
             "linecolor": "white",
             "minorgridcolor": "white",
             "startlinecolor": "#2a3f5f"
            },
            "baxis": {
             "endlinecolor": "#2a3f5f",
             "gridcolor": "white",
             "linecolor": "white",
             "minorgridcolor": "white",
             "startlinecolor": "#2a3f5f"
            },
            "type": "carpet"
           }
          ],
          "choropleth": [
           {
            "colorbar": {
             "outlinewidth": 0,
             "ticks": ""
            },
            "type": "choropleth"
           }
          ],
          "contour": [
           {
            "colorbar": {
             "outlinewidth": 0,
             "ticks": ""
            },
            "colorscale": [
             [
              0,
              "#0d0887"
             ],
             [
              0.1111111111111111,
              "#46039f"
             ],
             [
              0.2222222222222222,
              "#7201a8"
             ],
             [
              0.3333333333333333,
              "#9c179e"
             ],
             [
              0.4444444444444444,
              "#bd3786"
             ],
             [
              0.5555555555555556,
              "#d8576b"
             ],
             [
              0.6666666666666666,
              "#ed7953"
             ],
             [
              0.7777777777777778,
              "#fb9f3a"
             ],
             [
              0.8888888888888888,
              "#fdca26"
             ],
             [
              1,
              "#f0f921"
             ]
            ],
            "type": "contour"
           }
          ],
          "contourcarpet": [
           {
            "colorbar": {
             "outlinewidth": 0,
             "ticks": ""
            },
            "type": "contourcarpet"
           }
          ],
          "heatmap": [
           {
            "colorbar": {
             "outlinewidth": 0,
             "ticks": ""
            },
            "colorscale": [
             [
              0,
              "#0d0887"
             ],
             [
              0.1111111111111111,
              "#46039f"
             ],
             [
              0.2222222222222222,
              "#7201a8"
             ],
             [
              0.3333333333333333,
              "#9c179e"
             ],
             [
              0.4444444444444444,
              "#bd3786"
             ],
             [
              0.5555555555555556,
              "#d8576b"
             ],
             [
              0.6666666666666666,
              "#ed7953"
             ],
             [
              0.7777777777777778,
              "#fb9f3a"
             ],
             [
              0.8888888888888888,
              "#fdca26"
             ],
             [
              1,
              "#f0f921"
             ]
            ],
            "type": "heatmap"
           }
          ],
          "heatmapgl": [
           {
            "colorbar": {
             "outlinewidth": 0,
             "ticks": ""
            },
            "colorscale": [
             [
              0,
              "#0d0887"
             ],
             [
              0.1111111111111111,
              "#46039f"
             ],
             [
              0.2222222222222222,
              "#7201a8"
             ],
             [
              0.3333333333333333,
              "#9c179e"
             ],
             [
              0.4444444444444444,
              "#bd3786"
             ],
             [
              0.5555555555555556,
              "#d8576b"
             ],
             [
              0.6666666666666666,
              "#ed7953"
             ],
             [
              0.7777777777777778,
              "#fb9f3a"
             ],
             [
              0.8888888888888888,
              "#fdca26"
             ],
             [
              1,
              "#f0f921"
             ]
            ],
            "type": "heatmapgl"
           }
          ],
          "histogram": [
           {
            "marker": {
             "colorbar": {
              "outlinewidth": 0,
              "ticks": ""
             }
            },
            "type": "histogram"
           }
          ],
          "histogram2d": [
           {
            "colorbar": {
             "outlinewidth": 0,
             "ticks": ""
            },
            "colorscale": [
             [
              0,
              "#0d0887"
             ],
             [
              0.1111111111111111,
              "#46039f"
             ],
             [
              0.2222222222222222,
              "#7201a8"
             ],
             [
              0.3333333333333333,
              "#9c179e"
             ],
             [
              0.4444444444444444,
              "#bd3786"
             ],
             [
              0.5555555555555556,
              "#d8576b"
             ],
             [
              0.6666666666666666,
              "#ed7953"
             ],
             [
              0.7777777777777778,
              "#fb9f3a"
             ],
             [
              0.8888888888888888,
              "#fdca26"
             ],
             [
              1,
              "#f0f921"
             ]
            ],
            "type": "histogram2d"
           }
          ],
          "histogram2dcontour": [
           {
            "colorbar": {
             "outlinewidth": 0,
             "ticks": ""
            },
            "colorscale": [
             [
              0,
              "#0d0887"
             ],
             [
              0.1111111111111111,
              "#46039f"
             ],
             [
              0.2222222222222222,
              "#7201a8"
             ],
             [
              0.3333333333333333,
              "#9c179e"
             ],
             [
              0.4444444444444444,
              "#bd3786"
             ],
             [
              0.5555555555555556,
              "#d8576b"
             ],
             [
              0.6666666666666666,
              "#ed7953"
             ],
             [
              0.7777777777777778,
              "#fb9f3a"
             ],
             [
              0.8888888888888888,
              "#fdca26"
             ],
             [
              1,
              "#f0f921"
             ]
            ],
            "type": "histogram2dcontour"
           }
          ],
          "mesh3d": [
           {
            "colorbar": {
             "outlinewidth": 0,
             "ticks": ""
            },
            "type": "mesh3d"
           }
          ],
          "parcoords": [
           {
            "line": {
             "colorbar": {
              "outlinewidth": 0,
              "ticks": ""
             }
            },
            "type": "parcoords"
           }
          ],
          "pie": [
           {
            "automargin": true,
            "type": "pie"
           }
          ],
          "scatter": [
           {
            "marker": {
             "colorbar": {
              "outlinewidth": 0,
              "ticks": ""
             }
            },
            "type": "scatter"
           }
          ],
          "scatter3d": [
           {
            "line": {
             "colorbar": {
              "outlinewidth": 0,
              "ticks": ""
             }
            },
            "marker": {
             "colorbar": {
              "outlinewidth": 0,
              "ticks": ""
             }
            },
            "type": "scatter3d"
           }
          ],
          "scattercarpet": [
           {
            "marker": {
             "colorbar": {
              "outlinewidth": 0,
              "ticks": ""
             }
            },
            "type": "scattercarpet"
           }
          ],
          "scattergeo": [
           {
            "marker": {
             "colorbar": {
              "outlinewidth": 0,
              "ticks": ""
             }
            },
            "type": "scattergeo"
           }
          ],
          "scattergl": [
           {
            "marker": {
             "colorbar": {
              "outlinewidth": 0,
              "ticks": ""
             }
            },
            "type": "scattergl"
           }
          ],
          "scattermapbox": [
           {
            "marker": {
             "colorbar": {
              "outlinewidth": 0,
              "ticks": ""
             }
            },
            "type": "scattermapbox"
           }
          ],
          "scatterpolar": [
           {
            "marker": {
             "colorbar": {
              "outlinewidth": 0,
              "ticks": ""
             }
            },
            "type": "scatterpolar"
           }
          ],
          "scatterpolargl": [
           {
            "marker": {
             "colorbar": {
              "outlinewidth": 0,
              "ticks": ""
             }
            },
            "type": "scatterpolargl"
           }
          ],
          "scatterternary": [
           {
            "marker": {
             "colorbar": {
              "outlinewidth": 0,
              "ticks": ""
             }
            },
            "type": "scatterternary"
           }
          ],
          "surface": [
           {
            "colorbar": {
             "outlinewidth": 0,
             "ticks": ""
            },
            "colorscale": [
             [
              0,
              "#0d0887"
             ],
             [
              0.1111111111111111,
              "#46039f"
             ],
             [
              0.2222222222222222,
              "#7201a8"
             ],
             [
              0.3333333333333333,
              "#9c179e"
             ],
             [
              0.4444444444444444,
              "#bd3786"
             ],
             [
              0.5555555555555556,
              "#d8576b"
             ],
             [
              0.6666666666666666,
              "#ed7953"
             ],
             [
              0.7777777777777778,
              "#fb9f3a"
             ],
             [
              0.8888888888888888,
              "#fdca26"
             ],
             [
              1,
              "#f0f921"
             ]
            ],
            "type": "surface"
           }
          ],
          "table": [
           {
            "cells": {
             "fill": {
              "color": "#EBF0F8"
             },
             "line": {
              "color": "white"
             }
            },
            "header": {
             "fill": {
              "color": "#C8D4E3"
             },
             "line": {
              "color": "white"
             }
            },
            "type": "table"
           }
          ]
         },
         "layout": {
          "annotationdefaults": {
           "arrowcolor": "#2a3f5f",
           "arrowhead": 0,
           "arrowwidth": 1
          },
          "coloraxis": {
           "colorbar": {
            "outlinewidth": 0,
            "ticks": ""
           }
          },
          "colorscale": {
           "diverging": [
            [
             0,
             "#8e0152"
            ],
            [
             0.1,
             "#c51b7d"
            ],
            [
             0.2,
             "#de77ae"
            ],
            [
             0.3,
             "#f1b6da"
            ],
            [
             0.4,
             "#fde0ef"
            ],
            [
             0.5,
             "#f7f7f7"
            ],
            [
             0.6,
             "#e6f5d0"
            ],
            [
             0.7,
             "#b8e186"
            ],
            [
             0.8,
             "#7fbc41"
            ],
            [
             0.9,
             "#4d9221"
            ],
            [
             1,
             "#276419"
            ]
           ],
           "sequential": [
            [
             0,
             "#0d0887"
            ],
            [
             0.1111111111111111,
             "#46039f"
            ],
            [
             0.2222222222222222,
             "#7201a8"
            ],
            [
             0.3333333333333333,
             "#9c179e"
            ],
            [
             0.4444444444444444,
             "#bd3786"
            ],
            [
             0.5555555555555556,
             "#d8576b"
            ],
            [
             0.6666666666666666,
             "#ed7953"
            ],
            [
             0.7777777777777778,
             "#fb9f3a"
            ],
            [
             0.8888888888888888,
             "#fdca26"
            ],
            [
             1,
             "#f0f921"
            ]
           ],
           "sequentialminus": [
            [
             0,
             "#0d0887"
            ],
            [
             0.1111111111111111,
             "#46039f"
            ],
            [
             0.2222222222222222,
             "#7201a8"
            ],
            [
             0.3333333333333333,
             "#9c179e"
            ],
            [
             0.4444444444444444,
             "#bd3786"
            ],
            [
             0.5555555555555556,
             "#d8576b"
            ],
            [
             0.6666666666666666,
             "#ed7953"
            ],
            [
             0.7777777777777778,
             "#fb9f3a"
            ],
            [
             0.8888888888888888,
             "#fdca26"
            ],
            [
             1,
             "#f0f921"
            ]
           ]
          },
          "colorway": [
           "#1f77b4",
           "#ff7f0e",
           "#2ca02c",
           "#dc3912",
           "#9467bd",
           "#8c564b",
           "#e377c2",
           "#7f7f7f",
           "#bcbd22",
           "#17becf"
          ],
          "font": {
           "color": "#2a3f5f"
          },
          "geo": {
           "bgcolor": "white",
           "lakecolor": "white",
           "landcolor": "#E5ECF6",
           "showlakes": true,
           "showland": true,
           "subunitcolor": "white"
          },
          "hoverlabel": {
           "align": "left"
          },
          "hovermode": "closest",
          "mapbox": {
           "style": "light"
          },
          "paper_bgcolor": "white",
          "plot_bgcolor": "#E5ECF6",
          "polar": {
           "angularaxis": {
            "gridcolor": "white",
            "linecolor": "white",
            "ticks": ""
           },
           "bgcolor": "#E5ECF6",
           "radialaxis": {
            "gridcolor": "white",
            "linecolor": "white",
            "ticks": ""
           }
          },
          "scene": {
           "xaxis": {
            "backgroundcolor": "#E5ECF6",
            "gridcolor": "white",
            "gridwidth": 2,
            "linecolor": "white",
            "showbackground": true,
            "ticks": "",
            "zerolinecolor": "white"
           },
           "yaxis": {
            "backgroundcolor": "#E5ECF6",
            "gridcolor": "white",
            "gridwidth": 2,
            "linecolor": "white",
            "showbackground": true,
            "ticks": "",
            "zerolinecolor": "white"
           },
           "zaxis": {
            "backgroundcolor": "#E5ECF6",
            "gridcolor": "white",
            "gridwidth": 2,
            "linecolor": "white",
            "showbackground": true,
            "ticks": "",
            "zerolinecolor": "white"
           }
          },
          "shapedefaults": {
           "line": {
            "color": "#2a3f5f"
           }
          },
          "ternary": {
           "aaxis": {
            "gridcolor": "white",
            "linecolor": "white",
            "ticks": ""
           },
           "baxis": {
            "gridcolor": "white",
            "linecolor": "white",
            "ticks": ""
           },
           "bgcolor": "#E5ECF6",
           "caxis": {
            "gridcolor": "white",
            "linecolor": "white",
            "ticks": ""
           }
          },
          "title": {
           "x": 0.05
          },
          "xaxis": {
           "automargin": true,
           "gridcolor": "white",
           "linecolor": "white",
           "ticks": "",
           "title": {
            "standoff": 15
           },
           "zerolinecolor": "white",
           "zerolinewidth": 2
          },
          "yaxis": {
           "automargin": true,
           "gridcolor": "white",
           "linecolor": "white",
           "ticks": "",
           "title": {
            "standoff": 15
           },
           "zerolinecolor": "white",
           "zerolinewidth": 2
          }
         }
        },
        "width": 700
       }
      }
     },
     "metadata": {},
     "output_type": "display_data"
    }
   ],
   "source": [
    "import numpy as np\n",
    "\n",
    "returns_data = np.random.normal(0.08, 0.15, 1000)\n",
    "hist = Histogram(\n",
    "    data=returns_data,  # 直接传入数组，不要用列表包装\n",
    "    trace_names=['策略收益分布'],\n",
    "    remove_nan=True,\n",
    "    from_quantile=0.01,\n",
    "    to_quantile=0.99\n",
    ")\n",
    "hist.fig.show()"
   ]
  },
  {
   "cell_type": "markdown",
   "metadata": {},
   "source": [
    "## Box"
   ]
  },
  {
   "cell_type": "code",
   "execution_count": 5,
   "metadata": {},
   "outputs": [
    {
     "data": {
      "application/vnd.plotly.v1+json": {
       "config": {
        "plotlyServerURL": "https://plot.ly"
       },
       "data": [
        {
         "name": "策略A",
         "showlegend": true,
         "type": "box",
         "uid": "01f6a80f-0841-4842-89fb-48215952b956",
         "y": [
          0.003279654280706021,
          0.1149675310699215,
          -0.047573853211111614,
          0.028208153374305066,
          0.08630857871076457,
          0.01551610579550805,
          0.022672495399785206,
          0.17521347041966634,
          0.0472530636814058,
          0.29381969560947124,
          -0.08658940055835639,
          0.1272293561373179,
          0.3866325265435627,
          0.06486051428508911,
          0.025513267606663954,
          0.0031755812902398844,
          0.03157463824463299,
          0.20186760001191328,
          -0.0640203271028134,
          -0.1146979389166078,
          0.04639946707805554,
          0.0009123563368262505,
          0.06310285604693767,
          0.14774114071136313,
          0.09591860165300473,
          -0.0008988490593503512,
          0.030652109206064003,
          0.09311464864386967,
          0.14204005075170897,
          0.10194942882225497,
          0.16942556886699867,
          0.09202458866603219,
          0.03271522785976891,
          -0.11360790887442392,
          0.07032887353582959,
          0.2558865955732771,
          0.023533852160556694,
          0.15191447460708093,
          0.1281253844049586,
          -0.05141776622143525,
          -0.010477027498001085,
          0.196998601683522,
          0.16025673894834852,
          0.17527631812979313,
          0.24090440396740787,
          0.10008411168249547,
          0.21374701593322393,
          -0.01585797186114203,
          0.03746087760227275,
          0.17015215934943884,
          0.19721193279011767,
          -0.020382203742542848,
          0.04239593520501359,
          0.011083049273902496,
          -0.02207841943210033,
          0.16863989484995218,
          -0.01874945881105572,
          0.0036231538070736202,
          -0.11215188813051567,
          0.20969518608677074,
          0.13222840665128177,
          -0.02524131156524556,
          0.07268026363438551,
          0.08448936135278859,
          0.10219112129962954,
          0.07034108759113494,
          0.15209015266893353,
          0.1895098628615579,
          -0.026309085243590713,
          0.07589174990624661,
          -0.06689308369015944,
          0.04429383103322884,
          -0.047721955446948974,
          0.11402587759769321,
          -0.12758799495391127,
          0.26806070958421585,
          0.03469577222636519,
          -0.03713405416978113,
          -0.09998675440805872,
          0.22320256038139585,
          0.10350134113171332,
          -0.0002241607700808751,
          -0.0031828465616262486,
          0.10223344539526161,
          0.12585472169226597,
          0.27117392532321344,
          0.2266929785729087,
          0.1550437909994925,
          -0.0014566882877132953,
          0.11596848286632203,
          0.05416998462283937,
          0.04118584522889161,
          0.050848787435856455,
          0.043128759010408003,
          0.00035925092203167863,
          -0.003199226270685862,
          -0.009142092292103318,
          0.13278557228211824,
          0.10966604145159564,
          -0.1019412958126918,
          -0.09680554411289725,
          0.1707762162474119,
          0.009465245175874173,
          0.12542876380698065,
          -0.0956059500668381,
          0.18555918826321993,
          0.06824209132840484,
          -0.04591330788566782,
          -0.0862581601678077,
          -0.0435151875902343,
          0.14808273516974946,
          -0.09717599910497589,
          0.09113815176799869,
          -0.17977991341721627,
          -0.30158885128092955,
          0.07519428419466047,
          0.2096594126328467,
          0.028431093336582662,
          0.14579689249791727,
          0.1585087243815626,
          0.19675291358857794,
          0.062406640407067754,
          0.22920689432733116,
          0.12064088165642484,
          0.07498036616548669,
          0.11868432472695824,
          0.0013935219056881304,
          -0.18805952334045795,
          0.10124482263286474,
          0.08575202888073051,
          0.03840916451202883,
          -0.011534011033586186,
          -0.007483805092012671,
          0.08576752387757891,
          0.13088360639730573,
          -0.010316131097172776,
          0.08949892182605693,
          0.22030437076883097,
          0.1155777547366324,
          0.01829456653381601,
          0.15558359390059595,
          0.11949453344039287,
          0.2289641456856749,
          0.10628986582884757,
          0.03695381586993658,
          0.01724710594819516,
          0.3556458311582268,
          0.14564858659704005,
          -0.036829279266688913,
          0.10487017892457824,
          -0.07586692370424784,
          0.011416699803806302,
          0.3782212270073816,
          0.1474196581358921,
          0.18066225057331983,
          -0.01151627768419021,
          0.060718069584556784,
          0.25775649417803204,
          0.19764911919507788,
          -0.05826385825988421,
          0.04584597459500874,
          -0.21029588351170903,
          0.2706974684251159,
          0.1281554672881109,
          -0.07950845148029746,
          0.10389182521813936,
          0.12325156663515024,
          0.19497581620565868,
          0.0670036700093739,
          0.09259706117483106,
          0.264407060850377,
          0.006180933646656367,
          0.00982511070605424,
          -0.03018571490115493,
          0.24333382399307257,
          0.018155583160225162,
          0.056711073305911186,
          0.04029671881665229,
          0.04322684275871266,
          0.0827218330072925,
          0.2272441682966334,
          0.36707774006777033,
          0.0014224950290398497,
          -0.05044289545327148,
          -0.08628020247950442,
          0.13846877814091638,
          0.15978579797878384,
          -0.012590357542524758,
          -0.016452880874958026,
          0.20948505296509906,
          0.0792816071871606,
          0.0025940998854889624,
          0.16352809924265893,
          0.00716639366886393,
          0.015744520131603004,
          -0.13242644713110946,
          0.07794105432959818,
          0.012545112746812817,
          -0.08493918088597464,
          -0.02577721529388785,
          0.03697807072218465,
          0.05439311493023574,
          0.03579020463362714,
          0.06611585458329557,
          0.4125829824841678,
          0.19617794892575552,
          0.04602230113839557,
          0.3473346825065977,
          0.11114778019210232,
          -0.11145212782954865,
          -0.16034774969834975,
          -0.04614373485205485,
          0.08934744764271574,
          0.1583428575071758,
          0.07133347727108187,
          0.12577830874694662,
          0.2114241756003294,
          0.13697211593656097,
          -0.02704442686088193,
          -0.0009754612730181189,
          0.20339615916030374,
          -0.023050243242833002,
          0.157782599911143,
          0.09599946062242894,
          0.08536378074197909,
          0.08070487629595477,
          0.22646625843274848,
          -0.07302872388890581,
          0.1669574176203968,
          0.12939432969746853,
          -0.15949693918603497,
          0.062059751038136296,
          -0.0010032799599445363,
          -0.027178107648560684,
          0.13718594870143147,
          -0.08361056615709193,
          0.08804409014274531,
          -0.07743756127599817,
          0.08946432272464647,
          0.08187641330424626,
          0.029294903468442414,
          0.238118801895627,
          -0.032468414165444506,
          0.070487879854345,
          -0.1870868896345158,
          0.13842365498645026,
          0.15473680991604066,
          0.01892997824500292,
          -0.07857636810796127,
          0.1348246289531119,
          -0.022853813986091764,
          0.05192789875290432
         ]
        },
        {
         "name": "策略B",
         "showlegend": true,
         "type": "box",
         "uid": "f8f72b66-a2d0-44fd-87f5-c4cea75ee02d",
         "y": [
          0.15368520577882536,
          0.15611588432143386,
          0.07745094969309552,
          0.2316879161556323,
          -0.03545031314772501,
          -0.041059757325237756,
          0.4582908466373764,
          0.17487424557301845,
          0.04811595112589537,
          0.008604959632409662,
          0.24514288594387854,
          -0.023082195412568465,
          0.11282909132606539,
          -0.1462311359765311,
          0.1171711913152718,
          0.26066741652511893,
          -0.1749354056821463,
          -0.07767854260611703,
          -0.045789513165993695,
          0.20681941133620624,
          0.24213780501974438,
          0.33573860092716634,
          0.0733251806914916,
          0.06676463192326271,
          0.18947061103455276,
          0.09944787085922774,
          0.05816951011594097,
          0.28245261818151046,
          0.03429516049610955,
          -0.012662567543979014,
          -0.0071071656667825445,
          0.09438821124332815,
          0.09714637813299222,
          0.2585890143284451,
          0.1373660985800585,
          0.12896816666141608,
          0.20713335074767536,
          0.0917165091258969,
          0.015438416419533002,
          0.027539287001256837,
          0.1399744673343049,
          -0.02171128970396581,
          0.049228074456172534,
          0.025973908943058746,
          0.24828134313976827,
          -0.04872525252501375,
          0.2258523378507737,
          0.2125320666662609,
          -0.0878534674871187,
          -0.17693569009202717,
          0.08530925266684684,
          -0.05764773444021298,
          0.32000839454797747,
          0.12064453287710766,
          -0.06018140981424122,
          0.48032175387217413,
          0.15532452106090006,
          0.2853056989656412,
          0.10835283821993366,
          0.2346855573602603,
          0.18676974193622775,
          0.20610547354774567,
          0.19322710415459787,
          0.13808530872602953,
          0.03834800363147707,
          0.02213005047635648,
          0.19771871473120567,
          0.007874685768583911,
          -0.04875943790347767,
          0.06818612035487007,
          0.21962134426403226,
          0.3229904833557101,
          0.24716085392583537,
          0.3374551342009105,
          -0.058246725879701894,
          0.29672599741534733,
          0.1898193125235652,
          0.05225141683534407,
          0.4286901153925813,
          0.26577028091098165,
          0.2637105687173529,
          -0.07324832995487929,
          0.02671682667456285,
          0.08118891437017015,
          -0.09895960507765078,
          0.004285126324500774,
          -0.046299556556487625,
          -0.029083030615572047,
          0.2072718207139382,
          0.25727684970462206,
          0.17300308494855066,
          -0.20000184623274123,
          0.22438220312439278,
          0.4669812344443922,
          0.0408440108949139,
          0.049095503499321104,
          0.25167626175449537,
          0.2310484570540641,
          -0.05639264102701402,
          0.22299314338926596,
          0.153190692298456,
          0.032701724612421504,
          0.2623879374377162,
          0.09946833034910312,
          0.2784390502046891,
          0.13503630746294212,
          0.325408334481732,
          0.16196324470197992,
          0.19149067621304394,
          0.1863934361039976,
          -0.0144000434621806,
          0.12411035619364685,
          0.2528438353810334,
          0.11556605280542959,
          0.012106918673132835,
          0.14359284290327995,
          0.051283111798684895,
          0.13508317265443515,
          0.0946501575489037,
          0.12215370273827608,
          0.09482639429257232,
          0.17344100028373644,
          0.07137007542563771,
          0.01102764025909296,
          0.3886883841890141,
          0.192387786591316,
          -0.1360324885777764,
          0.058326847191578164,
          0.0416302692272016,
          0.3380805728413051,
          0.11695280612409648,
          0.10729287980843448,
          0.08430486062661122,
          0.057881528637141674,
          -0.04992922724897983,
          -0.028485085179333486,
          -0.125416524047962,
          0.27891264604413146,
          -0.07344166252822931,
          0.0804516214384985,
          0.23804241250195707,
          0.13092631426731272,
          -0.03161131466205511,
          0.0925208264849048,
          0.07596422863719683,
          0.2281510599496739,
          0.0730617207147416,
          0.09561801964866079,
          0.1917281410902359,
          0.21726813887659813,
          -0.03180821289741792,
          0.21654058400789603,
          -0.00020610851040127331,
          0.15714954541765308,
          0.11616471087277305,
          0.2596339586907147,
          -0.05977382986895516,
          0.15047154121901368,
          0.08545544805994679,
          -0.10904246128223682,
          0.13772978677423955,
          0.2564027150151168,
          0.23436918524466505,
          -0.03299255135690701,
          0.012634159482833987,
          0.2002264393186587,
          0.05278136543641,
          0.1548637224418228,
          0.1383549449996001,
          0.09730768149808983,
          0.3036340494972608,
          -0.061967442617711255,
          -0.060099093846817414,
          0.39268975343418244,
          -0.14797909709495072,
          -0.07283998382299062,
          0.027826655315939128,
          -0.030633957998750877,
          0.3209967390918351,
          -0.011372963129954991,
          0.2722353560097676,
          0.011708581133349022,
          0.06924374844509855,
          0.062350005794412654,
          0.18004065116549722,
          0.06870452693233832,
          -0.30084859915627316,
          0.15821282339624285,
          0.018821796093983975,
          0.1982685766391054,
          -0.014680795365429239,
          0.07302001011671126,
          0.35303218150226323,
          0.45908096924657993,
          0.28038565509280644,
          0.02025729487581887,
          0.12592702635992026,
          0.25136389869106623,
          0.15997201992092613,
          -0.003716389254872471,
          0.1553298854477881,
          -0.05158889135330719,
          0.08131211749115437,
          -0.05557852194710805,
          0.09089251077378205,
          0.23719445018242485,
          0.16083873552097835,
          -0.053636561487159395,
          0.06031060650328487,
          0.0010019727174118975,
          0.5329002548508092,
          -0.040769511715135126,
          -0.04284672962238112,
          -0.13269230864763712,
          0.5742403469178391,
          0.1697863371651041,
          -0.07407182578089783,
          0.1699705257305587,
          -0.21098592918613548,
          0.05522606441513775,
          0.13582540477500396,
          0.09214878232054519,
          0.20376089688708685,
          -0.26557924780864883,
          0.17349299910117022,
          -0.1838870199499549,
          0.14915735073022113,
          0.07865371680220899,
          0.269014129518122,
          0.04056711133010965,
          0.39334430455116987,
          -0.16615304503997194,
          0.12588048696540327,
          -0.05476263465404596,
          -0.028337916766353194,
          0.11875340060646654,
          -0.054614742938461996,
          0.00018036768887129406,
          0.2518104975817015,
          0.27897945613643116,
          -0.03381140125782989,
          0.2861255713946219,
          0.40460589054764984,
          0.07489344749066243,
          0.18977746215688318,
          0.024158242580191724,
          0.23263366634962243,
          -0.17079194517342508,
          -0.022748335044191992,
          -0.08541697342474958,
          0.09135482277837258,
          0.14730876170179305
         ]
        },
        {
         "name": "策略C",
         "showlegend": true,
         "type": "box",
         "uid": "e59e58a6-7b4d-47af-98e1-2ca57d30a501",
         "y": [
          0.21445804742495242,
          -0.12787239195186406,
          0.17545954922432155,
          -0.11901783399112956,
          0.16178405089935927,
          0.07249447240929363,
          0.042276827781098474,
          0.1364769851840731,
          -0.03853525835077727,
          0.24046477963454246,
          0.10443973876896367,
          0.19510811235697512,
          -0.07938294933445839,
          -0.05297597229131153,
          0.08281415992141289,
          -0.11826829286927076,
          0.02736931055572296,
          0.05595765465716204,
          -0.006107429177784521,
          0.06880745666715736,
          -0.07189197995288721,
          0.13955886855945582,
          0.016340433322201434,
          0.139774035677587,
          0.07961410757473289,
          0.06602992814997692,
          0.10875861869867637,
          -0.03922575744197003,
          0.06036649016942662,
          0.042886622272552175,
          0.03525232715243712,
          0.1457342717280064,
          0.007607103340097086,
          0.06055023395783175,
          -0.03485623570836513,
          -0.08738948416893055,
          0.13957111990274393,
          0.22233323146832845,
          -0.09503381282292725,
          0.018508837253294698,
          0.0524563354957702,
          0.1825405073486384,
          0.16350208325371388,
          0.10250288813228078,
          0.03712424630643893,
          -0.08233541757881863,
          0.03830320812335633,
          0.1777212106788765,
          0.0803496263742447,
          0.12512810320591722,
          0.20860486184047564,
          0.07606323949188588,
          0.10012450126930436,
          -0.07922528359565398,
          0.022562983635267243,
          -0.028113363416879533,
          0.02947753404939612,
          0.2356406387851268,
          0.0590085322633876,
          0.14866290404110782,
          0.19697411791406638,
          0.10517427382580224,
          0.06468191542624041,
          0.14031925270789833,
          0.049782741781391415,
          0.11781462896047172,
          0.1772835904687597,
          0.03704982561633187,
          0.1646624739834618,
          -0.027996479508932887,
          0.018841991011386353,
          0.05700728387277517,
          0.13437336067691305,
          0.14601645885897646,
          0.031081834394115087,
          0.1559097492196217,
          0.18433129889295824,
          -0.04062351516238494,
          0.26386334590787347,
          0.037673421787404626,
          -0.014397978151644314,
          0.06757470545958595,
          0.043844862514606356,
          0.10720088424457463,
          0.004553974045146486,
          0.019729435440714933,
          0.14188978032587113,
          0.06730764595331518,
          0.15002843153699524,
          0.09054806380434782,
          0.04889271162146559,
          0.1420129005752822,
          0.030706682180350036,
          0.22253882066057012,
          0.10051896365011809,
          -0.041619444808223355,
          0.06099105455286731,
          0.13606305148501657,
          0.18214288515573468,
          0.0466748255462393,
          0.06992987548464724,
          0.0416168658148071,
          -0.01164877255414952,
          0.031243215042505053,
          0.23512760833050778,
          0.20660450264816116,
          0.07930521735093646,
          0.1589475921699154,
          0.1419696510060551,
          -0.06986955688722751,
          0.12336773082036269,
          0.023776901620310147,
          0.12862238386711344,
          0.014279982256901032,
          0.1262607044497888,
          -0.01997745340270464,
          0.06901781453858939,
          0.07478823765540886,
          0.1363918984712869,
          0.17350251879763334,
          0.033935012608980034,
          0.12570521231647064,
          0.01280529188090631,
          0.05971251689925391,
          0.15996547137475275,
          0.17924297020370128,
          0.018309868217874982,
          -0.07276264652891387,
          0.11433593640198433,
          -0.09566046574989528,
          0.32220280750847335,
          -0.03220067010142531,
          0.1368787488079668,
          0.09654597040568007,
          0.1824534139038906,
          -0.07281185134560703,
          0.019890266155012798,
          0.05095537830931762,
          0.04362932928676058,
          0.009413358977391442,
          -0.07206162136375077,
          0.01668586376366126,
          -0.03718150461993264,
          0.137898079435762,
          0.07698704304545989,
          0.08299095053335938,
          -0.17522639021143266,
          0.10941201463708627,
          0.22183886729245816,
          0.13746775389046373,
          -0.03565168182402216,
          -0.12282411123189074,
          0.0013188659191414112,
          0.1084650059196445,
          0.15024162986414616,
          -0.0018909835688059318,
          0.0725562897319712,
          0.11570553762368618,
          0.015800537022963378,
          -0.12831804159561402,
          -0.022920029046037294,
          0.16949684521535327,
          0.1481879754046378,
          -0.06634370759723468,
          0.006813403445950182,
          0.1398142547444099,
          0.046035431576412864,
          -0.036575851884484506,
          -0.1185829277135311,
          -0.03927552568893716,
          0.019079756303982565,
          0.03800823329071426,
          0.15712124606590697,
          0.054871044865667504,
          0.10851686554994572,
          0.04941990389855693,
          0.16330873032266272,
          0.04082475463043757,
          0.1130516295735528,
          0.05486316893714094,
          -0.00016590957595258304,
          -0.0018622750341265454,
          -0.05060786020077064,
          -0.015131494878152435,
          0.1618211182412421,
          0.0876782381999977,
          -0.009762255932507749,
          0.09170548403600833,
          -0.030116646536417296,
          0.00797910268487799,
          0.04774529004260257,
          0.07228618638645981,
          0.17917734338120916,
          -0.0623216806274985,
          -0.023742900579578563,
          -0.01762206268694408,
          0.00920393011262853,
          0.10595177497925684,
          -0.05161099561343334,
          0.1054006968376659,
          0.026128292767401078,
          0.039550801963881846,
          0.14033094892960638,
          0.07567557856680146,
          -0.09361466164155904,
          0.013132004249803549,
          -0.03229293841092057,
          0.08028264520968806,
          0.13084183916913686,
          0.04957253133285895,
          0.13185490120021487,
          0.10478292804073334,
          0.04574207801858292,
          0.07616603348284788,
          0.011264923357072,
          0.17964661017389894,
          0.002244045353630819,
          -0.02431631952651596,
          0.09166263014173778,
          0.03431274379125307,
          0.03281980344280178,
          -0.011055360063499053,
          0.06174764086772134,
          0.026932805810616432,
          0.06646773894658185,
          0.07732687762616539,
          0.03509795398232253,
          0.07906491994554668,
          0.08901077175499683,
          0.0577163588434122,
          0.026557570535263746,
          0.05243566373924274,
          0.253428137068895,
          -0.05012784235179159,
          0.1961837007571911,
          -0.0008833031418782472,
          0.19363465643094405,
          0.09285198872549463,
          0.24834230464950274,
          0.19475182054689444,
          -0.10680856781454387,
          0.12728624418559506,
          -0.013522203694830745,
          0.10701129038647425,
          0.07179708717343025,
          0.00933834070733873,
          0.08961998230919513,
          -0.07518361636182314,
          -0.11637279620177851,
          -0.0058689871305386415,
          0.057977961898272534,
          0.03333961281647964
         ]
        }
       ],
       "layout": {
        "height": 350,
        "legend": {
         "orientation": "h",
         "traceorder": "normal",
         "x": 1,
         "xanchor": "right",
         "y": 1.02,
         "yanchor": "bottom"
        },
        "margin": {
         "b": 30,
         "l": 30,
         "r": 30,
         "t": 30
        },
        "template": {
         "data": {
          "bar": [
           {
            "error_x": {
             "color": "#2a3f5f"
            },
            "error_y": {
             "color": "#2a3f5f"
            },
            "marker": {
             "line": {
              "color": "#E5ECF6",
              "width": 0.5
             }
            },
            "type": "bar"
           }
          ],
          "barpolar": [
           {
            "marker": {
             "line": {
              "color": "#E5ECF6",
              "width": 0.5
             }
            },
            "type": "barpolar"
           }
          ],
          "carpet": [
           {
            "aaxis": {
             "endlinecolor": "#2a3f5f",
             "gridcolor": "white",
             "linecolor": "white",
             "minorgridcolor": "white",
             "startlinecolor": "#2a3f5f"
            },
            "baxis": {
             "endlinecolor": "#2a3f5f",
             "gridcolor": "white",
             "linecolor": "white",
             "minorgridcolor": "white",
             "startlinecolor": "#2a3f5f"
            },
            "type": "carpet"
           }
          ],
          "choropleth": [
           {
            "colorbar": {
             "outlinewidth": 0,
             "ticks": ""
            },
            "type": "choropleth"
           }
          ],
          "contour": [
           {
            "colorbar": {
             "outlinewidth": 0,
             "ticks": ""
            },
            "colorscale": [
             [
              0,
              "#0d0887"
             ],
             [
              0.1111111111111111,
              "#46039f"
             ],
             [
              0.2222222222222222,
              "#7201a8"
             ],
             [
              0.3333333333333333,
              "#9c179e"
             ],
             [
              0.4444444444444444,
              "#bd3786"
             ],
             [
              0.5555555555555556,
              "#d8576b"
             ],
             [
              0.6666666666666666,
              "#ed7953"
             ],
             [
              0.7777777777777778,
              "#fb9f3a"
             ],
             [
              0.8888888888888888,
              "#fdca26"
             ],
             [
              1,
              "#f0f921"
             ]
            ],
            "type": "contour"
           }
          ],
          "contourcarpet": [
           {
            "colorbar": {
             "outlinewidth": 0,
             "ticks": ""
            },
            "type": "contourcarpet"
           }
          ],
          "heatmap": [
           {
            "colorbar": {
             "outlinewidth": 0,
             "ticks": ""
            },
            "colorscale": [
             [
              0,
              "#0d0887"
             ],
             [
              0.1111111111111111,
              "#46039f"
             ],
             [
              0.2222222222222222,
              "#7201a8"
             ],
             [
              0.3333333333333333,
              "#9c179e"
             ],
             [
              0.4444444444444444,
              "#bd3786"
             ],
             [
              0.5555555555555556,
              "#d8576b"
             ],
             [
              0.6666666666666666,
              "#ed7953"
             ],
             [
              0.7777777777777778,
              "#fb9f3a"
             ],
             [
              0.8888888888888888,
              "#fdca26"
             ],
             [
              1,
              "#f0f921"
             ]
            ],
            "type": "heatmap"
           }
          ],
          "heatmapgl": [
           {
            "colorbar": {
             "outlinewidth": 0,
             "ticks": ""
            },
            "colorscale": [
             [
              0,
              "#0d0887"
             ],
             [
              0.1111111111111111,
              "#46039f"
             ],
             [
              0.2222222222222222,
              "#7201a8"
             ],
             [
              0.3333333333333333,
              "#9c179e"
             ],
             [
              0.4444444444444444,
              "#bd3786"
             ],
             [
              0.5555555555555556,
              "#d8576b"
             ],
             [
              0.6666666666666666,
              "#ed7953"
             ],
             [
              0.7777777777777778,
              "#fb9f3a"
             ],
             [
              0.8888888888888888,
              "#fdca26"
             ],
             [
              1,
              "#f0f921"
             ]
            ],
            "type": "heatmapgl"
           }
          ],
          "histogram": [
           {
            "marker": {
             "colorbar": {
              "outlinewidth": 0,
              "ticks": ""
             }
            },
            "type": "histogram"
           }
          ],
          "histogram2d": [
           {
            "colorbar": {
             "outlinewidth": 0,
             "ticks": ""
            },
            "colorscale": [
             [
              0,
              "#0d0887"
             ],
             [
              0.1111111111111111,
              "#46039f"
             ],
             [
              0.2222222222222222,
              "#7201a8"
             ],
             [
              0.3333333333333333,
              "#9c179e"
             ],
             [
              0.4444444444444444,
              "#bd3786"
             ],
             [
              0.5555555555555556,
              "#d8576b"
             ],
             [
              0.6666666666666666,
              "#ed7953"
             ],
             [
              0.7777777777777778,
              "#fb9f3a"
             ],
             [
              0.8888888888888888,
              "#fdca26"
             ],
             [
              1,
              "#f0f921"
             ]
            ],
            "type": "histogram2d"
           }
          ],
          "histogram2dcontour": [
           {
            "colorbar": {
             "outlinewidth": 0,
             "ticks": ""
            },
            "colorscale": [
             [
              0,
              "#0d0887"
             ],
             [
              0.1111111111111111,
              "#46039f"
             ],
             [
              0.2222222222222222,
              "#7201a8"
             ],
             [
              0.3333333333333333,
              "#9c179e"
             ],
             [
              0.4444444444444444,
              "#bd3786"
             ],
             [
              0.5555555555555556,
              "#d8576b"
             ],
             [
              0.6666666666666666,
              "#ed7953"
             ],
             [
              0.7777777777777778,
              "#fb9f3a"
             ],
             [
              0.8888888888888888,
              "#fdca26"
             ],
             [
              1,
              "#f0f921"
             ]
            ],
            "type": "histogram2dcontour"
           }
          ],
          "mesh3d": [
           {
            "colorbar": {
             "outlinewidth": 0,
             "ticks": ""
            },
            "type": "mesh3d"
           }
          ],
          "parcoords": [
           {
            "line": {
             "colorbar": {
              "outlinewidth": 0,
              "ticks": ""
             }
            },
            "type": "parcoords"
           }
          ],
          "pie": [
           {
            "automargin": true,
            "type": "pie"
           }
          ],
          "scatter": [
           {
            "marker": {
             "colorbar": {
              "outlinewidth": 0,
              "ticks": ""
             }
            },
            "type": "scatter"
           }
          ],
          "scatter3d": [
           {
            "line": {
             "colorbar": {
              "outlinewidth": 0,
              "ticks": ""
             }
            },
            "marker": {
             "colorbar": {
              "outlinewidth": 0,
              "ticks": ""
             }
            },
            "type": "scatter3d"
           }
          ],
          "scattercarpet": [
           {
            "marker": {
             "colorbar": {
              "outlinewidth": 0,
              "ticks": ""
             }
            },
            "type": "scattercarpet"
           }
          ],
          "scattergeo": [
           {
            "marker": {
             "colorbar": {
              "outlinewidth": 0,
              "ticks": ""
             }
            },
            "type": "scattergeo"
           }
          ],
          "scattergl": [
           {
            "marker": {
             "colorbar": {
              "outlinewidth": 0,
              "ticks": ""
             }
            },
            "type": "scattergl"
           }
          ],
          "scattermapbox": [
           {
            "marker": {
             "colorbar": {
              "outlinewidth": 0,
              "ticks": ""
             }
            },
            "type": "scattermapbox"
           }
          ],
          "scatterpolar": [
           {
            "marker": {
             "colorbar": {
              "outlinewidth": 0,
              "ticks": ""
             }
            },
            "type": "scatterpolar"
           }
          ],
          "scatterpolargl": [
           {
            "marker": {
             "colorbar": {
              "outlinewidth": 0,
              "ticks": ""
             }
            },
            "type": "scatterpolargl"
           }
          ],
          "scatterternary": [
           {
            "marker": {
             "colorbar": {
              "outlinewidth": 0,
              "ticks": ""
             }
            },
            "type": "scatterternary"
           }
          ],
          "surface": [
           {
            "colorbar": {
             "outlinewidth": 0,
             "ticks": ""
            },
            "colorscale": [
             [
              0,
              "#0d0887"
             ],
             [
              0.1111111111111111,
              "#46039f"
             ],
             [
              0.2222222222222222,
              "#7201a8"
             ],
             [
              0.3333333333333333,
              "#9c179e"
             ],
             [
              0.4444444444444444,
              "#bd3786"
             ],
             [
              0.5555555555555556,
              "#d8576b"
             ],
             [
              0.6666666666666666,
              "#ed7953"
             ],
             [
              0.7777777777777778,
              "#fb9f3a"
             ],
             [
              0.8888888888888888,
              "#fdca26"
             ],
             [
              1,
              "#f0f921"
             ]
            ],
            "type": "surface"
           }
          ],
          "table": [
           {
            "cells": {
             "fill": {
              "color": "#EBF0F8"
             },
             "line": {
              "color": "white"
             }
            },
            "header": {
             "fill": {
              "color": "#C8D4E3"
             },
             "line": {
              "color": "white"
             }
            },
            "type": "table"
           }
          ]
         },
         "layout": {
          "annotationdefaults": {
           "arrowcolor": "#2a3f5f",
           "arrowhead": 0,
           "arrowwidth": 1
          },
          "coloraxis": {
           "colorbar": {
            "outlinewidth": 0,
            "ticks": ""
           }
          },
          "colorscale": {
           "diverging": [
            [
             0,
             "#8e0152"
            ],
            [
             0.1,
             "#c51b7d"
            ],
            [
             0.2,
             "#de77ae"
            ],
            [
             0.3,
             "#f1b6da"
            ],
            [
             0.4,
             "#fde0ef"
            ],
            [
             0.5,
             "#f7f7f7"
            ],
            [
             0.6,
             "#e6f5d0"
            ],
            [
             0.7,
             "#b8e186"
            ],
            [
             0.8,
             "#7fbc41"
            ],
            [
             0.9,
             "#4d9221"
            ],
            [
             1,
             "#276419"
            ]
           ],
           "sequential": [
            [
             0,
             "#0d0887"
            ],
            [
             0.1111111111111111,
             "#46039f"
            ],
            [
             0.2222222222222222,
             "#7201a8"
            ],
            [
             0.3333333333333333,
             "#9c179e"
            ],
            [
             0.4444444444444444,
             "#bd3786"
            ],
            [
             0.5555555555555556,
             "#d8576b"
            ],
            [
             0.6666666666666666,
             "#ed7953"
            ],
            [
             0.7777777777777778,
             "#fb9f3a"
            ],
            [
             0.8888888888888888,
             "#fdca26"
            ],
            [
             1,
             "#f0f921"
            ]
           ],
           "sequentialminus": [
            [
             0,
             "#0d0887"
            ],
            [
             0.1111111111111111,
             "#46039f"
            ],
            [
             0.2222222222222222,
             "#7201a8"
            ],
            [
             0.3333333333333333,
             "#9c179e"
            ],
            [
             0.4444444444444444,
             "#bd3786"
            ],
            [
             0.5555555555555556,
             "#d8576b"
            ],
            [
             0.6666666666666666,
             "#ed7953"
            ],
            [
             0.7777777777777778,
             "#fb9f3a"
            ],
            [
             0.8888888888888888,
             "#fdca26"
            ],
            [
             1,
             "#f0f921"
            ]
           ]
          },
          "colorway": [
           "#1f77b4",
           "#ff7f0e",
           "#2ca02c",
           "#dc3912",
           "#9467bd",
           "#8c564b",
           "#e377c2",
           "#7f7f7f",
           "#bcbd22",
           "#17becf"
          ],
          "font": {
           "color": "#2a3f5f"
          },
          "geo": {
           "bgcolor": "white",
           "lakecolor": "white",
           "landcolor": "#E5ECF6",
           "showlakes": true,
           "showland": true,
           "subunitcolor": "white"
          },
          "hoverlabel": {
           "align": "left"
          },
          "hovermode": "closest",
          "mapbox": {
           "style": "light"
          },
          "paper_bgcolor": "white",
          "plot_bgcolor": "#E5ECF6",
          "polar": {
           "angularaxis": {
            "gridcolor": "white",
            "linecolor": "white",
            "ticks": ""
           },
           "bgcolor": "#E5ECF6",
           "radialaxis": {
            "gridcolor": "white",
            "linecolor": "white",
            "ticks": ""
           }
          },
          "scene": {
           "xaxis": {
            "backgroundcolor": "#E5ECF6",
            "gridcolor": "white",
            "gridwidth": 2,
            "linecolor": "white",
            "showbackground": true,
            "ticks": "",
            "zerolinecolor": "white"
           },
           "yaxis": {
            "backgroundcolor": "#E5ECF6",
            "gridcolor": "white",
            "gridwidth": 2,
            "linecolor": "white",
            "showbackground": true,
            "ticks": "",
            "zerolinecolor": "white"
           },
           "zaxis": {
            "backgroundcolor": "#E5ECF6",
            "gridcolor": "white",
            "gridwidth": 2,
            "linecolor": "white",
            "showbackground": true,
            "ticks": "",
            "zerolinecolor": "white"
           }
          },
          "shapedefaults": {
           "line": {
            "color": "#2a3f5f"
           }
          },
          "ternary": {
           "aaxis": {
            "gridcolor": "white",
            "linecolor": "white",
            "ticks": ""
           },
           "baxis": {
            "gridcolor": "white",
            "linecolor": "white",
            "ticks": ""
           },
           "bgcolor": "#E5ECF6",
           "caxis": {
            "gridcolor": "white",
            "linecolor": "white",
            "ticks": ""
           }
          },
          "title": {
           "x": 0.05
          },
          "xaxis": {
           "automargin": true,
           "gridcolor": "white",
           "linecolor": "white",
           "ticks": "",
           "title": {
            "standoff": 15
           },
           "zerolinecolor": "white",
           "zerolinewidth": 2
          },
          "yaxis": {
           "automargin": true,
           "gridcolor": "white",
           "linecolor": "white",
           "ticks": "",
           "title": {
            "standoff": 15
           },
           "zerolinecolor": "white",
           "zerolinewidth": 2
          }
         }
        },
        "width": 700
       }
      }
     },
     "metadata": {},
     "output_type": "display_data"
    }
   ],
   "source": [
    "data = np.column_stack([\n",
    "    np.random.normal(0.08, 0.12, 252),  # 策略A\n",
    "    np.random.normal(0.10, 0.15, 252),  # 策略B\n",
    "    np.random.normal(0.06, 0.08, 252)   # 策略C\n",
    "])\n",
    "\n",
    "box = Box(\n",
    "    data=data,\n",
    "    trace_names=['策略A', '策略B', '策略C'],\n",
    "    remove_nan=True\n",
    ")\n",
    "box.fig.show()"
   ]
  },
  {
   "cell_type": "markdown",
   "metadata": {},
   "source": [
    "## Heatmap"
   ]
  },
  {
   "cell_type": "code",
   "execution_count": 6,
   "metadata": {},
   "outputs": [
    {
     "data": {
      "application/vnd.plotly.v1+json": {
       "config": {
        "plotlyServerURL": "https://plot.ly"
       },
       "data": [
        {
         "colorscale": [
          [
           0,
           "#0d0887"
          ],
          [
           0.1111111111111111,
           "#46039f"
          ],
          [
           0.2222222222222222,
           "#7201a8"
          ],
          [
           0.3333333333333333,
           "#9c179e"
          ],
          [
           0.4444444444444444,
           "#bd3786"
          ],
          [
           0.5555555555555556,
           "#d8576b"
          ],
          [
           0.6666666666666666,
           "#ed7953"
          ],
          [
           0.7777777777777778,
           "#fb9f3a"
          ],
          [
           0.8888888888888888,
           "#fdca26"
          ],
          [
           1,
           "#f0f921"
          ]
         ],
         "hoverongaps": false,
         "type": "heatmap",
         "uid": "57c01378-f4dc-43dc-8dc6-69fbce0a7eeb",
         "x": [
          "策略A",
          "策略B",
          "策略C",
          "策略D"
         ],
         "y": [
          "1月",
          "2月",
          "3月",
          "4月",
          "5月",
          "6月",
          "7月",
          "8月",
          "9月",
          "10月",
          "11月",
          "12月"
         ],
         "z": [
          [
           0.061789637593568925,
           0.050129978565167876,
           0.022938120884782975,
           0.6634223935320217
          ],
          [
           0.667318863445256,
           0.7538621679252041,
           0.07046143189532506,
           0.7935625704368618
          ],
          [
           0.3735250979893576,
           0.427817233154824,
           0.4354372578446637,
           0.23726494778079832
          ],
          [
           0.024386903760529988,
           0.940793474025242,
           0.18623310139868476,
           0.6923087964194696
          ],
          [
           0.540447236677723,
           0.7904717967543701,
           0.4027497140919971,
           0.8763998322629077
          ],
          [
           0.8737380214683396,
           0.7412640523572118,
           0.9470277478691158,
           0.49711024408533533
          ],
          [
           0.11079521279437698,
           0.8331868970943646,
           0.28449196418923983,
           0.33646549329556474
          ],
          [
           0.4500054911822131,
           0.49476482168854796,
           0.8492358772324904,
           0.6004713330958458
          ],
          [
           0.6033252420756791,
           0.262824328183741,
           0.5538630794926516,
           0.48394237361676706
          ],
          [
           0.4416627252399534,
           0.5192469091950033,
           0.9309204713045438,
           0.4053618195398604
          ],
          [
           0.5924327823668841,
           0.7340727095124486,
           0.2455697972608466,
           0.5176296697866716
          ],
          [
           0.5043199558785258,
           0.18393027331993472,
           0.3826368574113873,
           0.8597267687477121
          ]
         ]
        }
       ],
       "layout": {
        "height": 489.99999999999994,
        "legend": {
         "orientation": "h",
         "traceorder": "normal",
         "x": 1,
         "xanchor": "right",
         "y": 1.02,
         "yanchor": "bottom"
        },
        "margin": {
         "b": 30,
         "l": 30,
         "r": 30,
         "t": 30
        },
        "template": {
         "data": {
          "bar": [
           {
            "error_x": {
             "color": "#2a3f5f"
            },
            "error_y": {
             "color": "#2a3f5f"
            },
            "marker": {
             "line": {
              "color": "#E5ECF6",
              "width": 0.5
             }
            },
            "type": "bar"
           }
          ],
          "barpolar": [
           {
            "marker": {
             "line": {
              "color": "#E5ECF6",
              "width": 0.5
             }
            },
            "type": "barpolar"
           }
          ],
          "carpet": [
           {
            "aaxis": {
             "endlinecolor": "#2a3f5f",
             "gridcolor": "white",
             "linecolor": "white",
             "minorgridcolor": "white",
             "startlinecolor": "#2a3f5f"
            },
            "baxis": {
             "endlinecolor": "#2a3f5f",
             "gridcolor": "white",
             "linecolor": "white",
             "minorgridcolor": "white",
             "startlinecolor": "#2a3f5f"
            },
            "type": "carpet"
           }
          ],
          "choropleth": [
           {
            "colorbar": {
             "outlinewidth": 0,
             "ticks": ""
            },
            "type": "choropleth"
           }
          ],
          "contour": [
           {
            "colorbar": {
             "outlinewidth": 0,
             "ticks": ""
            },
            "colorscale": [
             [
              0,
              "#0d0887"
             ],
             [
              0.1111111111111111,
              "#46039f"
             ],
             [
              0.2222222222222222,
              "#7201a8"
             ],
             [
              0.3333333333333333,
              "#9c179e"
             ],
             [
              0.4444444444444444,
              "#bd3786"
             ],
             [
              0.5555555555555556,
              "#d8576b"
             ],
             [
              0.6666666666666666,
              "#ed7953"
             ],
             [
              0.7777777777777778,
              "#fb9f3a"
             ],
             [
              0.8888888888888888,
              "#fdca26"
             ],
             [
              1,
              "#f0f921"
             ]
            ],
            "type": "contour"
           }
          ],
          "contourcarpet": [
           {
            "colorbar": {
             "outlinewidth": 0,
             "ticks": ""
            },
            "type": "contourcarpet"
           }
          ],
          "heatmap": [
           {
            "colorbar": {
             "outlinewidth": 0,
             "ticks": ""
            },
            "colorscale": [
             [
              0,
              "#0d0887"
             ],
             [
              0.1111111111111111,
              "#46039f"
             ],
             [
              0.2222222222222222,
              "#7201a8"
             ],
             [
              0.3333333333333333,
              "#9c179e"
             ],
             [
              0.4444444444444444,
              "#bd3786"
             ],
             [
              0.5555555555555556,
              "#d8576b"
             ],
             [
              0.6666666666666666,
              "#ed7953"
             ],
             [
              0.7777777777777778,
              "#fb9f3a"
             ],
             [
              0.8888888888888888,
              "#fdca26"
             ],
             [
              1,
              "#f0f921"
             ]
            ],
            "type": "heatmap"
           }
          ],
          "heatmapgl": [
           {
            "colorbar": {
             "outlinewidth": 0,
             "ticks": ""
            },
            "colorscale": [
             [
              0,
              "#0d0887"
             ],
             [
              0.1111111111111111,
              "#46039f"
             ],
             [
              0.2222222222222222,
              "#7201a8"
             ],
             [
              0.3333333333333333,
              "#9c179e"
             ],
             [
              0.4444444444444444,
              "#bd3786"
             ],
             [
              0.5555555555555556,
              "#d8576b"
             ],
             [
              0.6666666666666666,
              "#ed7953"
             ],
             [
              0.7777777777777778,
              "#fb9f3a"
             ],
             [
              0.8888888888888888,
              "#fdca26"
             ],
             [
              1,
              "#f0f921"
             ]
            ],
            "type": "heatmapgl"
           }
          ],
          "histogram": [
           {
            "marker": {
             "colorbar": {
              "outlinewidth": 0,
              "ticks": ""
             }
            },
            "type": "histogram"
           }
          ],
          "histogram2d": [
           {
            "colorbar": {
             "outlinewidth": 0,
             "ticks": ""
            },
            "colorscale": [
             [
              0,
              "#0d0887"
             ],
             [
              0.1111111111111111,
              "#46039f"
             ],
             [
              0.2222222222222222,
              "#7201a8"
             ],
             [
              0.3333333333333333,
              "#9c179e"
             ],
             [
              0.4444444444444444,
              "#bd3786"
             ],
             [
              0.5555555555555556,
              "#d8576b"
             ],
             [
              0.6666666666666666,
              "#ed7953"
             ],
             [
              0.7777777777777778,
              "#fb9f3a"
             ],
             [
              0.8888888888888888,
              "#fdca26"
             ],
             [
              1,
              "#f0f921"
             ]
            ],
            "type": "histogram2d"
           }
          ],
          "histogram2dcontour": [
           {
            "colorbar": {
             "outlinewidth": 0,
             "ticks": ""
            },
            "colorscale": [
             [
              0,
              "#0d0887"
             ],
             [
              0.1111111111111111,
              "#46039f"
             ],
             [
              0.2222222222222222,
              "#7201a8"
             ],
             [
              0.3333333333333333,
              "#9c179e"
             ],
             [
              0.4444444444444444,
              "#bd3786"
             ],
             [
              0.5555555555555556,
              "#d8576b"
             ],
             [
              0.6666666666666666,
              "#ed7953"
             ],
             [
              0.7777777777777778,
              "#fb9f3a"
             ],
             [
              0.8888888888888888,
              "#fdca26"
             ],
             [
              1,
              "#f0f921"
             ]
            ],
            "type": "histogram2dcontour"
           }
          ],
          "mesh3d": [
           {
            "colorbar": {
             "outlinewidth": 0,
             "ticks": ""
            },
            "type": "mesh3d"
           }
          ],
          "parcoords": [
           {
            "line": {
             "colorbar": {
              "outlinewidth": 0,
              "ticks": ""
             }
            },
            "type": "parcoords"
           }
          ],
          "pie": [
           {
            "automargin": true,
            "type": "pie"
           }
          ],
          "scatter": [
           {
            "marker": {
             "colorbar": {
              "outlinewidth": 0,
              "ticks": ""
             }
            },
            "type": "scatter"
           }
          ],
          "scatter3d": [
           {
            "line": {
             "colorbar": {
              "outlinewidth": 0,
              "ticks": ""
             }
            },
            "marker": {
             "colorbar": {
              "outlinewidth": 0,
              "ticks": ""
             }
            },
            "type": "scatter3d"
           }
          ],
          "scattercarpet": [
           {
            "marker": {
             "colorbar": {
              "outlinewidth": 0,
              "ticks": ""
             }
            },
            "type": "scattercarpet"
           }
          ],
          "scattergeo": [
           {
            "marker": {
             "colorbar": {
              "outlinewidth": 0,
              "ticks": ""
             }
            },
            "type": "scattergeo"
           }
          ],
          "scattergl": [
           {
            "marker": {
             "colorbar": {
              "outlinewidth": 0,
              "ticks": ""
             }
            },
            "type": "scattergl"
           }
          ],
          "scattermapbox": [
           {
            "marker": {
             "colorbar": {
              "outlinewidth": 0,
              "ticks": ""
             }
            },
            "type": "scattermapbox"
           }
          ],
          "scatterpolar": [
           {
            "marker": {
             "colorbar": {
              "outlinewidth": 0,
              "ticks": ""
             }
            },
            "type": "scatterpolar"
           }
          ],
          "scatterpolargl": [
           {
            "marker": {
             "colorbar": {
              "outlinewidth": 0,
              "ticks": ""
             }
            },
            "type": "scatterpolargl"
           }
          ],
          "scatterternary": [
           {
            "marker": {
             "colorbar": {
              "outlinewidth": 0,
              "ticks": ""
             }
            },
            "type": "scatterternary"
           }
          ],
          "surface": [
           {
            "colorbar": {
             "outlinewidth": 0,
             "ticks": ""
            },
            "colorscale": [
             [
              0,
              "#0d0887"
             ],
             [
              0.1111111111111111,
              "#46039f"
             ],
             [
              0.2222222222222222,
              "#7201a8"
             ],
             [
              0.3333333333333333,
              "#9c179e"
             ],
             [
              0.4444444444444444,
              "#bd3786"
             ],
             [
              0.5555555555555556,
              "#d8576b"
             ],
             [
              0.6666666666666666,
              "#ed7953"
             ],
             [
              0.7777777777777778,
              "#fb9f3a"
             ],
             [
              0.8888888888888888,
              "#fdca26"
             ],
             [
              1,
              "#f0f921"
             ]
            ],
            "type": "surface"
           }
          ],
          "table": [
           {
            "cells": {
             "fill": {
              "color": "#EBF0F8"
             },
             "line": {
              "color": "white"
             }
            },
            "header": {
             "fill": {
              "color": "#C8D4E3"
             },
             "line": {
              "color": "white"
             }
            },
            "type": "table"
           }
          ]
         },
         "layout": {
          "annotationdefaults": {
           "arrowcolor": "#2a3f5f",
           "arrowhead": 0,
           "arrowwidth": 1
          },
          "coloraxis": {
           "colorbar": {
            "outlinewidth": 0,
            "ticks": ""
           }
          },
          "colorscale": {
           "diverging": [
            [
             0,
             "#8e0152"
            ],
            [
             0.1,
             "#c51b7d"
            ],
            [
             0.2,
             "#de77ae"
            ],
            [
             0.3,
             "#f1b6da"
            ],
            [
             0.4,
             "#fde0ef"
            ],
            [
             0.5,
             "#f7f7f7"
            ],
            [
             0.6,
             "#e6f5d0"
            ],
            [
             0.7,
             "#b8e186"
            ],
            [
             0.8,
             "#7fbc41"
            ],
            [
             0.9,
             "#4d9221"
            ],
            [
             1,
             "#276419"
            ]
           ],
           "sequential": [
            [
             0,
             "#0d0887"
            ],
            [
             0.1111111111111111,
             "#46039f"
            ],
            [
             0.2222222222222222,
             "#7201a8"
            ],
            [
             0.3333333333333333,
             "#9c179e"
            ],
            [
             0.4444444444444444,
             "#bd3786"
            ],
            [
             0.5555555555555556,
             "#d8576b"
            ],
            [
             0.6666666666666666,
             "#ed7953"
            ],
            [
             0.7777777777777778,
             "#fb9f3a"
            ],
            [
             0.8888888888888888,
             "#fdca26"
            ],
            [
             1,
             "#f0f921"
            ]
           ],
           "sequentialminus": [
            [
             0,
             "#0d0887"
            ],
            [
             0.1111111111111111,
             "#46039f"
            ],
            [
             0.2222222222222222,
             "#7201a8"
            ],
            [
             0.3333333333333333,
             "#9c179e"
            ],
            [
             0.4444444444444444,
             "#bd3786"
            ],
            [
             0.5555555555555556,
             "#d8576b"
            ],
            [
             0.6666666666666666,
             "#ed7953"
            ],
            [
             0.7777777777777778,
             "#fb9f3a"
            ],
            [
             0.8888888888888888,
             "#fdca26"
            ],
            [
             1,
             "#f0f921"
            ]
           ]
          },
          "colorway": [
           "#1f77b4",
           "#ff7f0e",
           "#2ca02c",
           "#dc3912",
           "#9467bd",
           "#8c564b",
           "#e377c2",
           "#7f7f7f",
           "#bcbd22",
           "#17becf"
          ],
          "font": {
           "color": "#2a3f5f"
          },
          "geo": {
           "bgcolor": "white",
           "lakecolor": "white",
           "landcolor": "#E5ECF6",
           "showlakes": true,
           "showland": true,
           "subunitcolor": "white"
          },
          "hoverlabel": {
           "align": "left"
          },
          "hovermode": "closest",
          "mapbox": {
           "style": "light"
          },
          "paper_bgcolor": "white",
          "plot_bgcolor": "#E5ECF6",
          "polar": {
           "angularaxis": {
            "gridcolor": "white",
            "linecolor": "white",
            "ticks": ""
           },
           "bgcolor": "#E5ECF6",
           "radialaxis": {
            "gridcolor": "white",
            "linecolor": "white",
            "ticks": ""
           }
          },
          "scene": {
           "xaxis": {
            "backgroundcolor": "#E5ECF6",
            "gridcolor": "white",
            "gridwidth": 2,
            "linecolor": "white",
            "showbackground": true,
            "ticks": "",
            "zerolinecolor": "white"
           },
           "yaxis": {
            "backgroundcolor": "#E5ECF6",
            "gridcolor": "white",
            "gridwidth": 2,
            "linecolor": "white",
            "showbackground": true,
            "ticks": "",
            "zerolinecolor": "white"
           },
           "zaxis": {
            "backgroundcolor": "#E5ECF6",
            "gridcolor": "white",
            "gridwidth": 2,
            "linecolor": "white",
            "showbackground": true,
            "ticks": "",
            "zerolinecolor": "white"
           }
          },
          "shapedefaults": {
           "line": {
            "color": "#2a3f5f"
           }
          },
          "ternary": {
           "aaxis": {
            "gridcolor": "white",
            "linecolor": "white",
            "ticks": ""
           },
           "baxis": {
            "gridcolor": "white",
            "linecolor": "white",
            "ticks": ""
           },
           "bgcolor": "#E5ECF6",
           "caxis": {
            "gridcolor": "white",
            "linecolor": "white",
            "ticks": ""
           }
          },
          "title": {
           "x": 0.05
          },
          "xaxis": {
           "automargin": true,
           "gridcolor": "white",
           "linecolor": "white",
           "ticks": "",
           "title": {
            "standoff": 15
           },
           "zerolinecolor": "white",
           "zerolinewidth": 2
          },
          "yaxis": {
           "automargin": true,
           "gridcolor": "white",
           "linecolor": "white",
           "ticks": "",
           "title": {
            "standoff": 15
           },
           "zerolinecolor": "white",
           "zerolinewidth": 2
          }
         }
        },
        "width": 483,
        "xaxis": {
         "type": "category"
        },
        "yaxis": {
         "type": "category"
        }
       }
      }
     },
     "metadata": {},
     "output_type": "display_data"
    }
   ],
   "source": [
    "import numpy as np\n",
    "\n",
    "performance_data = np.random.rand(12, 4)  # 12个月，4个策略\n",
    "strategy_heatmap = Heatmap(\n",
    "    data=performance_data,\n",
    "    x_labels=['策略A', '策略B', '策略C', '策略D'],\n",
    "    y_labels=['1月', '2月', '3月', '4月', '5月', '6月',\n",
    "              '7月', '8月', '9月', '10月', '11月', '12月'],\n",
    "    is_x_category=True,\n",
    "    is_y_category=True\n",
    ")\n",
    "strategy_heatmap.fig.show()"
   ]
  },
  {
   "cell_type": "markdown",
   "metadata": {},
   "source": [
    "## Volume"
   ]
  },
  {
   "cell_type": "code",
   "execution_count": 7,
   "metadata": {},
   "outputs": [
    {
     "data": {
      "application/vnd.plotly.v1+json": {
       "config": {
        "plotlyServerURL": "https://plot.ly"
       },
       "data": [
        {
         "colorscale": [
          [
           0,
           "#0d0887"
          ],
          [
           0.1111111111111111,
           "#46039f"
          ],
          [
           0.2222222222222222,
           "#7201a8"
          ],
          [
           0.3333333333333333,
           "#9c179e"
          ],
          [
           0.4444444444444444,
           "#bd3786"
          ],
          [
           0.5555555555555556,
           "#d8576b"
          ],
          [
           0.6666666666666666,
           "#ed7953"
          ],
          [
           0.7777777777777778,
           "#fb9f3a"
          ],
          [
           0.8888888888888888,
           "#fdca26"
          ],
          [
           1,
           "#f0f921"
          ]
         ],
         "opacity": 0.2,
         "surface": {
          "count": 15
         },
         "type": "volume",
         "uid": "6f08ee7b-630e-4e56-a5ce-e537335865b4",
         "value": [
          0.49676575755995234,
          0.8729968130855252,
          0.7399568368078142,
          0.6394852723404617,
          0.2478375883477424,
          0.2564385594405,
          0.8139200047465338,
          0.9695642527879182,
          0.599626282152502,
          0.22515226304504665,
          0.7952088475711864,
          0.6824544829814813,
          0.9033462225759623,
          0.2890329284914871,
          0.43531842968550727,
          0.0467690099228526,
          0.011272931551249199,
          0.3548179236707669,
          0.061682961212603304,
          0.32268744858608733,
          0.612610076861536,
          0.13183233418103502,
          0.12828003767477814,
          0.7223404830148771,
          0.8474631922963921,
          0.91033483089282,
          0.16563088335541043,
          0.6492160147684365,
          0.42267341965539107,
          0.5552589725283879,
          0.5697468394836142,
          0.26342100287081427,
          0.9255121391961451,
          0.9348739324643335,
          0.1281807442309424,
          0.6997976731280617,
          0.6915894369896993,
          0.8674223405445768,
          0.2074622258076232,
          0.9442700551190992,
          0.7091627160365633,
          0.5645756338905077,
          0.5701981459298172,
          0.6842071729853524,
          0.09316047121414506,
          0.4074255291156097,
          0.8587837155188165,
          0.7454419567557163,
          0.9817535822361156,
          0.5629003798288967,
          0.4044941896926335,
          0.08707532626853809,
          0.3239314194031243,
          0.08736099417639953,
          0.13482071938658113,
          0.6841391029134097,
          0.7187325151058674,
          0.7591509612496384,
          0.6355081271728417,
          0.4967131081900711,
          0.4597525622712876,
          0.699091192311906,
          0.49872236450721297,
          0.5931977267018399,
          0.3996673930381094,
          0.6833242009371764,
          0.9026246109739988,
          0.5206755107924956,
          0.31013008129942166,
          0.4901172655188709,
          0.3283544543269755,
          0.6804889841965985,
          0.9237409744534526,
          0.718511664966505,
          0.3740799693233533,
          0.14175581483785893,
          0.934658284282715,
          0.41094664067008013,
          0.06078022586136955,
          0.3241716948409147,
          0.6855182103601243,
          0.791956724627585,
          0.24114906784399193,
          0.02553746548771807,
          0.9828125225685977,
          0.06301507800776363,
          0.274735016707209,
          0.9165122617697924,
          0.7497675001814145,
          0.4872490479864958,
          0.4838901066236345,
          0.5595113402964581,
          0.3763034722865969,
          0.19372459110425166,
          0.4808819802317559,
          0.7716866866086959,
          0.38771467891777567,
          0.20364162750403736,
          0.9367636065633276,
          0.6779047907508915,
          0.9690456937452961,
          0.40686816517510216,
          0.9867819122002255,
          0.3908970024713604,
          0.49098354018185386,
          0.619262529418115,
          0.9691789921692843,
          0.40530611506541725,
          0.3138348262516414,
          0.17887408923149728,
          0.5198026883955458,
          0.7366051798253207,
          0.3355433109985376,
          0.7407252145594724,
          0.7528955590653588,
          0.022024069885931752,
          0.27831855772879277,
          0.3247626946007407,
          0.8159125268853172,
          0.034609498243303505,
          0.6990712604434345,
          0.70134128902816,
          0.5780502207871292,
          0.445869556828533,
          0.8187719006044948
         ],
         "x": [
          0,
          0,
          0,
          0,
          0,
          0,
          0,
          0,
          0,
          0,
          0,
          0,
          0,
          0,
          0,
          0,
          0,
          0,
          0,
          0,
          0,
          0,
          0,
          0,
          0,
          1,
          1,
          1,
          1,
          1,
          1,
          1,
          1,
          1,
          1,
          1,
          1,
          1,
          1,
          1,
          1,
          1,
          1,
          1,
          1,
          1,
          1,
          1,
          1,
          1,
          2,
          2,
          2,
          2,
          2,
          2,
          2,
          2,
          2,
          2,
          2,
          2,
          2,
          2,
          2,
          2,
          2,
          2,
          2,
          2,
          2,
          2,
          2,
          2,
          2,
          3,
          3,
          3,
          3,
          3,
          3,
          3,
          3,
          3,
          3,
          3,
          3,
          3,
          3,
          3,
          3,
          3,
          3,
          3,
          3,
          3,
          3,
          3,
          3,
          3,
          4,
          4,
          4,
          4,
          4,
          4,
          4,
          4,
          4,
          4,
          4,
          4,
          4,
          4,
          4,
          4,
          4,
          4,
          4,
          4,
          4,
          4,
          4,
          4,
          4
         ],
         "y": [
          0,
          0,
          0,
          0,
          0,
          1,
          1,
          1,
          1,
          1,
          2,
          2,
          2,
          2,
          2,
          3,
          3,
          3,
          3,
          3,
          4,
          4,
          4,
          4,
          4,
          0,
          0,
          0,
          0,
          0,
          1,
          1,
          1,
          1,
          1,
          2,
          2,
          2,
          2,
          2,
          3,
          3,
          3,
          3,
          3,
          4,
          4,
          4,
          4,
          4,
          0,
          0,
          0,
          0,
          0,
          1,
          1,
          1,
          1,
          1,
          2,
          2,
          2,
          2,
          2,
          3,
          3,
          3,
          3,
          3,
          4,
          4,
          4,
          4,
          4,
          0,
          0,
          0,
          0,
          0,
          1,
          1,
          1,
          1,
          1,
          2,
          2,
          2,
          2,
          2,
          3,
          3,
          3,
          3,
          3,
          4,
          4,
          4,
          4,
          4,
          0,
          0,
          0,
          0,
          0,
          1,
          1,
          1,
          1,
          1,
          2,
          2,
          2,
          2,
          2,
          3,
          3,
          3,
          3,
          3,
          4,
          4,
          4,
          4,
          4
         ],
         "z": [
          0,
          1,
          2,
          3,
          4,
          0,
          1,
          2,
          3,
          4,
          0,
          1,
          2,
          3,
          4,
          0,
          1,
          2,
          3,
          4,
          0,
          1,
          2,
          3,
          4,
          0,
          1,
          2,
          3,
          4,
          0,
          1,
          2,
          3,
          4,
          0,
          1,
          2,
          3,
          4,
          0,
          1,
          2,
          3,
          4,
          0,
          1,
          2,
          3,
          4,
          0,
          1,
          2,
          3,
          4,
          0,
          1,
          2,
          3,
          4,
          0,
          1,
          2,
          3,
          4,
          0,
          1,
          2,
          3,
          4,
          0,
          1,
          2,
          3,
          4,
          0,
          1,
          2,
          3,
          4,
          0,
          1,
          2,
          3,
          4,
          0,
          1,
          2,
          3,
          4,
          0,
          1,
          2,
          3,
          4,
          0,
          1,
          2,
          3,
          4,
          0,
          1,
          2,
          3,
          4,
          0,
          1,
          2,
          3,
          4,
          0,
          1,
          2,
          3,
          4,
          0,
          1,
          2,
          3,
          4,
          0,
          1,
          2,
          3,
          4
         ]
        }
       ],
       "layout": {
        "height": 489.99999999999994,
        "legend": {
         "orientation": "h",
         "traceorder": "normal",
         "x": 1,
         "xanchor": "right",
         "y": 1.02,
         "yanchor": "bottom"
        },
        "margin": {
         "b": 30,
         "l": 30,
         "r": 30,
         "t": 30
        },
        "scene": {
         "zaxis": {
          "tickmode": "array",
          "ticktext": [
           "负相关",
           "弱相关",
           "无相关",
           "正相关",
           "强相关"
          ],
          "tickvals": [
           0,
           1,
           2,
           3,
           4
          ]
         }
        },
        "template": {
         "data": {
          "bar": [
           {
            "error_x": {
             "color": "#2a3f5f"
            },
            "error_y": {
             "color": "#2a3f5f"
            },
            "marker": {
             "line": {
              "color": "#E5ECF6",
              "width": 0.5
             }
            },
            "type": "bar"
           }
          ],
          "barpolar": [
           {
            "marker": {
             "line": {
              "color": "#E5ECF6",
              "width": 0.5
             }
            },
            "type": "barpolar"
           }
          ],
          "carpet": [
           {
            "aaxis": {
             "endlinecolor": "#2a3f5f",
             "gridcolor": "white",
             "linecolor": "white",
             "minorgridcolor": "white",
             "startlinecolor": "#2a3f5f"
            },
            "baxis": {
             "endlinecolor": "#2a3f5f",
             "gridcolor": "white",
             "linecolor": "white",
             "minorgridcolor": "white",
             "startlinecolor": "#2a3f5f"
            },
            "type": "carpet"
           }
          ],
          "choropleth": [
           {
            "colorbar": {
             "outlinewidth": 0,
             "ticks": ""
            },
            "type": "choropleth"
           }
          ],
          "contour": [
           {
            "colorbar": {
             "outlinewidth": 0,
             "ticks": ""
            },
            "colorscale": [
             [
              0,
              "#0d0887"
             ],
             [
              0.1111111111111111,
              "#46039f"
             ],
             [
              0.2222222222222222,
              "#7201a8"
             ],
             [
              0.3333333333333333,
              "#9c179e"
             ],
             [
              0.4444444444444444,
              "#bd3786"
             ],
             [
              0.5555555555555556,
              "#d8576b"
             ],
             [
              0.6666666666666666,
              "#ed7953"
             ],
             [
              0.7777777777777778,
              "#fb9f3a"
             ],
             [
              0.8888888888888888,
              "#fdca26"
             ],
             [
              1,
              "#f0f921"
             ]
            ],
            "type": "contour"
           }
          ],
          "contourcarpet": [
           {
            "colorbar": {
             "outlinewidth": 0,
             "ticks": ""
            },
            "type": "contourcarpet"
           }
          ],
          "heatmap": [
           {
            "colorbar": {
             "outlinewidth": 0,
             "ticks": ""
            },
            "colorscale": [
             [
              0,
              "#0d0887"
             ],
             [
              0.1111111111111111,
              "#46039f"
             ],
             [
              0.2222222222222222,
              "#7201a8"
             ],
             [
              0.3333333333333333,
              "#9c179e"
             ],
             [
              0.4444444444444444,
              "#bd3786"
             ],
             [
              0.5555555555555556,
              "#d8576b"
             ],
             [
              0.6666666666666666,
              "#ed7953"
             ],
             [
              0.7777777777777778,
              "#fb9f3a"
             ],
             [
              0.8888888888888888,
              "#fdca26"
             ],
             [
              1,
              "#f0f921"
             ]
            ],
            "type": "heatmap"
           }
          ],
          "heatmapgl": [
           {
            "colorbar": {
             "outlinewidth": 0,
             "ticks": ""
            },
            "colorscale": [
             [
              0,
              "#0d0887"
             ],
             [
              0.1111111111111111,
              "#46039f"
             ],
             [
              0.2222222222222222,
              "#7201a8"
             ],
             [
              0.3333333333333333,
              "#9c179e"
             ],
             [
              0.4444444444444444,
              "#bd3786"
             ],
             [
              0.5555555555555556,
              "#d8576b"
             ],
             [
              0.6666666666666666,
              "#ed7953"
             ],
             [
              0.7777777777777778,
              "#fb9f3a"
             ],
             [
              0.8888888888888888,
              "#fdca26"
             ],
             [
              1,
              "#f0f921"
             ]
            ],
            "type": "heatmapgl"
           }
          ],
          "histogram": [
           {
            "marker": {
             "colorbar": {
              "outlinewidth": 0,
              "ticks": ""
             }
            },
            "type": "histogram"
           }
          ],
          "histogram2d": [
           {
            "colorbar": {
             "outlinewidth": 0,
             "ticks": ""
            },
            "colorscale": [
             [
              0,
              "#0d0887"
             ],
             [
              0.1111111111111111,
              "#46039f"
             ],
             [
              0.2222222222222222,
              "#7201a8"
             ],
             [
              0.3333333333333333,
              "#9c179e"
             ],
             [
              0.4444444444444444,
              "#bd3786"
             ],
             [
              0.5555555555555556,
              "#d8576b"
             ],
             [
              0.6666666666666666,
              "#ed7953"
             ],
             [
              0.7777777777777778,
              "#fb9f3a"
             ],
             [
              0.8888888888888888,
              "#fdca26"
             ],
             [
              1,
              "#f0f921"
             ]
            ],
            "type": "histogram2d"
           }
          ],
          "histogram2dcontour": [
           {
            "colorbar": {
             "outlinewidth": 0,
             "ticks": ""
            },
            "colorscale": [
             [
              0,
              "#0d0887"
             ],
             [
              0.1111111111111111,
              "#46039f"
             ],
             [
              0.2222222222222222,
              "#7201a8"
             ],
             [
              0.3333333333333333,
              "#9c179e"
             ],
             [
              0.4444444444444444,
              "#bd3786"
             ],
             [
              0.5555555555555556,
              "#d8576b"
             ],
             [
              0.6666666666666666,
              "#ed7953"
             ],
             [
              0.7777777777777778,
              "#fb9f3a"
             ],
             [
              0.8888888888888888,
              "#fdca26"
             ],
             [
              1,
              "#f0f921"
             ]
            ],
            "type": "histogram2dcontour"
           }
          ],
          "mesh3d": [
           {
            "colorbar": {
             "outlinewidth": 0,
             "ticks": ""
            },
            "type": "mesh3d"
           }
          ],
          "parcoords": [
           {
            "line": {
             "colorbar": {
              "outlinewidth": 0,
              "ticks": ""
             }
            },
            "type": "parcoords"
           }
          ],
          "pie": [
           {
            "automargin": true,
            "type": "pie"
           }
          ],
          "scatter": [
           {
            "marker": {
             "colorbar": {
              "outlinewidth": 0,
              "ticks": ""
             }
            },
            "type": "scatter"
           }
          ],
          "scatter3d": [
           {
            "line": {
             "colorbar": {
              "outlinewidth": 0,
              "ticks": ""
             }
            },
            "marker": {
             "colorbar": {
              "outlinewidth": 0,
              "ticks": ""
             }
            },
            "type": "scatter3d"
           }
          ],
          "scattercarpet": [
           {
            "marker": {
             "colorbar": {
              "outlinewidth": 0,
              "ticks": ""
             }
            },
            "type": "scattercarpet"
           }
          ],
          "scattergeo": [
           {
            "marker": {
             "colorbar": {
              "outlinewidth": 0,
              "ticks": ""
             }
            },
            "type": "scattergeo"
           }
          ],
          "scattergl": [
           {
            "marker": {
             "colorbar": {
              "outlinewidth": 0,
              "ticks": ""
             }
            },
            "type": "scattergl"
           }
          ],
          "scattermapbox": [
           {
            "marker": {
             "colorbar": {
              "outlinewidth": 0,
              "ticks": ""
             }
            },
            "type": "scattermapbox"
           }
          ],
          "scatterpolar": [
           {
            "marker": {
             "colorbar": {
              "outlinewidth": 0,
              "ticks": ""
             }
            },
            "type": "scatterpolar"
           }
          ],
          "scatterpolargl": [
           {
            "marker": {
             "colorbar": {
              "outlinewidth": 0,
              "ticks": ""
             }
            },
            "type": "scatterpolargl"
           }
          ],
          "scatterternary": [
           {
            "marker": {
             "colorbar": {
              "outlinewidth": 0,
              "ticks": ""
             }
            },
            "type": "scatterternary"
           }
          ],
          "surface": [
           {
            "colorbar": {
             "outlinewidth": 0,
             "ticks": ""
            },
            "colorscale": [
             [
              0,
              "#0d0887"
             ],
             [
              0.1111111111111111,
              "#46039f"
             ],
             [
              0.2222222222222222,
              "#7201a8"
             ],
             [
              0.3333333333333333,
              "#9c179e"
             ],
             [
              0.4444444444444444,
              "#bd3786"
             ],
             [
              0.5555555555555556,
              "#d8576b"
             ],
             [
              0.6666666666666666,
              "#ed7953"
             ],
             [
              0.7777777777777778,
              "#fb9f3a"
             ],
             [
              0.8888888888888888,
              "#fdca26"
             ],
             [
              1,
              "#f0f921"
             ]
            ],
            "type": "surface"
           }
          ],
          "table": [
           {
            "cells": {
             "fill": {
              "color": "#EBF0F8"
             },
             "line": {
              "color": "white"
             }
            },
            "header": {
             "fill": {
              "color": "#C8D4E3"
             },
             "line": {
              "color": "white"
             }
            },
            "type": "table"
           }
          ]
         },
         "layout": {
          "annotationdefaults": {
           "arrowcolor": "#2a3f5f",
           "arrowhead": 0,
           "arrowwidth": 1
          },
          "coloraxis": {
           "colorbar": {
            "outlinewidth": 0,
            "ticks": ""
           }
          },
          "colorscale": {
           "diverging": [
            [
             0,
             "#8e0152"
            ],
            [
             0.1,
             "#c51b7d"
            ],
            [
             0.2,
             "#de77ae"
            ],
            [
             0.3,
             "#f1b6da"
            ],
            [
             0.4,
             "#fde0ef"
            ],
            [
             0.5,
             "#f7f7f7"
            ],
            [
             0.6,
             "#e6f5d0"
            ],
            [
             0.7,
             "#b8e186"
            ],
            [
             0.8,
             "#7fbc41"
            ],
            [
             0.9,
             "#4d9221"
            ],
            [
             1,
             "#276419"
            ]
           ],
           "sequential": [
            [
             0,
             "#0d0887"
            ],
            [
             0.1111111111111111,
             "#46039f"
            ],
            [
             0.2222222222222222,
             "#7201a8"
            ],
            [
             0.3333333333333333,
             "#9c179e"
            ],
            [
             0.4444444444444444,
             "#bd3786"
            ],
            [
             0.5555555555555556,
             "#d8576b"
            ],
            [
             0.6666666666666666,
             "#ed7953"
            ],
            [
             0.7777777777777778,
             "#fb9f3a"
            ],
            [
             0.8888888888888888,
             "#fdca26"
            ],
            [
             1,
             "#f0f921"
            ]
           ],
           "sequentialminus": [
            [
             0,
             "#0d0887"
            ],
            [
             0.1111111111111111,
             "#46039f"
            ],
            [
             0.2222222222222222,
             "#7201a8"
            ],
            [
             0.3333333333333333,
             "#9c179e"
            ],
            [
             0.4444444444444444,
             "#bd3786"
            ],
            [
             0.5555555555555556,
             "#d8576b"
            ],
            [
             0.6666666666666666,
             "#ed7953"
            ],
            [
             0.7777777777777778,
             "#fb9f3a"
            ],
            [
             0.8888888888888888,
             "#fdca26"
            ],
            [
             1,
             "#f0f921"
            ]
           ]
          },
          "colorway": [
           "#1f77b4",
           "#ff7f0e",
           "#2ca02c",
           "#dc3912",
           "#9467bd",
           "#8c564b",
           "#e377c2",
           "#7f7f7f",
           "#bcbd22",
           "#17becf"
          ],
          "font": {
           "color": "#2a3f5f"
          },
          "geo": {
           "bgcolor": "white",
           "lakecolor": "white",
           "landcolor": "#E5ECF6",
           "showlakes": true,
           "showland": true,
           "subunitcolor": "white"
          },
          "hoverlabel": {
           "align": "left"
          },
          "hovermode": "closest",
          "mapbox": {
           "style": "light"
          },
          "paper_bgcolor": "white",
          "plot_bgcolor": "#E5ECF6",
          "polar": {
           "angularaxis": {
            "gridcolor": "white",
            "linecolor": "white",
            "ticks": ""
           },
           "bgcolor": "#E5ECF6",
           "radialaxis": {
            "gridcolor": "white",
            "linecolor": "white",
            "ticks": ""
           }
          },
          "scene": {
           "xaxis": {
            "backgroundcolor": "#E5ECF6",
            "gridcolor": "white",
            "gridwidth": 2,
            "linecolor": "white",
            "showbackground": true,
            "ticks": "",
            "zerolinecolor": "white"
           },
           "yaxis": {
            "backgroundcolor": "#E5ECF6",
            "gridcolor": "white",
            "gridwidth": 2,
            "linecolor": "white",
            "showbackground": true,
            "ticks": "",
            "zerolinecolor": "white"
           },
           "zaxis": {
            "backgroundcolor": "#E5ECF6",
            "gridcolor": "white",
            "gridwidth": 2,
            "linecolor": "white",
            "showbackground": true,
            "ticks": "",
            "zerolinecolor": "white"
           }
          },
          "shapedefaults": {
           "line": {
            "color": "#2a3f5f"
           }
          },
          "ternary": {
           "aaxis": {
            "gridcolor": "white",
            "linecolor": "white",
            "ticks": ""
           },
           "baxis": {
            "gridcolor": "white",
            "linecolor": "white",
            "ticks": ""
           },
           "bgcolor": "#E5ECF6",
           "caxis": {
            "gridcolor": "white",
            "linecolor": "white",
            "ticks": ""
           }
          },
          "title": {
           "x": 0.05
          },
          "xaxis": {
           "automargin": true,
           "gridcolor": "white",
           "linecolor": "white",
           "ticks": "",
           "title": {
            "standoff": 15
           },
           "zerolinecolor": "white",
           "zerolinewidth": 2
          },
          "yaxis": {
           "automargin": true,
           "gridcolor": "white",
           "linecolor": "white",
           "ticks": "",
           "title": {
            "standoff": 15
           },
           "zerolinecolor": "white",
           "zerolinewidth": 2
          }
         }
        },
        "width": 700
       }
      }
     },
     "metadata": {},
     "output_type": "display_data"
    }
   ],
   "source": [
    "import numpy as np\n",
    "\n",
    "risk_data = np.random.rand(5, 5, 5)  # 5x5x5的三维数据\n",
    "volume = Volume(\n",
    "    data=risk_data,\n",
    "    x_labels=['低风险', '中低风险', '中风险', '中高风险', '高风险'],\n",
    "    y_labels=['低收益', '中低收益', '中收益', '中高收益', '高收益'],\n",
    "    z_labels=['负相关', '弱相关', '无相关', '正相关', '强相关']\n",
    ")\n",
    "volume.fig.show()"
   ]
  }
 ],
 "metadata": {
  "kernelspec": {
   "display_name": "venv_vectorbt",
   "language": "python",
   "name": "python3"
  },
  "language_info": {
   "codemirror_mode": {
    "name": "ipython",
    "version": 3
   },
   "file_extension": ".py",
   "mimetype": "text/x-python",
   "name": "python",
   "nbconvert_exporter": "python",
   "pygments_lexer": "ipython3",
   "version": "3.13.2"
  }
 },
 "nbformat": 4,
 "nbformat_minor": 2
}
