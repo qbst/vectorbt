{
 "cells": [
  {
   "cell_type": "markdown",
   "metadata": {},
   "source": [
    "##\n",
    "```python\n",
    "class class_or_instancemethod(classmethod):\n",
    "    def __get__(self, instance: object, owner: tp.Optional[tp.Type] = None) -> tp.Any:\n",
    "        descr_get = super().__get__ if instance is None else self.__func__.__get__\n",
    "        return descr_get(instance, owner)\n",
    "```\n",
    "```python\n",
    "class ClassMethod:\n",
    "    \"Emulate PyClassMethod_Type() in Objects/funcobject.c\"\n",
    "\n",
    "    def __init__(self, f):\n",
    "        self.f = f\n",
    "\n",
    "    def __get__(self, obj, cls=None):\n",
    "        if cls is None:\n",
    "            cls = type(obj)\n",
    "        if hasattr(type(self.f), '__get__'):\n",
    "            # 将类对象绑定为第一个参数\n",
    "            return self.f.__get__(cls, type(cls))\n",
    "        return MethodType(self.f, cls)\n",
    "```\n",
    "\n",
    "## `<class 'function'>` 和 `<class 'method'>`"
   ]
  }
 ],
 "metadata": {
  "language_info": {
   "name": "python"
  }
 },
 "nbformat": 4,
 "nbformat_minor": 2
}
