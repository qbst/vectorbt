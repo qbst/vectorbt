{
 "cells": [
  {
   "cell_type": "markdown",
   "id": "b56dbfcc",
   "metadata": {},
   "source": [
    "# Python 知识"
   ]
  },
  {
   "cell_type": "markdown",
   "id": "2704ca63",
   "metadata": {},
   "source": [
    "## 异步编程\n",
    "异步编程是一种编程范式，允许程序在等待某些操作完成时继续执行其他任务，而不是被阻塞等待"
   ]
  },
  {
   "cell_type": "markdown",
   "id": "d40eaa2c",
   "metadata": {},
   "source": [
    "### 异步编程和多线程、多进程\n",
    "假设要开一家咖啡店，雇佣了 3 个员工，需要完成 “点单”、“制作咖啡” 和 “打包” 三个任务。\n",
    "- 多线程\n",
    "  - 员工都在同一个咖啡店（进程）里工作。这个店里只有一个吧台、一套设备和原料（共享内存和资源）。\n",
    "  - 员工 A 负责点单，员工 B 负责制作咖啡，员工C 负责打包。\n",
    "  - 当员工都想用同一台封口机（共享资源）时，他们就必须排队。一个人用的时候，另一个人必须等待。\n",
    "    - 为了避免混乱，你必须制定严格的规则（锁，Lock），比如“同一时间只有一个人能用封口机”。\n",
    "- 多进程\n",
    "  - 开 3 家完全独立的分店（进程）。每家分店都有自己的全套设备和原料（独立的内存空间）。\n",
    "  - 问题是：如果分店A发明了一个新配方（数据），想告诉分店 B，就必须通过公司的物流系统（进程间通信，IPC）来传递信息。\n",
    "    - 这个过程比在同一个店里沟通要慢得多，也更麻烦。\n",
    "- 异步\n",
    "  - 只雇佣了一个超人服务员（单线程），在一个吧台（一个CPU核心）工作。这个服务员有一个神奇的能力：\n",
    "    - 他为顾客 A 点单，然后把咖啡放到全自动咖啡机（I/O设备）里制作，这个过程需要2分钟。\n",
    "    - 他不会傻等，而是立刻去为顾客 B 点单，把他的咖啡也放进另一台机器。\n",
    "    - 然后他去为顾客 C 点单...\n",
    "  - 在这期间，他会不断地检查（事件循环）：“A的咖啡好了吗？” “B的好了吗？”\n",
    "    - 一旦 A 的咖啡机发出“叮”的一声（事件完成通知），他会马上停下手中的活，去给A打包。\n",
    "\n",
    "| 特性 | 多线程 (Threading) | 多进程 (Multiprocessing) | 异步 (Asyncio) |\n",
    "| :--- | :--- | :--- | :--- |\n",
    "| **核心思想** | 多个员工，共享一个吧台 | 开设多家独立分店 | 一个超人服务员，永不空闲 |\n",
    "| **CPU利用** | 单核（受限于GIL） | **多核并行**（无GIL问题） | 单核 |\n",
    "| **内存/资源** | 共享内存，开销较小 | **独立内存**，开销大 | 极小（单线程） |\n",
    "| **数据共享** | 简单（直接读写），但**危险** | 复杂（需IPC），但**安全** | 简单且安全（在单线程内） |\n",
    "| **切换成本** | 较低（操作系统线程切换） | 高（操作系统进程切换） | **极低**（函数调用级别） |\n",
    "| **编程模型** | 传统同步，但需处理锁 | 传统同步，但需处理IPC | `async/await`，有学习曲线 |\n",
    "| **适用场景** | I/O密集型，需共享状态 | **CPU密集型**（科学计算、数据处理） | **高并发I/O密集型**（Web服务、爬虫） |\n",
    "| **最大痛点** | **GIL**导致无法利用多核CPU | 资源开销大，进程间通信慢 | 无法利用多核，会被CPU密集任务**阻塞** |\n",
    "| **稳定性** | 较低（一个线程崩溃可能影响整个进程） | 高（进程间隔离） | 较高（单线程无竞争） |"
   ]
  },
  {
   "cell_type": "markdown",
   "id": "2b2b7c6e",
   "metadata": {},
   "source": [
    "### 生成器\n",
    "含有 `yield` 关键字的函数就是生成器：\n",
    "- 第一次 `next()` ：从函数开始执行到第一个 `yield`，返回 `yield` 的值，然后暂停\n",
    "- 后续 `next()`：从上一个 `yield` 的下一行开始，执行到下一个 `yield`，返回值，再次暂停\n",
    "- 最后一次：从最后一个 `yield` 后继续执行到函数结束，抛出 `StopIteration` 异常\n",
    "#### `send` 和 `* = yield ...`\n",
    "可以向生成器发送值。生成器内部的 `x = yield ...` 相当于两句：\n",
    "```python\n",
    "yield ...\n",
    "x = 接收的内容\n",
    "```\n",
    "当外界调用 `生成器.send(*)` 时，生成器内部执行 `yield ...` 后暂停在 `x = *`，于是下一次 `send` 时第一步就是 `x = *`，即生成器内部接收到了外部发送的内容。\n",
    "\n",
    "`next(生成器)` 等同于 `生成器.send(None)`。"
   ]
  },
  {
   "cell_type": "code",
   "execution_count": null,
   "id": "64bbf931",
   "metadata": {},
   "outputs": [],
   "source": [
    "def echo_generator():\n",
    "    \"\"\"回显生成器\"\"\"\n",
    "    value = None\n",
    "    while True:\n",
    "        value = yield value\n",
    "        if value is not None:\n",
    "            value = f\"Echo: {value}\"\n",
    "\n",
    "gen = echo_generator()\n",
    "next(gen)  # 启动生成器\n",
    "\n",
    "print(gen.send(\"Hello\"))      # Echo: Hello\n",
    "print(gen.send(\"World\"))      # Echo: World\n",
    "print(gen.send(123))          # Echo: 123"
   ]
  },
  {
   "cell_type": "markdown",
   "id": "ea6bd954",
   "metadata": {},
   "source": [
    "#### yield from\n",
    "可以在生成器内部将该生成器委托给另一个可迭代对象。"
   ]
  },
  {
   "cell_type": "code",
   "execution_count": null,
   "id": "44e7219f",
   "metadata": {},
   "outputs": [],
   "source": [
    "def inner_generator():\n",
    "    \"\"\"内部生成器\"\"\"\n",
    "    yield 1\n",
    "    yield 2\n",
    "    yield 3\n",
    "\n",
    "def outer_generator():\n",
    "    \"\"\"外部生成器\"\"\"\n",
    "    yield 'start'\n",
    "    yield from inner_generator()  # 委托给内部生成器\n",
    "    yield from range(4, 7)        # 委托给range对象\n",
    "    yield 'end'\n",
    "\n",
    "# 使用委托生成器\n",
    "for value in outer_generator():\n",
    "    print(value)"
   ]
  },
  {
   "cell_type": "markdown",
   "id": "e11e7a9e",
   "metadata": {},
   "source": [
    "#### 生成器的返回值\n",
    "最后一次 `yield` 后，会抛出 `StopIteration` 异常，`return` 的内容会保存在异常信息里。"
   ]
  },
  {
   "cell_type": "code",
   "execution_count": null,
   "id": "91a40afa",
   "metadata": {},
   "outputs": [],
   "source": [
    "def generator_with_return():\n",
    "    \"\"\"带返回值的生成器\"\"\"\n",
    "    yield 1\n",
    "    yield 2\n",
    "    return \"生成器结束\"\n",
    "\n",
    "gen = generator_with_return()\n",
    "try:\n",
    "    while True:\n",
    "        value = next(gen)\n",
    "        print(f\"生成的值: {value}\")\n",
    "except StopIteration as e:\n",
    "    print(f\"生成器返回值: {e.value}\")"
   ]
  },
  {
   "cell_type": "markdown",
   "id": "3351244b",
   "metadata": {},
   "source": [
    "### 协程"
   ]
  },
  {
   "cell_type": "markdown",
   "id": "2f2d9905",
   "metadata": {},
   "source": [
    "协程（Coroutine）：一种可暂停的函数。\n",
    "- 使用 `async def` 定义的函数就是一个**协程函数**。\n",
    "- 调用协程函数不会立即执行它，而是返回一个**协程对象**。"
   ]
  },
  {
   "cell_type": "markdown",
   "id": "4f4cc1c6",
   "metadata": {},
   "source": [
    "#### `async` 和 `await` 关键字\n",
    "`async def`：用于定义一个协程函数。\n",
    "\n",
    "`await`：\n",
    "- `await` 关键字只能在 `async def` 函数内部使用。\n",
    "- 后面通常跟着一个可等待对象（Awaitable），比如另一个协程对象、任务（Task）或者 Future。"
   ]
  },
  {
   "cell_type": "markdown",
   "id": "e0b34a79",
   "metadata": {},
   "source": [
    "### `asyncio` 模块：事件循环和任务"
   ]
  },
  {
   "cell_type": "markdown",
   "id": "bf7c25b5",
   "metadata": {},
   "source": [
    "事件循环（Event Loop）的作用是\n",
    "1. 监听和分发**事件**或**任务**。\n",
    "2. 运行协程，当遇到 await 时暂停它。\n",
    "3. 在协程暂停期间，去运行其他可以运行的协程。\n",
    "4. 当暂停的协程所等待的操作完成后，再把它恢复执行。\n",
    "\n",
    "`asyncio.run(coroutine)` 会自动创建和管理事件循环，并在协程执行完毕后关闭它。\n"
   ]
  },
  {
   "cell_type": "markdown",
   "id": "07084a6e",
   "metadata": {},
   "source": [
    "任务（Task）\n",
    "- 任务是协程的包装器，会被事件**循环**调度执行\n",
    "- 如果想让多个协程并发（看起来像同时）执行，需要把它们包装成任务（Task）。\n",
    "- `asyncio.create_task(coroutine)` 可以创建一个任务\n"
   ]
  },
  {
   "cell_type": "code",
   "execution_count": null,
   "id": "c66f29ed",
   "metadata": {},
   "outputs": [],
   "source": [
    "import asyncio\n",
    "import time\n",
    "\n",
    "async def fetch_data(source, delay):\n",
    "    \"\"\"模拟从不同数据源获取数据\"\"\"\n",
    "    print(f\"开始从 {source} 获取数据...\")\n",
    "    await asyncio.sleep(delay)\n",
    "    print(f\"完成从 {source} 获取数据\")\n",
    "    return f\"来自 {source} 的数据\"\n",
    "\n",
    "async def main():\n",
    "    \"\"\"并发执行任务的主协程\"\"\"\n",
    "    start_time = time.time()\n",
    "    \n",
    "    print(\"开始并发执行任务\")\n",
    "    \n",
    "    # 创建任务，任务会立刻被事件循环调度执行\n",
    "    task1 = asyncio.create_task(fetch_data(\"API 1\", 2))\n",
    "    task2 = asyncio.create_task(fetch_data(\"数据库\", 1))\n",
    "    \n",
    "    # 现在，task1和task2已经在后台并发运行了\n",
    "    print(\"任务已创建，主协程可以做点别的事情...\")\n",
    "    await asyncio.sleep(0.5)\n",
    "    print(\"主协程做完别的事情了，现在等待任务结果\")\n",
    "    \n",
    "    # 使用await等待任务完成并获取结果\n",
    "    result1 = await task1\n",
    "    result2 = await task2\n",
    "    \n",
    "    print(f\"任务1结果: {result1}\")\n",
    "    print(f\"任务2结果: {result2}\")\n",
    "    \n",
    "    end_time = time.time()\n",
    "    # 总耗时取决于最长的那个任务\n",
    "    print(f\"总耗时: {end_time - start_time:.2f} 秒\")\n",
    "\n",
    "# asyncio.run(main())\n",
    "# 在Jupyter中直接使用await，因为Jupyter环境中已经有一个运行中的时间循环\n",
    "await main()"
   ]
  },
  {
   "cell_type": "markdown",
   "id": "0bc6e9e6",
   "metadata": {},
   "source": [
    "### `asyncio.gather`\n",
    "并发执行一组任务，并等待它们全部完成后再继续。\n",
    "\n",
    "例子：包括两层并发\n",
    "- 内层并发：对于每一只股票，get_stock_price_data 和 get_recent_news 是并发执行的。\n",
    "- 外层并发：对 TSLA 的处理和对 AAPL 的处理也是并发执行的。"
   ]
  },
  {
   "cell_type": "code",
   "execution_count": null,
   "id": "3a879004",
   "metadata": {},
   "outputs": [],
   "source": [
    "import asyncio\n",
    "import httpx # 一个支持异步的HTTP客户端库\n",
    "from pygooglenews import GoogleNews\n",
    "\n",
    "stock_list = [\"TSLA\", \"AAPL\"]\n",
    "\n",
    "async def get_stock_price_data(client, stock):\n",
    "    \"\"\"异步获取股票价格\"\"\"\n",
    "    print(f\"开始获取 {stock} 的股价...\")\n",
    "    url = f'https://finance.yahoo.com/quote/{stock}'\n",
    "    response = await client.get(url)\n",
    "    # 这里省略了解析HTML的复杂代码\n",
    "    print(f\"完成获取 {stock} 的股价\")\n",
    "    return f\"{stock} 价格数据\"\n",
    "\n",
    "async def get_recent_news(stock):\n",
    "    \"\"\"异步获取新闻\"\"\"\n",
    "    print(f\"开始获取 {stock} 的新闻...\")\n",
    "    gn = GoogleNews()\n",
    "    # 对于不支持async的库，可以使用run_in_executor\n",
    "    loop = asyncio.get_event_loop()\n",
    "    search = await loop.run_in_executor(None, gn.search, f\"stocks {stock}\", '24h')\n",
    "    print(f\"完成获取 {stock} 的新闻\")\n",
    "    return f\"{stock} 新闻数据\"\n",
    "\n",
    "async def process_stock_batch(client, stock):\n",
    "    \"\"\"处理单个股票的所有数据获取任务\"\"\"\n",
    "    print(f\"--- 开始处理批次: {stock} ---\")\n",
    "    \n",
    "    # 使用gather并发获取价格和新闻\n",
    "    data, news = await asyncio.gather(\n",
    "        get_stock_price_data(client, stock),\n",
    "        get_recent_news(stock)\n",
    "    )\n",
    "    \n",
    "    # 两个都完成后，才执行打印\n",
    "    print(f\"--- 完成处理批次: {stock} ---\")\n",
    "    print(f\"  -> 价格: {data}\")\n",
    "    print(f\"  -> 新闻: {news}\\n\")\n",
    "\n",
    "async def process_all_stocks():\n",
    "    \"\"\"处理所有股票\"\"\"\n",
    "    async with httpx.AsyncClient() as client:\n",
    "        # 为每只股票创建一个处理任务\n",
    "        tasks = [process_stock_batch(client, stock) for stock in stock_list]\n",
    "        # 并发执行所有股票的处理任务\n",
    "        await asyncio.gather(*tasks)\n",
    "\n",
    "# 运行\n",
    "await process_all_stocks()"
   ]
  },
  {
   "cell_type": "markdown",
   "id": "3f2e7f82",
   "metadata": {},
   "source": [
    "## schedule 库"
   ]
  },
  {
   "cell_type": "markdown",
   "id": "fa9f6884",
   "metadata": {},
   "source": [
    "`schedule` 是一个纯 Python 实现的、无外部依赖的进程内任务调度库。其主要功能是安排周期性任务。\n",
    "\n",
    "其使用通常分为三步：\n",
    "- 定义要执行的任务：一个函数 `func`\n",
    "- 使用 `schedule.every(...).时间单位.do(func, func 的参数)` 来创建 `job`（此时还未运行）\n",
    "  - `every()` 的作用是创建一个设置了执行间隔的 `job` 对象，这个对象还需要进一步配置时间单位。\n",
    "  - `do()` 的作用是将具体的任务函数绑定到  `job` 上，完成最终配置。\n",
    "- 写一个无限循环，在循环中调用 `schedule.run_pending()` 检查是否有 `job` 到期，如果到期则执行该 `job`"
   ]
  },
  {
   "cell_type": "code",
   "execution_count": null,
   "id": "3c96ab92",
   "metadata": {},
   "outputs": [],
   "source": [
    "import schedule\n",
    "import time\n",
    "import datetime\n",
    "\n",
    "def greet(name):\n",
    "    now = datetime.datetime.now().strftime(\"%H:%M:%S\")\n",
    "    print(f\"[{now}] Hello, {name}!\")\n",
    "\n",
    "def report_status():\n",
    "    now = datetime.datetime.now().strftime(\"%H:%M:%S\")\n",
    "    print(f\"[{now}] 系统状态正常。\")\n",
    "\n",
    "# 每2秒执行一次 greet，并传递参数\n",
    "schedule.every(2).seconds.do(greet, name=\"Alice\")\n",
    "\n",
    "# 每5秒执行一次 report_status\n",
    "schedule.every(5).seconds.do(report_status)\n",
    "\n",
    "# 每天的 \"10:30\" 执行 greet\n",
    "schedule.every().day.at(\"10:30\").do(greet, name=\"Bob from daily job\")\n",
    "\n",
    "try:\n",
    "    while True:\n",
    "        # 检查是否有任务到期需要运行\n",
    "        schedule.run_pending()\n",
    "        # 等待1秒，避免CPU空转\n",
    "        time.sleep(1)\n",
    "except KeyboardInterrupt:\n",
    "    print(\"\\n程序被用户终止。\")\n"
   ]
  },
  {
   "cell_type": "markdown",
   "id": "49cc6eab",
   "metadata": {},
   "source": [
    "### 取消任务 `schedule.cancel_job`"
   ]
  },
  {
   "cell_type": "code",
   "execution_count": null,
   "id": "e6a87c15",
   "metadata": {},
   "outputs": [],
   "source": [
    "import schedule\n",
    "import time\n",
    "\n",
    "def unstoppable_job():\n",
    "    print(\"这个任务停不下来！\")\n",
    "\n",
    "job = schedule.every().second.do(unstoppable_job)\n",
    "\n",
    "start_time = time.time()\n",
    "while time.time() - start_time < 5.5:\n",
    "    schedule.run_pending()\n",
    "    time.sleep(1)\n",
    "\n",
    "# 运行了大约5秒后，取消这个任务\n",
    "print(\"\\n准备取消任务...\")\n",
    "schedule.cancel_job(job)\n",
    "print(\"任务已取消。\")"
   ]
  },
  {
   "cell_type": "markdown",
   "id": "ce62729f",
   "metadata": {},
   "source": [
    "### 给任务打上标签 `.tag`"
   ]
  },
  {
   "cell_type": "code",
   "execution_count": null,
   "id": "a483a1e3",
   "metadata": {},
   "outputs": [],
   "source": [
    "def report_metrics(): print(\"报告指标...\")\n",
    "def log_activity(): print(\"记录活动...\")\n",
    "def cleanup_temp_files(): print(\"清理临时文件...\")\n",
    "\n",
    "# 为任务打上标签\n",
    "schedule.every().second.do(report_metrics).tag('monitoring', 'reports')\n",
    "schedule.every(5).seconds.do(log_activity).tag('monitoring')\n",
    "schedule.every().minute.do(cleanup_temp_files).tag('housekeeping')\n",
    "\n",
    "# 获取所有带 'monitoring' 标签的任务\n",
    "monitoring_jobs = schedule.get_jobs('monitoring')\n",
    "print(f\"监控任务: {monitoring_jobs}\")"
   ]
  },
  {
   "cell_type": "markdown",
   "id": "db70c9fe",
   "metadata": {},
   "source": [
    "### 查看所有任务 `schedule.jobs`"
   ]
  },
  {
   "cell_type": "code",
   "execution_count": null,
   "id": "20833239",
   "metadata": {},
   "outputs": [],
   "source": [
    "print(\"当前所有已安排的任务:\")\n",
    "for job in schedule.jobs:\n",
    "    print(job)"
   ]
  },
  {
   "cell_type": "markdown",
   "id": "9e1d3d5a",
   "metadata": {},
   "source": [
    "### 任务自取消 `schedule.CancelJob`\n",
    "如果一个任务在某种条件下不想再继续运行，它可以返回 `schedule.CancelJob` 来将自己从调度中移除。"
   ]
  },
  {
   "cell_type": "code",
   "execution_count": null,
   "id": "ce23bee3",
   "metadata": {},
   "outputs": [],
   "source": [
    "import schedule\n",
    "import time\n",
    "\n",
    "counter = 0\n",
    "\n",
    "def job_that_runs_3_times():\n",
    "    global counter\n",
    "    counter += 1\n",
    "    print(f\"任务执行第 {counter} 次。\")\n",
    "    if counter >= 3:\n",
    "        print(\"任务完成，将自行取消。\")\n",
    "        return schedule.CancelJob\n",
    "\n",
    "schedule.every().second.do(job_that_runs_3_times)\n",
    "\n",
    "while schedule.jobs: # 当还有任务在调度中时继续循环\n",
    "    schedule.run_pending()\n",
    "    time.sleep(1)\n",
    "\n",
    "print(\"调度列表中已没有任务，程序结束。\")"
   ]
  },
  {
   "cell_type": "markdown",
   "id": "e0fe5e2c",
   "metadata": {},
   "source": [
    "## `while True: pass` 和 `while True: time.sleep(1)`\n",
    "| 特性 | `while True: pass` | `while True: time.sleep(1)` |\n",
    "| :--- | :--- | :--- |\n",
    "| **核心原理** | 忙碌等待 (Busy-Waiting) | 阻塞/睡眠 (Blocking/Sleeping) |\n",
    "| **CPU占用率** | **极高** (通常接近100%占满一个核心) | **极低** (接近0%) |\n",
    "| **能源消耗** | 高，导致设备发热，笔记本电脑耗电快 | 低，非常节能 |\n",
    "| **对操作系统的影响** | 抢占CPU资源，可能导致其他应用变慢 | 将CPU资源让给其他应用，对系统友好 |\n",
    "| **线程状态** | 持续处于**运行态 (Running)** | 在**运行态 (Running)** 和 **阻塞态 (Blocked/Sleeping)** 之间切换 |\n",
    "| **与操作系统的交互** | 极少，仅在时间片切换时被动交互 | 频繁，通过**系统调用 (System Call)** 主动请求状态转换 |\n",
    "| **适用场景** | 极少。仅用于某些底层同步或需要纳秒级精度的自旋锁（Spinlock）场景 | 绝大多数需要定时、轮询、等待的场景，如定时任务、心跳检测、服务器后台循环等 |\n",
    "| **代码效率** | 效率极低，浪费计算资源 | 效率高，合理利用系统资源 |"
   ]
  },
  {
   "cell_type": "markdown",
   "id": "417c3dfd",
   "metadata": {},
   "source": [
    "# 代码设计"
   ]
  },
  {
   "cell_type": "markdown",
   "id": "aa7e90eb",
   "metadata": {},
   "source": [
    "## 类继承关系"
   ]
  },
  {
   "cell_type": "markdown",
   "id": "b22b4624",
   "metadata": {},
   "source": [
    "```mermaid\n",
    "classDiagram\n",
    "    %% 元类层次结构\n",
    "    class asyncio.CancelledError\n",
    "    class Job\n",
    "    class Scheduler\n",
    "    class CancelledError\n",
    "    class AsyncJob\n",
    "    class AsyncScheduler\n",
    "    class ScheduleManager\n",
    "    \n",
    "    %% 继承关系\n",
    "    asyncio.CancelledError <|-- CancelledError\n",
    "    Job <|-- AsyncJob\n",
    "    Scheduler <|-- AsyncScheduler\n",
    "    ScheduleManager o-- AsyncScheduler : has\n",
    "```\n",
    "异步任务调度管理模块，主要用于：\n",
    "1. 定期数据获取和更新（如股价数据、新闻数据等）\n",
    "2. 策略定时执行（如每日交易信号生成）\n",
    "3. 报告和监控任务（如风险监控、绩效报告）\n",
    "4. 系统维护任务（如数据清理、缓存更新）"
   ]
  },
  {
   "cell_type": "markdown",
   "id": "ebae6d67",
   "metadata": {},
   "source": [
    "## class CancelledError(asyncio.CancelledError)"
   ]
  },
  {
   "cell_type": "markdown",
   "id": "10490350",
   "metadata": {},
   "source": [
    "任务取消异常类，继承自 asyncio.CancelledError，用于标识任务取消事件。\n",
    "```python\n",
    "class CancelledError(asyncio.CancelledError):\n",
    "    pass\n",
    "```\n",
    "\n",
    "例如："
   ]
  },
  {
   "cell_type": "code",
   "execution_count": null,
   "id": "59f74059",
   "metadata": {},
   "outputs": [],
   "source": [
    "import vectorbt as vbt\n",
    "\n",
    "async def risky_task():\n",
    "    try:\n",
    "        # 执行可能需要取消的任务\n",
    "        await asyncio.sleep(10)\n",
    "    except vbt.CancelledError:\n",
    "        print(\"任务被用户取消\")\n",
    "        # 清理资源\n",
    "        await asyncio.sleep(10)\n",
    "        raise  # 重新抛出异常"
   ]
  },
  {
   "cell_type": "markdown",
   "id": "4a272967",
   "metadata": {},
   "source": [
    "## `class AsyncJob(Job)` 和 `class AsyncScheduler(Scheduler)`\n",
    "`AsyncJob` 继承了 `schedule` 库中的任务类型 `Job`，用来支持异步任务。\n",
    "\n",
    "`AsyncScheduler` 继承了 `schedule` 库中的调度器类型 `Scheduler`，用来支持异步调度。\n",
    "- `.async_run_pending(self)` 类似于 `schedule` 的 `.run_pending()`，但是是异步执行。\n",
    "- `.async_run_all(self, delay_seconds: int = 0)` 立即异步执行所有任务，`delay_seconds` 用于控制每个任务启动的间隔。"
   ]
  },
  {
   "cell_type": "markdown",
   "id": "f6d032f8",
   "metadata": {},
   "source": [
    "```python\n",
    "class AsyncJob(Job):\n",
    "    async def async_run(self) -> tp.Any:\n",
    "        logger.info('Running job %s', self)\n",
    "        ret = self.job_func()\n",
    "        if inspect.isawaitable(ret):\n",
    "            ret = await ret\n",
    "        self.last_run = datetime.now()\n",
    "        self._schedule_next_run()\n",
    "        return ret\n",
    "\n",
    "class AsyncScheduler(Scheduler):\n",
    "    async def async_run_pending(self) -> None:\n",
    "        runnable_jobs = (job for job in self.jobs if job.should_run)\n",
    "        await asyncio.gather(*[self._async_run_job(job) for job in runnable_jobs])\n",
    "\n",
    "    async def async_run_all(self, delay_seconds: int = 0) -> None:\n",
    "        logger.info('Running *all* %i jobs with %is delay in-between',\n",
    "                    len(self.jobs), delay_seconds)\n",
    "        for job in self.jobs[:]:\n",
    "            await self._async_run_job(job)\n",
    "            await asyncio.sleep(delay_seconds)\n",
    "\n",
    "    async def _async_run_job(self, job: AsyncJob) -> None:\n",
    "        ret = await job.async_run()\n",
    "        if isinstance(ret, CancelJob) or ret is CancelJob:\n",
    "            self.cancel_job(job)\n",
    "\n",
    "    def every(self, interval: int = 1) -> AsyncJob:\n",
    "        job = AsyncJob(interval, self)\n",
    "        return job\n",
    "```"
   ]
  },
  {
   "cell_type": "markdown",
   "id": "36798503",
   "metadata": {},
   "source": [
    "例如："
   ]
  },
  {
   "cell_type": "code",
   "execution_count": null,
   "id": "ac7d8c5b",
   "metadata": {},
   "outputs": [],
   "source": [
    "import asyncio\n",
    "import vectorbt as vbt\n",
    "\n",
    "# 定义异步任务函数\n",
    "async def fetch_stock_data(symbol):\n",
    "    print(f\"开始获取{symbol}的数据...\")\n",
    "    # 模拟异步API调用\n",
    "    await asyncio.sleep(2)  # 模拟网络延迟\n",
    "    print(f\"完成获取{symbol}的数据\")\n",
    "    return f\"{symbol}数据\"\n",
    "\n",
    "# 创建调度器并添加任务\n",
    "scheduler = vbt.AsyncScheduler()\n",
    "\n",
    "# 添加每分钟执行的数据获取任务\n",
    "scheduler.every(1).do(fetch_stock_data, 'AAPL')\n",
    "scheduler.every(1).do(fetch_stock_data, 'GOOG')\n",
    "scheduler.every(5).do(fetch_stock_data, 'MSFT')\n",
    "\n",
    "# 执行所有到期任务\n",
    "async def main_loop():\n",
    "    while True:\n",
    "        \n",
    "        await scheduler.async_run_pending()\n",
    "        # 等待1秒后再次检查\n",
    "        await asyncio.sleep(1)\n",
    "\n",
    "# 或者使用 scheduler.async_run_all()，即执行所有任务\n",
    "await scheduler.async_run_all()\n",
    "\n",
    "await main_loop()"
   ]
  },
  {
   "cell_type": "markdown",
   "id": "9a812000",
   "metadata": {},
   "source": [
    "## ScheduleManager"
   ]
  },
  {
   "cell_type": "markdown",
   "id": "b3b92989",
   "metadata": {},
   "source": [
    "### `__init__`\n",
    "```python\n",
    "def __init__(self, scheduler: tp.Optional[AsyncScheduler] = None) -> None:\n",
    "    if scheduler is None:\n",
    "        scheduler = AsyncScheduler()\n",
    "    checks.assert_instance_of(scheduler, AsyncScheduler)\n",
    "\n",
    "    # 私有属性，存储异步调度器实例\n",
    "    self._scheduler = scheduler\n",
    "    self._async_task = None\n",
    "```"
   ]
  },
  {
   "cell_type": "markdown",
   "id": "fb4f8390",
   "metadata": {},
   "source": [
    "### every\n",
    "生成设置了时间相关参数的 `AsyncJob` 对象。\n",
    "\n",
    "参数：\n",
    "- `*args`: 变长参数，按顺序可包含：\n",
    "    - `interval` (int/timedelta): 执行间隔\n",
    "        * 整数：表示时间间隔的数量\n",
    "        * timedelta：表示具体的时间间隔\n",
    "    - `unit` (str): 时间单位\n",
    "        * 'second'/'seconds': 秒\n",
    "        * 'minute'/'minutes': 分钟\n",
    "        * 'hour'/'hours': 小时\n",
    "        * 'day'/'days': 天\n",
    "        * 'week'/'weeks': 周\n",
    "    - `start_day` (str): 起始日期\n",
    "        * 'monday'到'sunday': 具体的星期\n",
    "    - `at` (str/time): 执行时间\n",
    "        * 字符串格式：'HH:MM', 'HH:MM:SS', ':MM', ':MM:SS'\n",
    "        * 时间对象：datetime.time实例\n",
    "- `to` (int, optional): 随机间隔的上限，创建随机间隔任务\n",
    "    - 与interval参数配合使用\n",
    "    - 任务将在interval到to之间的随机时间执行\n",
    "    - 用于避免多个任务同时执行造成的资源竞争\n",
    "- `tags` (Iterable[Hashable], optional): 任务标签，用于分类和批量管理\n",
    "    - 可以是单个标签或标签列表\n",
    "    - 支持任何可哈希的对象作为标签\n",
    "    - 用于任务分组、批量操作等"
   ]
  },
  {
   "cell_type": "markdown",
   "id": "d1be4308",
   "metadata": {},
   "source": [
    "### start\n",
    "启动一个无限循环来持续检查和执行到期的任务。\n",
    "会阻塞当前线程，直到收到中断信号（如 Ctrl+C ）或程序异常退出。"
   ]
  },
  {
   "cell_type": "markdown",
   "id": "69755c6e",
   "metadata": {},
   "source": [
    "```python\n",
    "def start(self, sleep: int = 1) -> None:\n",
    "    logger.info(\"Starting schedule manager with jobs %s\", str(self.scheduler.jobs))\n",
    "    try:\n",
    "        while True:\n",
    "            self.scheduler.run_pending()\n",
    "            time.sleep(sleep)\n",
    "    except (KeyboardInterrupt, asyncio.CancelledError):\n",
    "        logger.info(\"Stopping schedule manager\")\n",
    "```"
   ]
  },
  {
   "cell_type": "markdown",
   "id": "ada0a425",
   "metadata": {},
   "source": [
    "### async_start\n",
    "相较于 `start`，区别是异步执行到期的任务，并且该函数自身也是异步，即不会阻塞当前线程。"
   ]
  },
  {
   "cell_type": "markdown",
   "id": "d47b0a53",
   "metadata": {},
   "source": [
    "```python\n",
    "async def async_start(self, sleep: int = 1) -> None:\n",
    "    logger.info(\"Starting schedule manager in the background with jobs %s\", str(self.scheduler.jobs))\n",
    "    logger.info(\"Jobs: %s\", str(self.scheduler.jobs))\n",
    "    try:\n",
    "        while True:\n",
    "            await self.scheduler.async_run_pending()\n",
    "            await asyncio.sleep(sleep)\n",
    "    except asyncio.CancelledError:\n",
    "        logger.info(\"Stopping schedule manager\")\n",
    "```"
   ]
  },
  {
   "cell_type": "markdown",
   "id": "4dd17f03",
   "metadata": {},
   "source": [
    "### done_callback\n",
    "`async_start` 完成后的回调函数，参考 `start_in_background`，实际使用时应当重新定义后重新设置给 `self.done_callback`。"
   ]
  },
  {
   "cell_type": "markdown",
   "id": "6363463c",
   "metadata": {},
   "source": [
    "```python\n",
    "def done_callback(self, async_task: asyncio.Task) -> None:\n",
    "    logger.info(async_task)\n",
    "```"
   ]
  },
  {
   "cell_type": "markdown",
   "id": "01cab656",
   "metadata": {},
   "source": [
    "### start_in_background\n",
    "创建异步任务 `async_start`，也就是不仅各任务不会阻塞，当前线程也不会阻塞。\n",
    "- 该任务完成时，会自动调用回调函数 `self.done_callback`。\n",
    "- 记录任务 `async_start` 到日志 `logger`。\n",
    "- 保存 `async_start` 到 `self._async_task`。"
   ]
  },
  {
   "cell_type": "markdown",
   "id": "fbad1f9f",
   "metadata": {},
   "source": [
    "```python\n",
    "def start_in_background(self, **kwargs) -> None:\n",
    "    async_task = asyncio.create_task(self.async_start(**kwargs))\n",
    "    async_task.add_done_callback(self.done_callback)\n",
    "    logger.info(async_task)\n",
    "    self._async_task = async_task\n",
    "```"
   ]
  },
  {
   "cell_type": "markdown",
   "id": "35c49dc9",
   "metadata": {},
   "source": [
    "### async_task_running\n",
    "检查异步任务 `self.async_task` 是否存在且未完成。"
   ]
  },
  {
   "cell_type": "markdown",
   "id": "4c83153e",
   "metadata": {},
   "source": [
    "```python\n",
    "@property\n",
    "def async_task_running(self) -> bool:\n",
    "    return self.async_task is not None and not self.async_task.done()\n",
    "```"
   ]
  },
  {
   "cell_type": "markdown",
   "id": "ae01e8dd",
   "metadata": {},
   "source": [
    "### stop\n",
    "停止异步任务 `self.async_task`。"
   ]
  },
  {
   "cell_type": "markdown",
   "id": "01cf9be2",
   "metadata": {},
   "source": [
    "```python\n",
    "def stop(self) -> None:\n",
    "    if self.async_task_running:\n",
    "        self.async_task.cancel()\n",
    "```"
   ]
  },
  {
   "cell_type": "markdown",
   "id": "e8ec19db",
   "metadata": {},
   "source": [
    "### 源码"
   ]
  },
  {
   "cell_type": "markdown",
   "id": "287dda0f",
   "metadata": {},
   "source": [
    "```python\n",
    "class ScheduleManager:\n",
    "\n",
    "    units: tp.ClassVar[tp.Tuple[str, ...]] = (\n",
    "        \"second\",\n",
    "        \"seconds\",\n",
    "        \"minute\",\n",
    "        \"minutes\",\n",
    "        \"hour\",\n",
    "        \"hours\",\n",
    "        \"day\",\n",
    "        \"days\",\n",
    "        \"week\",\n",
    "        \"weeks\"\n",
    "    )\n",
    "\n",
    "    weekdays: tp.ClassVar[tp.Tuple[str, ...]] = (\n",
    "        \"monday\",\n",
    "        \"tuesday\",\n",
    "        \"wednesday\",\n",
    "        \"thursday\",\n",
    "        \"friday\",\n",
    "        \"saturday\",\n",
    "        \"sunday\",\n",
    "    )\n",
    "\n",
    "    def __init__(self, scheduler: tp.Optional[AsyncScheduler] = None) -> None:\n",
    "        if scheduler is None:\n",
    "            scheduler = AsyncScheduler()\n",
    "        checks.assert_instance_of(scheduler, AsyncScheduler)\n",
    "\n",
    "        # 私有属性，存储异步调度器实例\n",
    "        self._scheduler = scheduler\n",
    "        self._async_task = None\n",
    "\n",
    "    @property\n",
    "    def scheduler(self) -> AsyncScheduler:\n",
    "        return self._scheduler\n",
    "\n",
    "    @property\n",
    "    def async_task(self) -> tp.Optional[asyncio.Task]:\n",
    "        return self._async_task\n",
    "\n",
    "    def every(self, *args, to: tp.Optional[int] = None,\n",
    "              tags: tp.Optional[tp.Iterable[tp.Hashable]] = None) -> AsyncJob:\n",
    "        # Parse arguments\n",
    "        interval = 1\n",
    "        unit = None\n",
    "        start_day = None\n",
    "        at = None\n",
    "\n",
    "        def _is_arg_interval(arg):\n",
    "            return isinstance(arg, (int, timedelta))\n",
    "\n",
    "        def _is_arg_unit(arg):\n",
    "            return isinstance(arg, str) and arg in self.units\n",
    "\n",
    "        def _is_arg_start_day(arg):\n",
    "            return isinstance(arg, str) and arg in self.weekdays\n",
    "\n",
    "        def _is_arg_at(arg):\n",
    "            return (isinstance(arg, str) and ':' in arg) or isinstance(arg, dt_time)\n",
    "\n",
    "        expected_args = ['interval', 'unit', 'start_day', 'at']\n",
    "        for i, arg in enumerate(args):\n",
    "            if 'interval' in expected_args and _is_arg_interval(arg):\n",
    "                interval = arg\n",
    "                expected_args = expected_args[expected_args.index('interval') + 1:]\n",
    "                continue\n",
    "            if 'unit' in expected_args and _is_arg_unit(arg):\n",
    "                unit = arg\n",
    "                expected_args = expected_args[expected_args.index('unit') + 1:]\n",
    "                continue\n",
    "            if 'start_day' in expected_args and _is_arg_start_day(arg):\n",
    "                start_day = arg\n",
    "                expected_args = expected_args[expected_args.index('start_day') + 1:]\n",
    "                continue\n",
    "            if 'at' in expected_args and _is_arg_at(arg):\n",
    "                at = arg\n",
    "                expected_args = expected_args[expected_args.index('at') + 1:]\n",
    "                continue\n",
    "            raise ValueError(f\"Arg at index {i} is unexpected\")\n",
    "\n",
    "        if at is not None:\n",
    "            if unit is None and start_day is None:\n",
    "                unit = 'days'\n",
    "        if unit is None and start_day is None:\n",
    "            unit = 'seconds'\n",
    "\n",
    "        job = self.scheduler.every(interval)\n",
    "        if unit is not None:\n",
    "            job = getattr(job, unit)\n",
    "        if start_day is not None:\n",
    "            job = getattr(job, start_day)\n",
    "        if at is not None:\n",
    "            if isinstance(at, dt_time):\n",
    "                if job.unit == \"days\" or job.start_day:\n",
    "                    if at.tzinfo is not None:\n",
    "                        at = tzaware_to_naive_time(at, None)\n",
    "                at = at.isoformat()\n",
    "                if job.unit == \"hours\":\n",
    "                    at = ':'.join(at.split(':')[1:])\n",
    "                if job.unit == \"minutes\":\n",
    "                    at = ':' + at.split(':')[2]\n",
    "            job = job.at(at)\n",
    "        if to is not None:\n",
    "            job = job.to(to)\n",
    "        if tags is not None:\n",
    "            if not isinstance(tags, tuple):\n",
    "                tags = (tags,)\n",
    "            job = job.tag(*tags)\n",
    "\n",
    "        return job\n",
    "\n",
    "    def start(self, sleep: int = 1) -> None:\n",
    "        logger.info(\"Starting schedule manager with jobs %s\", str(self.scheduler.jobs))\n",
    "        try:\n",
    "            while True:\n",
    "                self.scheduler.run_pending()\n",
    "                time.sleep(sleep)\n",
    "        except (KeyboardInterrupt, asyncio.CancelledError):\n",
    "            logger.info(\"Stopping schedule manager\")\n",
    "\n",
    "    async def async_start(self, sleep: int = 1) -> None:\n",
    "        logger.info(\"Starting schedule manager in the background with jobs %s\", str(self.scheduler.jobs))\n",
    "        logger.info(\"Jobs: %s\", str(self.scheduler.jobs))\n",
    "        try:\n",
    "            while True:\n",
    "                await self.scheduler.async_run_pending()\n",
    "                await asyncio.sleep(sleep)\n",
    "        except asyncio.CancelledError:\n",
    "            logger.info(\"Stopping schedule manager\")\n",
    "\n",
    "    def done_callback(self, async_task: asyncio.Task) -> None:\n",
    "        logger.info(async_task)\n",
    "\n",
    "    def start_in_background(self, **kwargs) -> None:\n",
    "        async_task = asyncio.create_task(self.async_start(**kwargs))\n",
    "        async_task.add_done_callback(self.done_callback)\n",
    "        logger.info(async_task)\n",
    "        self._async_task = async_task\n",
    "\n",
    "    @property\n",
    "    def async_task_running(self) -> bool:\n",
    "        return self.async_task is not None and not self.async_task.done()\n",
    "\n",
    "    def stop(self) -> None:\n",
    "        if self.async_task_running:\n",
    "            self.async_task.cancel()\n",
    "```"
   ]
  }
 ],
 "metadata": {
  "kernelspec": {
   "display_name": "venv_vectorbt",
   "language": "python",
   "name": "python3"
  },
  "language_info": {
   "codemirror_mode": {
    "name": "ipython",
    "version": 3
   },
   "file_extension": ".py",
   "mimetype": "text/x-python",
   "name": "python",
   "nbconvert_exporter": "python",
   "pygments_lexer": "ipython3",
   "version": "3.13.2"
  }
 },
 "nbformat": 4,
 "nbformat_minor": 5
}
