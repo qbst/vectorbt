{
 "cells": [
  {
   "cell_type": "markdown",
   "metadata": {},
   "source": [
    "# 类继承关系\n",
    "```mermaid\n",
    "classDiagram\n",
    "    class _Figure\n",
    "    class FigureMixin\n",
    "    class _FigureWidget\n",
    "\n",
    "    class Figure\n",
    "    class FigureWidget\n",
    "    \n",
    "    _Figure <|-- Figure\n",
    "    FigureMixin <|-- Figure\n",
    "    _FigureWidget <|-- FigureWidget\n",
    "    FigureMixin <|-- FigureWidget\n",
    "```"
   ]
  }
 ],
 "metadata": {
  "language_info": {
   "name": "python"
  }
 },
 "nbformat": 4,
 "nbformat_minor": 2
}
