{
 "cells": [
  {
   "cell_type": "markdown",
   "id": "a254f196",
   "metadata": {},
   "source": [
    "# Python 知识"
   ]
  },
  {
   "cell_type": "markdown",
   "id": "2878d7a2",
   "metadata": {},
   "source": [
    "# 代码设计"
   ]
  },
  {
   "cell_type": "markdown",
   "id": "66d73c7a",
   "metadata": {},
   "source": [
    "## 类继承关系\n",
    "```mermaid\n",
    "classDiagram\n",
    "    %% 元类层次结构\n",
    "    class Configured\n",
    "    class DataUpdater\n",
    "    class ScheduleManager\n",
    "    class Data\n",
    "    \n",
    "    %% 继承关系\n",
    "    Configured <|-- DataUpdater\n",
    "    DataUpdater o-- ScheduleManager: has\n",
    "    DataUpdater o-- Data: has\n",
    "```"
   ]
  },
  {
   "cell_type": "markdown",
   "id": "3cf12ab3",
   "metadata": {},
   "source": [
    "## class DataUpdater(Configured)\n",
    "用于实现金融数据的定期更新和实时维护。包含：\n",
    "- `self._data`：`Data` 实例，存储和管理实际的金融数据。\n",
    "- `self._schedule_manager`: `ScheduleManager` 实例，负责任务调度和时间管理。"
   ]
  },
  {
   "cell_type": "markdown",
   "id": "c65844e3",
   "metadata": {},
   "source": [
    "### `__init__`"
   ]
  },
  {
   "cell_type": "markdown",
   "id": "47706197",
   "metadata": {},
   "source": [
    "```python\n",
    "def __init__(self, data: Data, schedule_manager: tp.Optional[ScheduleManager] = None, **kwargs) -> None:\n",
    "    Configured.__init__(\n",
    "        self,\n",
    "        data=data,\n",
    "        schedule_manager=schedule_manager,\n",
    "        **kwargs\n",
    "    )\n",
    "    self._data = data\n",
    "    if schedule_manager is None:\n",
    "        schedule_manager = ScheduleManager()\n",
    "    self._schedule_manager = schedule_manager\n",
    "```"
   ]
  },
  {
   "cell_type": "markdown",
   "id": "385c0bd5",
   "metadata": {},
   "source": [
    "### update\n",
    "数据更新，子类可以重新定义。\n",
    "- 调用数据 `self._data` 的 `update` 方法执行实际的数据更新。\n",
    "- 更新 `Configured` 的配置。\n",
    "- 获取更新后的时间索引 `self.data.wrapper.index`，并记录到日志系统 `logger`。"
   ]
  },
  {
   "cell_type": "markdown",
   "id": "05379193",
   "metadata": {},
   "source": [
    "```python\n",
    "def update(self, **kwargs) -> None:\n",
    "    self._data = self.data.update(**kwargs)\n",
    "    self.update_config(data=self.data)\n",
    "    new_index = self.data.wrapper.index\n",
    "    logger.info(f\"Updated data has {len(new_index)} rows from {new_index[0]} to {new_index[-1]}\")\n",
    "```"
   ]
  },
  {
   "cell_type": "markdown",
   "id": "7b6f08a9",
   "metadata": {},
   "source": [
    "### update_every\n",
    "使用 `self._schedule_manager` 来执行定期数据更新。\n",
    "\n",
    "参数；\n",
    "- `*args`: 时间间隔参数，传递给 ScheduleManager.every()\n",
    "- `to` (int, optional): 结束条件，指定最大执行次数\n",
    "  - 例如：to=10 表示最多执行10次后自动停止\n",
    "- `tags` (Iterable[Hashable], optional): 任务标签列表，用于标识和管理特定的更新任务组\n",
    "  - 例如：tags=['stock_update', 'real_time']\n",
    "- `in_background` (bool, optional): 是否在后台执行，默认False\n",
    "    - True: 异步后台执行，不阻塞主线程\n",
    "    - False: 同步前台执行，阻塞主线程直到完成\n",
    "- `start_kwargs` (dict, optional): 传递给调度管理器start方法的参数\n",
    "    常用参数：\n",
    "    - max_workers: 最大工作线程数\n",
    "    - timeout: 任务超时时间\n",
    "- `**kwargs`: 传递给update方法的参数\n",
    "    这些参数会在每次更新时传递给数据源的update方法"
   ]
  },
  {
   "cell_type": "markdown",
   "id": "ee931747",
   "metadata": {},
   "source": [
    "```python\n",
    "def update_every(self, *args, to: int = None, tags: tp.Optional[tp.Iterable[tp.Hashable]] = None,\n",
    "                    in_background: bool = False, start_kwargs: dict = None, **kwargs) -> None:\n",
    "    if start_kwargs is None:\n",
    "        start_kwargs = {}\n",
    "    self.schedule_manager.every(*args, to=to, tags=tags).do(self.update, **kwargs)\n",
    "    if in_background:\n",
    "        self.schedule_manager.start_in_background(**start_kwargs)\n",
    "    else:\n",
    "        self.schedule_manager.start(**start_kwargs)\n",
    "```"
   ]
  },
  {
   "cell_type": "markdown",
   "id": "d70cbb14",
   "metadata": {},
   "source": [
    "### 例子"
   ]
  },
  {
   "cell_type": "markdown",
   "id": "e0ee5a6a",
   "metadata": {},
   "source": [
    "```python\n",
    "class MultiSourceUpdater(vbt.DataUpdater):\n",
    "    def __init__(self, data_sources, **kwargs):\n",
    "        # data_sources是包含多个Data实例的字典\n",
    "        self.data_sources = data_sources\n",
    "        super().__init__(list(data_sources.values())[0], **kwargs)\n",
    "        \n",
    "    def update(self, **kwargs):\n",
    "        print(\"开始更新多个数据源...\")\n",
    "        \n",
    "        for name, data_instance in self.data_sources.items():\n",
    "            try:\n",
    "                # 更新每个数据源\n",
    "                updated_data = data_instance.update(**kwargs)\n",
    "                print(f\"✓ {name} 更新成功\")\n",
    "            except Exception as e:\n",
    "                print(f\"✗ {name} 更新失败: {e}\")\n",
    "\n",
    "# 创建多个数据源\n",
    "data_sources = {\n",
    "    'stocks': vbt.YFData.download(['AAPL', 'GOOGL', 'MSFT'], period='1d'),\n",
    "    'crypto': vbt.BinanceData.download(['BTCUSDT', 'ETHUSDT'], \n",
    "                                        start='1 hour ago', interval='1m'),\n",
    "    'synthetic': vbt.GBMData.download('TEST', start='1 hour ago', freq='1min')\n",
    "}\n",
    "\n",
    "# 创建多源更新器\n",
    "multi_updater = MultiSourceUpdater(data_sources)\n",
    "\n",
    "# 每5分钟更新所有数据源\n",
    "multi_updater.update_every(5).minutes.tag('multi_update')\n",
    "```"
   ]
  },
  {
   "cell_type": "markdown",
   "id": "298d91a8",
   "metadata": {},
   "source": [
    "### 源码\n",
    "```python\n",
    "class DataUpdater(Configured):\n",
    "    def __init__(self, data: Data, schedule_manager: tp.Optional[ScheduleManager] = None, **kwargs) -> None:\n",
    "        Configured.__init__(\n",
    "            self,\n",
    "            data=data,\n",
    "            schedule_manager=schedule_manager,\n",
    "            **kwargs\n",
    "        )\n",
    "        self._data = data\n",
    "        if schedule_manager is None:\n",
    "            schedule_manager = ScheduleManager()\n",
    "        self._schedule_manager = schedule_manager\n",
    "\n",
    "    @property\n",
    "    def data(self) -> Data:\n",
    "        return self._data\n",
    "\n",
    "    @property\n",
    "    def schedule_manager(self) -> ScheduleManager:\n",
    "        return self._schedule_manager\n",
    "\n",
    "    def update(self, **kwargs) -> None:\n",
    "        self._data = self.data.update(**kwargs)\n",
    "        self.update_config(data=self.data)\n",
    "        new_index = self.data.wrapper.index\n",
    "        logger.info(f\"Updated data has {len(new_index)} rows from {new_index[0]} to {new_index[-1]}\")\n",
    "\n",
    "    def update_every(self, *args, to: int = None, tags: tp.Optional[tp.Iterable[tp.Hashable]] = None,\n",
    "                     in_background: bool = False, start_kwargs: dict = None, **kwargs) -> None:\n",
    "        if start_kwargs is None:\n",
    "            start_kwargs = {}\n",
    "        self.schedule_manager.every(*args, to=to, tags=tags).do(self.update, **kwargs)\n",
    "        if in_background:\n",
    "            self.schedule_manager.start_in_background(**start_kwargs)\n",
    "        else:\n",
    "            self.schedule_manager.start(**start_kwargs)\n",
    "```"
   ]
  }
 ],
 "metadata": {
  "language_info": {
   "name": "python"
  }
 },
 "nbformat": 4,
 "nbformat_minor": 5
}
