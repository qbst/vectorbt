{
 "cells": [
  {
   "cell_type": "markdown",
   "metadata": {},
   "source": [
    "# 包 `tqdm`\n",
    "\n",
    "`tqdm` 是Python中一个进度条库，可以为任何可迭代对象包装一个智能进度条。\n",
    "\n",
    "`tqdm` 本质上是一个类，其构造函数包含众多参数，包括：\n",
    "- `iterable`: 可迭代对象（如列表、生成器等）\n",
    "- `desc`: 字符串，进度条前的描述文本\n",
    "- `total`: 预期的迭代总数，默认为None\n",
    "- `leave`: 布尔值，是否保留进度条的最终状态（默认True）\n",
    "- `ncols`: 整数，进度条的显示宽度\n",
    "- `mininterval`: 浮点数，最小更新间隔（秒），默认0.1秒\n",
    "- `maxinterval`: 浮点数，最大更新间隔（秒），默认10秒\n",
    "- `ascii`: 布尔值，是否使用ASCII字符显示\n",
    "- `disable`: 布尔值，是否禁用进度条显示\n",
    "- `unit`: 字符串，进度单位，默认为'it'（iterations）\n",
    "\n",
    "例子：\n",
    "```python\n",
    "from tqdm import tqdm\n",
    "import time\n",
    "\n",
    "for i in tqdm(range(100), \n",
    "              desc=\"处理中\", \n",
    "              unit=\"文件\", \n",
    "              unit_scale=True):\n",
    "    time.sleep(0.01)\n",
    "```"
   ]
  }
 ],
 "metadata": {
  "language_info": {
   "name": "python"
  }
 },
 "nbformat": 4,
 "nbformat_minor": 2
}
